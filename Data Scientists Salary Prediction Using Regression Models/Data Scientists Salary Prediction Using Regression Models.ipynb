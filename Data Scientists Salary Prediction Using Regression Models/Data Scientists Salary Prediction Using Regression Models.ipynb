{
 "cells": [
  {
   "cell_type": "markdown",
   "id": "68fbf75f",
   "metadata": {},
   "source": [
    "\n",
    "## Development of predictive regression model for Data Scientist jobs salaries \n",
    "\n",
    "## Pavel Makarov\n",
    "\n",
    "### 2024-01-21"
   ]
  },
  {
   "cell_type": "markdown",
   "id": "2c4c3b27",
   "metadata": {},
   "source": [
    "\n",
    "### In recent years, the increase of data worldwide has been exponential. Simultaneously, the enhancement of computational power has enabled the extraction of meaningful insights from the vast amounts of data. Over the past decade, the field of data science has evolved into a highly sought-after profession. Virtually every company now has an open position for a Data Scientist, reflecting the growing recognition of the value these professionals bring.\n",
    "\n",
    "### This surge in demand is not only evident in the increasing number of job opportunities but is also reflected in the upward trajectory of salaries for both data scientists and data engineers. The intersection of business and data science is particularly intriguing, with platforms like LinkedIn leveraging this data boom to monitor skill trends and salary fluctuations. Similarly, companies offering learning courses are utilizing this wealth of information to tailor their offerings, ensuring that they equip individuals with the skills in highest demand, thus facilitating lucrative job placements.\n",
    "\n",
    "### For me, as a begginer data scientist, there is a personal interest in navigating this dynamic landscape. I am keen to identify the specific areas and skills that will not only maximize my earning potential but also streamline my job search. With this objective in mind, I embark on a project to develop a predictive model for salary estimation based on skills and job titles. \n",
    "\n",
    "### The data set I am using to build a model has information about different job titles, information about the companies, what skills the job requires and estimated salaries. I want to try different models including - regression models, decision trees and potentially Neural Networks to acces their perofrance on this specififc task. The goal is to generate a model for salary prediction based on the skills, industry and job location."
   ]
  },
  {
   "cell_type": "markdown",
   "id": "cd724f71",
   "metadata": {},
   "source": [
    "#### For the first step the Exploratory data analysis will be performed to analyise the features of this data set"
   ]
  },
  {
   "cell_type": "code",
   "execution_count": 1,
   "id": "d217fd4c",
   "metadata": {},
   "outputs": [],
   "source": [
    "# Import all required libraries\n",
    "import pandas as pd\n",
    "import matplotlib.pyplot as plt \n",
    "import seaborn as sns \n",
    "from sklearn.linear_model import LinearRegression\n",
    "from sklearn.metrics import r2_score"
   ]
  },
  {
   "cell_type": "code",
   "execution_count": 2,
   "id": "479c0f90",
   "metadata": {},
   "outputs": [],
   "source": [
    "# Load the csv file and assign it to df variable\n",
    "df = pd.read_csv('data_cleaned_2021.csv')"
   ]
  },
  {
   "cell_type": "code",
   "execution_count": 3,
   "id": "9acdc83f",
   "metadata": {},
   "outputs": [
    {
     "data": {
      "text/html": [
       "<div>\n",
       "<style scoped>\n",
       "    .dataframe tbody tr th:only-of-type {\n",
       "        vertical-align: middle;\n",
       "    }\n",
       "\n",
       "    .dataframe tbody tr th {\n",
       "        vertical-align: top;\n",
       "    }\n",
       "\n",
       "    .dataframe thead th {\n",
       "        text-align: right;\n",
       "    }\n",
       "</style>\n",
       "<table border=\"1\" class=\"dataframe\">\n",
       "  <thead>\n",
       "    <tr style=\"text-align: right;\">\n",
       "      <th></th>\n",
       "      <th>index</th>\n",
       "      <th>Job Title</th>\n",
       "      <th>Salary Estimate</th>\n",
       "      <th>Job Description</th>\n",
       "      <th>Rating</th>\n",
       "      <th>Company Name</th>\n",
       "      <th>Location</th>\n",
       "      <th>Headquarters</th>\n",
       "      <th>Size</th>\n",
       "      <th>Founded</th>\n",
       "      <th>...</th>\n",
       "      <th>tensor</th>\n",
       "      <th>hadoop</th>\n",
       "      <th>tableau</th>\n",
       "      <th>bi</th>\n",
       "      <th>flink</th>\n",
       "      <th>mongo</th>\n",
       "      <th>google_an</th>\n",
       "      <th>job_title_sim</th>\n",
       "      <th>seniority_by_title</th>\n",
       "      <th>Degree</th>\n",
       "    </tr>\n",
       "  </thead>\n",
       "  <tbody>\n",
       "    <tr>\n",
       "      <th>0</th>\n",
       "      <td>0</td>\n",
       "      <td>Data Scientist</td>\n",
       "      <td>$53K-$91K (Glassdoor est.)</td>\n",
       "      <td>Data Scientist\\nLocation: Albuquerque, NM\\nEdu...</td>\n",
       "      <td>3.8</td>\n",
       "      <td>Tecolote Research\\n3.8</td>\n",
       "      <td>Albuquerque, NM</td>\n",
       "      <td>Goleta, CA</td>\n",
       "      <td>501 - 1000</td>\n",
       "      <td>1973</td>\n",
       "      <td>...</td>\n",
       "      <td>0</td>\n",
       "      <td>0</td>\n",
       "      <td>1</td>\n",
       "      <td>1</td>\n",
       "      <td>0</td>\n",
       "      <td>0</td>\n",
       "      <td>0</td>\n",
       "      <td>data scientist</td>\n",
       "      <td>na</td>\n",
       "      <td>M</td>\n",
       "    </tr>\n",
       "    <tr>\n",
       "      <th>1</th>\n",
       "      <td>1</td>\n",
       "      <td>Healthcare Data Scientist</td>\n",
       "      <td>$63K-$112K (Glassdoor est.)</td>\n",
       "      <td>What You Will Do:\\n\\nI. General Summary\\n\\nThe...</td>\n",
       "      <td>3.4</td>\n",
       "      <td>University of Maryland Medical System\\n3.4</td>\n",
       "      <td>Linthicum, MD</td>\n",
       "      <td>Baltimore, MD</td>\n",
       "      <td>10000+</td>\n",
       "      <td>1984</td>\n",
       "      <td>...</td>\n",
       "      <td>0</td>\n",
       "      <td>0</td>\n",
       "      <td>0</td>\n",
       "      <td>0</td>\n",
       "      <td>0</td>\n",
       "      <td>0</td>\n",
       "      <td>0</td>\n",
       "      <td>data scientist</td>\n",
       "      <td>na</td>\n",
       "      <td>M</td>\n",
       "    </tr>\n",
       "    <tr>\n",
       "      <th>2</th>\n",
       "      <td>2</td>\n",
       "      <td>Data Scientist</td>\n",
       "      <td>$80K-$90K (Glassdoor est.)</td>\n",
       "      <td>KnowBe4, Inc. is a high growth information sec...</td>\n",
       "      <td>4.8</td>\n",
       "      <td>KnowBe4\\n4.8</td>\n",
       "      <td>Clearwater, FL</td>\n",
       "      <td>Clearwater, FL</td>\n",
       "      <td>501 - 1000</td>\n",
       "      <td>2010</td>\n",
       "      <td>...</td>\n",
       "      <td>0</td>\n",
       "      <td>0</td>\n",
       "      <td>0</td>\n",
       "      <td>0</td>\n",
       "      <td>0</td>\n",
       "      <td>0</td>\n",
       "      <td>0</td>\n",
       "      <td>data scientist</td>\n",
       "      <td>na</td>\n",
       "      <td>M</td>\n",
       "    </tr>\n",
       "    <tr>\n",
       "      <th>3</th>\n",
       "      <td>3</td>\n",
       "      <td>Data Scientist</td>\n",
       "      <td>$56K-$97K (Glassdoor est.)</td>\n",
       "      <td>*Organization and Job ID**\\nJob ID: 310709\\n\\n...</td>\n",
       "      <td>3.8</td>\n",
       "      <td>PNNL\\n3.8</td>\n",
       "      <td>Richland, WA</td>\n",
       "      <td>Richland, WA</td>\n",
       "      <td>1001 - 5000</td>\n",
       "      <td>1965</td>\n",
       "      <td>...</td>\n",
       "      <td>0</td>\n",
       "      <td>0</td>\n",
       "      <td>0</td>\n",
       "      <td>0</td>\n",
       "      <td>0</td>\n",
       "      <td>0</td>\n",
       "      <td>0</td>\n",
       "      <td>data scientist</td>\n",
       "      <td>na</td>\n",
       "      <td>na</td>\n",
       "    </tr>\n",
       "    <tr>\n",
       "      <th>4</th>\n",
       "      <td>4</td>\n",
       "      <td>Data Scientist</td>\n",
       "      <td>$86K-$143K (Glassdoor est.)</td>\n",
       "      <td>Data Scientist\\nAffinity Solutions / Marketing...</td>\n",
       "      <td>2.9</td>\n",
       "      <td>Affinity Solutions\\n2.9</td>\n",
       "      <td>New York, NY</td>\n",
       "      <td>New York, NY</td>\n",
       "      <td>51 - 200</td>\n",
       "      <td>1998</td>\n",
       "      <td>...</td>\n",
       "      <td>0</td>\n",
       "      <td>0</td>\n",
       "      <td>0</td>\n",
       "      <td>0</td>\n",
       "      <td>0</td>\n",
       "      <td>0</td>\n",
       "      <td>0</td>\n",
       "      <td>data scientist</td>\n",
       "      <td>na</td>\n",
       "      <td>na</td>\n",
       "    </tr>\n",
       "    <tr>\n",
       "      <th>5</th>\n",
       "      <td>5</td>\n",
       "      <td>Data Scientist</td>\n",
       "      <td>$71K-$119K (Glassdoor est.)</td>\n",
       "      <td>CyrusOne is seeking a talented Data Scientist ...</td>\n",
       "      <td>3.4</td>\n",
       "      <td>CyrusOne\\n3.4</td>\n",
       "      <td>Dallas, TX</td>\n",
       "      <td>Dallas, TX</td>\n",
       "      <td>201 - 500</td>\n",
       "      <td>2000</td>\n",
       "      <td>...</td>\n",
       "      <td>0</td>\n",
       "      <td>0</td>\n",
       "      <td>0</td>\n",
       "      <td>1</td>\n",
       "      <td>0</td>\n",
       "      <td>1</td>\n",
       "      <td>0</td>\n",
       "      <td>data scientist</td>\n",
       "      <td>na</td>\n",
       "      <td>na</td>\n",
       "    </tr>\n",
       "    <tr>\n",
       "      <th>6</th>\n",
       "      <td>6</td>\n",
       "      <td>Data Scientist</td>\n",
       "      <td>$54K-$93K (Glassdoor est.)</td>\n",
       "      <td>Job Description\\n\\n**Please only local candida...</td>\n",
       "      <td>4.1</td>\n",
       "      <td>ClearOne Advantage\\n4.1</td>\n",
       "      <td>Baltimore, MD</td>\n",
       "      <td>Baltimore, MD</td>\n",
       "      <td>501 - 1000</td>\n",
       "      <td>2008</td>\n",
       "      <td>...</td>\n",
       "      <td>0</td>\n",
       "      <td>0</td>\n",
       "      <td>0</td>\n",
       "      <td>0</td>\n",
       "      <td>0</td>\n",
       "      <td>0</td>\n",
       "      <td>0</td>\n",
       "      <td>data scientist</td>\n",
       "      <td>na</td>\n",
       "      <td>na</td>\n",
       "    </tr>\n",
       "    <tr>\n",
       "      <th>7</th>\n",
       "      <td>7</td>\n",
       "      <td>Data Scientist</td>\n",
       "      <td>$86K-$142K (Glassdoor est.)</td>\n",
       "      <td>Advanced Analytics – Lead Data Scientist\\nOver...</td>\n",
       "      <td>3.8</td>\n",
       "      <td>Logic20/20\\n3.8</td>\n",
       "      <td>San Jose, CA</td>\n",
       "      <td>Seattle, WA</td>\n",
       "      <td>201 - 500</td>\n",
       "      <td>2005</td>\n",
       "      <td>...</td>\n",
       "      <td>1</td>\n",
       "      <td>0</td>\n",
       "      <td>0</td>\n",
       "      <td>0</td>\n",
       "      <td>0</td>\n",
       "      <td>0</td>\n",
       "      <td>0</td>\n",
       "      <td>data scientist</td>\n",
       "      <td>na</td>\n",
       "      <td>M</td>\n",
       "    </tr>\n",
       "    <tr>\n",
       "      <th>8</th>\n",
       "      <td>8</td>\n",
       "      <td>Research Scientist</td>\n",
       "      <td>$38K-$84K (Glassdoor est.)</td>\n",
       "      <td>SUMMARY\\n\\nThe Research Scientist I will be ta...</td>\n",
       "      <td>3.3</td>\n",
       "      <td>Rochester Regional Health\\n3.3</td>\n",
       "      <td>Rochester, NY</td>\n",
       "      <td>Rochester, NY</td>\n",
       "      <td>10000+</td>\n",
       "      <td>2014</td>\n",
       "      <td>...</td>\n",
       "      <td>0</td>\n",
       "      <td>0</td>\n",
       "      <td>0</td>\n",
       "      <td>0</td>\n",
       "      <td>0</td>\n",
       "      <td>0</td>\n",
       "      <td>0</td>\n",
       "      <td>other scientist</td>\n",
       "      <td>na</td>\n",
       "      <td>P</td>\n",
       "    </tr>\n",
       "    <tr>\n",
       "      <th>9</th>\n",
       "      <td>9</td>\n",
       "      <td>Data Scientist</td>\n",
       "      <td>$120K-$160K (Glassdoor est.)</td>\n",
       "      <td>isn’t your usual company. Our work is powered ...</td>\n",
       "      <td>4.6</td>\n",
       "      <td>&lt;intent&gt;\\n4.6</td>\n",
       "      <td>New York, NY</td>\n",
       "      <td>New York, NY</td>\n",
       "      <td>51 - 200</td>\n",
       "      <td>2009</td>\n",
       "      <td>...</td>\n",
       "      <td>0</td>\n",
       "      <td>0</td>\n",
       "      <td>0</td>\n",
       "      <td>0</td>\n",
       "      <td>0</td>\n",
       "      <td>0</td>\n",
       "      <td>0</td>\n",
       "      <td>data scientist</td>\n",
       "      <td>na</td>\n",
       "      <td>na</td>\n",
       "    </tr>\n",
       "    <tr>\n",
       "      <th>10</th>\n",
       "      <td>10</td>\n",
       "      <td>Data Scientist</td>\n",
       "      <td>$126K-$201K (Glassdoor est.)</td>\n",
       "      <td>At Wish, our Data Science &amp; Engineering team i...</td>\n",
       "      <td>3.5</td>\n",
       "      <td>Wish\\n3.5</td>\n",
       "      <td>San Jose, CA</td>\n",
       "      <td>San Francisco, CA</td>\n",
       "      <td>501 - 1000</td>\n",
       "      <td>2011</td>\n",
       "      <td>...</td>\n",
       "      <td>0</td>\n",
       "      <td>0</td>\n",
       "      <td>0</td>\n",
       "      <td>0</td>\n",
       "      <td>0</td>\n",
       "      <td>0</td>\n",
       "      <td>0</td>\n",
       "      <td>data scientist</td>\n",
       "      <td>na</td>\n",
       "      <td>na</td>\n",
       "    </tr>\n",
       "    <tr>\n",
       "      <th>11</th>\n",
       "      <td>11</td>\n",
       "      <td>Data Scientist</td>\n",
       "      <td>$64K-$106K (Glassdoor est.)</td>\n",
       "      <td>Secure our Nation, Ignite your Future\\n\\nSumma...</td>\n",
       "      <td>4.1</td>\n",
       "      <td>ManTech\\n4.1</td>\n",
       "      <td>Chantilly, VA</td>\n",
       "      <td>Herndon, VA</td>\n",
       "      <td>5001 - 10000</td>\n",
       "      <td>1968</td>\n",
       "      <td>...</td>\n",
       "      <td>0</td>\n",
       "      <td>1</td>\n",
       "      <td>0</td>\n",
       "      <td>0</td>\n",
       "      <td>0</td>\n",
       "      <td>0</td>\n",
       "      <td>0</td>\n",
       "      <td>data scientist</td>\n",
       "      <td>na</td>\n",
       "      <td>na</td>\n",
       "    </tr>\n",
       "    <tr>\n",
       "      <th>12</th>\n",
       "      <td>12</td>\n",
       "      <td>Staff Data Scientist - Technology</td>\n",
       "      <td>$106K-$172K (Glassdoor est.)</td>\n",
       "      <td>Position Summary...\\nDrives the execution of m...</td>\n",
       "      <td>3.2</td>\n",
       "      <td>Walmart\\n3.2</td>\n",
       "      <td>Plano, TX</td>\n",
       "      <td>Bentonville, AR</td>\n",
       "      <td>10000+</td>\n",
       "      <td>1962</td>\n",
       "      <td>...</td>\n",
       "      <td>0</td>\n",
       "      <td>1</td>\n",
       "      <td>0</td>\n",
       "      <td>0</td>\n",
       "      <td>0</td>\n",
       "      <td>0</td>\n",
       "      <td>0</td>\n",
       "      <td>data scientist</td>\n",
       "      <td>na</td>\n",
       "      <td>M</td>\n",
       "    </tr>\n",
       "    <tr>\n",
       "      <th>13</th>\n",
       "      <td>13</td>\n",
       "      <td>Data Analyst</td>\n",
       "      <td>$46K-$85K (Glassdoor est.)</td>\n",
       "      <td>Are you an experienced Data Analyst, skilled a...</td>\n",
       "      <td>4.1</td>\n",
       "      <td>Yesler\\n4.1</td>\n",
       "      <td>Seattle, WA</td>\n",
       "      <td>Seattle, WA</td>\n",
       "      <td>201 - 500</td>\n",
       "      <td>2012</td>\n",
       "      <td>...</td>\n",
       "      <td>0</td>\n",
       "      <td>0</td>\n",
       "      <td>1</td>\n",
       "      <td>1</td>\n",
       "      <td>0</td>\n",
       "      <td>0</td>\n",
       "      <td>0</td>\n",
       "      <td>analyst</td>\n",
       "      <td>na</td>\n",
       "      <td>na</td>\n",
       "    </tr>\n",
       "    <tr>\n",
       "      <th>14</th>\n",
       "      <td>14</td>\n",
       "      <td>Data Scientist</td>\n",
       "      <td>$83K-$144K (Glassdoor est.)</td>\n",
       "      <td>Job Description\\n\\n\\nTakeda is looking for a D...</td>\n",
       "      <td>3.7</td>\n",
       "      <td>Takeda Pharmaceuticals\\n3.7</td>\n",
       "      <td>Cambridge, MA</td>\n",
       "      <td>OSAKA, Japan</td>\n",
       "      <td>10000+</td>\n",
       "      <td>1781</td>\n",
       "      <td>...</td>\n",
       "      <td>1</td>\n",
       "      <td>0</td>\n",
       "      <td>0</td>\n",
       "      <td>0</td>\n",
       "      <td>0</td>\n",
       "      <td>0</td>\n",
       "      <td>0</td>\n",
       "      <td>data scientist</td>\n",
       "      <td>na</td>\n",
       "      <td>M</td>\n",
       "    </tr>\n",
       "  </tbody>\n",
       "</table>\n",
       "<p>15 rows × 42 columns</p>\n",
       "</div>"
      ],
      "text/plain": [
       "    index                          Job Title               Salary Estimate  \\\n",
       "0       0                     Data Scientist    $53K-$91K (Glassdoor est.)   \n",
       "1       1          Healthcare Data Scientist   $63K-$112K (Glassdoor est.)   \n",
       "2       2                     Data Scientist    $80K-$90K (Glassdoor est.)   \n",
       "3       3                     Data Scientist    $56K-$97K (Glassdoor est.)   \n",
       "4       4                     Data Scientist   $86K-$143K (Glassdoor est.)   \n",
       "5       5                     Data Scientist   $71K-$119K (Glassdoor est.)   \n",
       "6       6                     Data Scientist    $54K-$93K (Glassdoor est.)   \n",
       "7       7                     Data Scientist   $86K-$142K (Glassdoor est.)   \n",
       "8       8                 Research Scientist    $38K-$84K (Glassdoor est.)   \n",
       "9       9                     Data Scientist  $120K-$160K (Glassdoor est.)   \n",
       "10     10                     Data Scientist  $126K-$201K (Glassdoor est.)   \n",
       "11     11                     Data Scientist   $64K-$106K (Glassdoor est.)   \n",
       "12     12  Staff Data Scientist - Technology  $106K-$172K (Glassdoor est.)   \n",
       "13     13                       Data Analyst    $46K-$85K (Glassdoor est.)   \n",
       "14     14                     Data Scientist   $83K-$144K (Glassdoor est.)   \n",
       "\n",
       "                                      Job Description  Rating  \\\n",
       "0   Data Scientist\\nLocation: Albuquerque, NM\\nEdu...     3.8   \n",
       "1   What You Will Do:\\n\\nI. General Summary\\n\\nThe...     3.4   \n",
       "2   KnowBe4, Inc. is a high growth information sec...     4.8   \n",
       "3   *Organization and Job ID**\\nJob ID: 310709\\n\\n...     3.8   \n",
       "4   Data Scientist\\nAffinity Solutions / Marketing...     2.9   \n",
       "5   CyrusOne is seeking a talented Data Scientist ...     3.4   \n",
       "6   Job Description\\n\\n**Please only local candida...     4.1   \n",
       "7   Advanced Analytics – Lead Data Scientist\\nOver...     3.8   \n",
       "8   SUMMARY\\n\\nThe Research Scientist I will be ta...     3.3   \n",
       "9   isn’t your usual company. Our work is powered ...     4.6   \n",
       "10  At Wish, our Data Science & Engineering team i...     3.5   \n",
       "11  Secure our Nation, Ignite your Future\\n\\nSumma...     4.1   \n",
       "12  Position Summary...\\nDrives the execution of m...     3.2   \n",
       "13  Are you an experienced Data Analyst, skilled a...     4.1   \n",
       "14  Job Description\\n\\n\\nTakeda is looking for a D...     3.7   \n",
       "\n",
       "                                  Company Name         Location  \\\n",
       "0                       Tecolote Research\\n3.8  Albuquerque, NM   \n",
       "1   University of Maryland Medical System\\n3.4    Linthicum, MD   \n",
       "2                                 KnowBe4\\n4.8   Clearwater, FL   \n",
       "3                                    PNNL\\n3.8     Richland, WA   \n",
       "4                      Affinity Solutions\\n2.9     New York, NY   \n",
       "5                                CyrusOne\\n3.4       Dallas, TX   \n",
       "6                      ClearOne Advantage\\n4.1    Baltimore, MD   \n",
       "7                              Logic20/20\\n3.8     San Jose, CA   \n",
       "8               Rochester Regional Health\\n3.3    Rochester, NY   \n",
       "9                                <intent>\\n4.6     New York, NY   \n",
       "10                                   Wish\\n3.5     San Jose, CA   \n",
       "11                                ManTech\\n4.1    Chantilly, VA   \n",
       "12                                Walmart\\n3.2        Plano, TX   \n",
       "13                                 Yesler\\n4.1      Seattle, WA   \n",
       "14                 Takeda Pharmaceuticals\\n3.7    Cambridge, MA   \n",
       "\n",
       "         Headquarters           Size  Founded  ... tensor hadoop tableau bi  \\\n",
       "0          Goleta, CA    501 - 1000      1973  ...      0      0       1  1   \n",
       "1       Baltimore, MD        10000+      1984  ...      0      0       0  0   \n",
       "2      Clearwater, FL    501 - 1000      2010  ...      0      0       0  0   \n",
       "3        Richland, WA   1001 - 5000      1965  ...      0      0       0  0   \n",
       "4        New York, NY      51 - 200      1998  ...      0      0       0  0   \n",
       "5          Dallas, TX     201 - 500      2000  ...      0      0       0  1   \n",
       "6       Baltimore, MD    501 - 1000      2008  ...      0      0       0  0   \n",
       "7         Seattle, WA     201 - 500      2005  ...      1      0       0  0   \n",
       "8       Rochester, NY        10000+      2014  ...      0      0       0  0   \n",
       "9        New York, NY      51 - 200      2009  ...      0      0       0  0   \n",
       "10  San Francisco, CA    501 - 1000      2011  ...      0      0       0  0   \n",
       "11        Herndon, VA  5001 - 10000      1968  ...      0      1       0  0   \n",
       "12    Bentonville, AR        10000+      1962  ...      0      1       0  0   \n",
       "13        Seattle, WA     201 - 500      2012  ...      0      0       1  1   \n",
       "14       OSAKA, Japan        10000+      1781  ...      1      0       0  0   \n",
       "\n",
       "   flink  mongo  google_an    job_title_sim  seniority_by_title  Degree  \n",
       "0      0      0          0   data scientist                  na       M  \n",
       "1      0      0          0   data scientist                  na       M  \n",
       "2      0      0          0   data scientist                  na       M  \n",
       "3      0      0          0   data scientist                  na      na  \n",
       "4      0      0          0   data scientist                  na      na  \n",
       "5      0      1          0   data scientist                  na      na  \n",
       "6      0      0          0   data scientist                  na      na  \n",
       "7      0      0          0   data scientist                  na       M  \n",
       "8      0      0          0  other scientist                  na       P  \n",
       "9      0      0          0   data scientist                  na      na  \n",
       "10     0      0          0   data scientist                  na      na  \n",
       "11     0      0          0   data scientist                  na      na  \n",
       "12     0      0          0   data scientist                  na       M  \n",
       "13     0      0          0          analyst                  na      na  \n",
       "14     0      0          0   data scientist                  na       M  \n",
       "\n",
       "[15 rows x 42 columns]"
      ]
     },
     "execution_count": 3,
     "metadata": {},
     "output_type": "execute_result"
    }
   ],
   "source": [
    "# Check the first 15 rows of the table\n",
    "df.head(15)"
   ]
  },
  {
   "cell_type": "code",
   "execution_count": 4,
   "id": "d329bdd7",
   "metadata": {},
   "outputs": [
    {
     "data": {
      "text/plain": [
       "(742, 42)"
      ]
     },
     "execution_count": 4,
     "metadata": {},
     "output_type": "execute_result"
    }
   ],
   "source": [
    "# check the size of the table\n",
    "df.shape"
   ]
  },
  {
   "cell_type": "code",
   "execution_count": 5,
   "id": "b556b2f7",
   "metadata": {},
   "outputs": [
    {
     "name": "stdout",
     "output_type": "stream",
     "text": [
      "<class 'pandas.core.frame.DataFrame'>\n",
      "RangeIndex: 742 entries, 0 to 741\n",
      "Data columns (total 42 columns):\n",
      " #   Column              Non-Null Count  Dtype  \n",
      "---  ------              --------------  -----  \n",
      " 0   index               742 non-null    int64  \n",
      " 1   Job Title           742 non-null    object \n",
      " 2   Salary Estimate     742 non-null    object \n",
      " 3   Job Description     742 non-null    object \n",
      " 4   Rating              742 non-null    float64\n",
      " 5   Company Name        742 non-null    object \n",
      " 6   Location            742 non-null    object \n",
      " 7   Headquarters        742 non-null    object \n",
      " 8   Size                742 non-null    object \n",
      " 9   Founded             742 non-null    int64  \n",
      " 10  Type of ownership   742 non-null    object \n",
      " 11  Industry            742 non-null    object \n",
      " 12  Sector              742 non-null    object \n",
      " 13  Revenue             742 non-null    object \n",
      " 14  Competitors         742 non-null    object \n",
      " 15  Hourly              742 non-null    int64  \n",
      " 16  Employer provided   742 non-null    int64  \n",
      " 17  Lower Salary        742 non-null    int64  \n",
      " 18  Upper Salary        742 non-null    int64  \n",
      " 19  Avg Salary(K)       742 non-null    float64\n",
      " 20  company_txt         742 non-null    object \n",
      " 21  Job Location        742 non-null    object \n",
      " 22  Age                 742 non-null    int64  \n",
      " 23  Python              742 non-null    int64  \n",
      " 24  spark               742 non-null    int64  \n",
      " 25  aws                 742 non-null    int64  \n",
      " 26  excel               742 non-null    int64  \n",
      " 27  sql                 742 non-null    int64  \n",
      " 28  sas                 742 non-null    int64  \n",
      " 29  keras               742 non-null    int64  \n",
      " 30  pytorch             742 non-null    int64  \n",
      " 31  scikit              742 non-null    int64  \n",
      " 32  tensor              742 non-null    int64  \n",
      " 33  hadoop              742 non-null    int64  \n",
      " 34  tableau             742 non-null    int64  \n",
      " 35  bi                  742 non-null    int64  \n",
      " 36  flink               742 non-null    int64  \n",
      " 37  mongo               742 non-null    int64  \n",
      " 38  google_an           742 non-null    int64  \n",
      " 39  job_title_sim       742 non-null    object \n",
      " 40  seniority_by_title  742 non-null    object \n",
      " 41  Degree              742 non-null    object \n",
      "dtypes: float64(2), int64(23), object(17)\n",
      "memory usage: 243.6+ KB\n",
      "None\n"
     ]
    }
   ],
   "source": [
    "# Check the data types and missing values\n",
    "print(df.info())"
   ]
  },
  {
   "cell_type": "code",
   "execution_count": 6,
   "id": "98d6a615",
   "metadata": {},
   "outputs": [],
   "source": [
    "# Since some of the column have '-1' values, they will be turned into NaN values and dropped from the analysis\n",
    "df.replace(-1, pd.NA, inplace=True)\n",
    "df.isna().sum()\n",
    "df = df.dropna()"
   ]
  },
  {
   "cell_type": "code",
   "execution_count": 7,
   "id": "43ef9be9",
   "metadata": {},
   "outputs": [],
   "source": [
    "# Select all irrelevant columns\n",
    "column_delete = ['Salary Estimate', 'Job Description', 'Headquarters', 'Founded', 'Industry','Competitors', 'Hourly', 'Employer provided', 'Age']"
   ]
  },
  {
   "cell_type": "code",
   "execution_count": 8,
   "id": "706ade35",
   "metadata": {},
   "outputs": [],
   "source": [
    "# Drop these irrelevant columns\n",
    "df = df.drop(columns = column_delete, axis = 1)"
   ]
  },
  {
   "cell_type": "code",
   "execution_count": 9,
   "id": "553e253c",
   "metadata": {},
   "outputs": [],
   "source": [
    "# create a data frame just for the skills\n",
    "df_skills = df.loc[:, 'Python':'google_an']"
   ]
  },
  {
   "cell_type": "markdown",
   "id": "0a881880",
   "metadata": {},
   "source": [
    "### For the first visualization I want to plot a bar graph that will represent the total counts of each individual skills applicable for each job entry. Since the data already foramted to 0 and 1 it does not require a transformation and can simply be counted using sum() function."
   ]
  },
  {
   "cell_type": "code",
   "execution_count": 10,
   "id": "92310781",
   "metadata": {
    "scrolled": false
   },
   "outputs": [
    {
     "data": {
      "image/png": "[encoded data removed]",
      "text/plain": [
       "<Figure size 1500x1000 with 1 Axes>"
      ]
     },
     "metadata": {},
     "output_type": "display_data"
    }
   ],
   "source": [
    "# Generate a box plot using seaborn package\n",
    "\n",
    "# Assign figure parameters\n",
    "plt.figure(figsize=(15, 10))\n",
    "\n",
    "# Generate a box plot, as X use individual skills as Y use the summed amount of each skills for each job row\n",
    "sns.barplot(x=df_skills.sum().sort_values(ascending=False).index, \n",
    "            y=df_skills.sum().sort_values(ascending=False).values, color = 'blue')\n",
    "\n",
    "# Assign labels and title \n",
    "plt.ylabel('Skills')\n",
    "plt.xlabel('Apperances in jobs')\n",
    "plt.title('Skills Rating')\n",
    "\n",
    "# Show the graph\n",
    "plt.show()"
   ]
  },
  {
   "cell_type": "markdown",
   "id": "415b2f22",
   "metadata": {},
   "source": [
    "### It is clearly evident that top 3 skills appeared in most of the jobs are - Python, SQL and Excel. This means that most of the data science related job postings require this three skills the most. "
   ]
  },
  {
   "cell_type": "markdown",
   "id": "bda1cfa8",
   "metadata": {},
   "source": [
    " "
   ]
  },
  {
   "cell_type": "markdown",
   "id": "1708f6a9",
   "metadata": {},
   "source": [
    " "
   ]
  },
  {
   "cell_type": "markdown",
   "id": "0abe4f45",
   "metadata": {},
   "source": [
    " "
   ]
  },
  {
   "cell_type": "markdown",
   "id": "b4a0c158",
   "metadata": {},
   "source": [
    "### Below, I wanted to analyze the destribution of the Upper and Lower range of salaries. It is important to analyze salaries distributions to further work on regression models. The parameters like - modality, skewness, spread and kurtosis. Histograms will help defining these parametrs."
   ]
  },
  {
   "cell_type": "code",
   "execution_count": 11,
   "id": "a3ff1a16",
   "metadata": {
    "scrolled": true
   },
   "outputs": [
    {
     "data": {
      "text/html": [
       "<div>\n",
       "<style scoped>\n",
       "    .dataframe tbody tr th:only-of-type {\n",
       "        vertical-align: middle;\n",
       "    }\n",
       "\n",
       "    .dataframe tbody tr th {\n",
       "        vertical-align: top;\n",
       "    }\n",
       "\n",
       "    .dataframe thead th {\n",
       "        text-align: right;\n",
       "    }\n",
       "</style>\n",
       "<table border=\"1\" class=\"dataframe\">\n",
       "  <thead>\n",
       "    <tr style=\"text-align: right;\">\n",
       "      <th></th>\n",
       "      <th>Lower Salary</th>\n",
       "      <th>Upper Salary</th>\n",
       "    </tr>\n",
       "  </thead>\n",
       "  <tbody>\n",
       "    <tr>\n",
       "      <th>count</th>\n",
       "      <td>690.000000</td>\n",
       "      <td>690.000000</td>\n",
       "    </tr>\n",
       "    <tr>\n",
       "      <th>mean</th>\n",
       "      <td>74.118841</td>\n",
       "      <td>127.991304</td>\n",
       "    </tr>\n",
       "    <tr>\n",
       "      <th>std</th>\n",
       "      <td>30.465004</td>\n",
       "      <td>45.498432</td>\n",
       "    </tr>\n",
       "    <tr>\n",
       "      <th>min</th>\n",
       "      <td>15.000000</td>\n",
       "      <td>16.000000</td>\n",
       "    </tr>\n",
       "    <tr>\n",
       "      <th>25%</th>\n",
       "      <td>52.000000</td>\n",
       "      <td>96.000000</td>\n",
       "    </tr>\n",
       "    <tr>\n",
       "      <th>50%</th>\n",
       "      <td>68.000000</td>\n",
       "      <td>124.000000</td>\n",
       "    </tr>\n",
       "    <tr>\n",
       "      <th>75%</th>\n",
       "      <td>90.750000</td>\n",
       "      <td>156.500000</td>\n",
       "    </tr>\n",
       "    <tr>\n",
       "      <th>max</th>\n",
       "      <td>202.000000</td>\n",
       "      <td>306.000000</td>\n",
       "    </tr>\n",
       "  </tbody>\n",
       "</table>\n",
       "</div>"
      ],
      "text/plain": [
       "       Lower Salary  Upper Salary\n",
       "count    690.000000    690.000000\n",
       "mean      74.118841    127.991304\n",
       "std       30.465004     45.498432\n",
       "min       15.000000     16.000000\n",
       "25%       52.000000     96.000000\n",
       "50%       68.000000    124.000000\n",
       "75%       90.750000    156.500000\n",
       "max      202.000000    306.000000"
      ]
     },
     "execution_count": 11,
     "metadata": {},
     "output_type": "execute_result"
    }
   ],
   "source": [
    "# Analyze quick descriptive statistic of the salary ranges\n",
    "df[['Lower Salary', 'Upper Salary']].describe()"
   ]
  },
  {
   "cell_type": "code",
   "execution_count": 12,
   "id": "04364e59",
   "metadata": {},
   "outputs": [
    {
     "data": {
      "text/plain": [
       "<AxesSubplot:xlabel='Upper Salary', ylabel='Count'>"
      ]
     },
     "execution_count": 12,
     "metadata": {},
     "output_type": "execute_result"
    },
    {
     "data": {
      "image/png": "[encoded data removed]",
      "text/plain": [
       "<Figure size 640x480 with 1 Axes>"
      ]
     },
     "metadata": {},
     "output_type": "display_data"
    }
   ],
   "source": [
    "# Generate a histogram for the upper range of salaries\n",
    "sns.histplot(data=df, x=df['Upper Salary'], color = 'blue')"
   ]
  },
  {
   "cell_type": "code",
   "execution_count": 13,
   "id": "fb10d7e9",
   "metadata": {
    "scrolled": false
   },
   "outputs": [
    {
     "data": {
      "text/plain": [
       "<AxesSubplot:xlabel='Lower Salary', ylabel='Count'>"
      ]
     },
     "execution_count": 13,
     "metadata": {},
     "output_type": "execute_result"
    },
    {
     "data": {
      "image/png": "[encoded data removed]",
      "text/plain": [
       "<Figure size 640x480 with 1 Axes>"
      ]
     },
     "metadata": {},
     "output_type": "display_data"
    }
   ],
   "source": [
    "# Generate a histogram for the lower range of salaries\n",
    "sns.histplot(data=df, x=df['Lower Salary'], color = 'blue')"
   ]
  },
  {
   "cell_type": "markdown",
   "id": "766244b2",
   "metadata": {},
   "source": [
    "### From the histograms we can see that both of the salary ranges (upper and lower) are normally distributed and unimodal. there are some outliers on the higher end of both of the graphs that need to be closesly inspected in future analysis. The lower range of the salaries is slightly positevely skewed."
   ]
  },
  {
   "cell_type": "markdown",
   "id": "46a669ee",
   "metadata": {},
   "source": [
    " "
   ]
  },
  {
   "cell_type": "markdown",
   "id": "045e85ac",
   "metadata": {},
   "source": [
    " "
   ]
  },
  {
   "cell_type": "markdown",
   "id": "bb02750a",
   "metadata": {},
   "source": [
    " ### Using a scaterplot I wanted to analyze if there is any correlation between the company rating and upper salary value. "
   ]
  },
  {
   "cell_type": "code",
   "execution_count": 14,
   "id": "ffb409b2",
   "metadata": {
    "scrolled": false
   },
   "outputs": [
    {
     "data": {
      "text/plain": [
       "<AxesSubplot:xlabel='Upper Salary', ylabel='Rating'>"
      ]
     },
     "execution_count": 14,
     "metadata": {},
     "output_type": "execute_result"
    },
    {
     "data": {
      "image/png": "[encoded data removed]",
      "text/plain": [
       "<Figure size 640x480 with 1 Axes>"
      ]
     },
     "metadata": {},
     "output_type": "display_data"
    }
   ],
   "source": [
    "# Generate a scatter plot to analyze the correlation between company rating and upper salary\n",
    "sns.scatterplot(data=df, x=\"Upper Salary\", y=\"Rating\")"
   ]
  },
  {
   "cell_type": "markdown",
   "id": "68ebc526",
   "metadata": {},
   "source": [
    "### It is evident that there is no clear correlation between the company rating and the upper salary value, meaning company rating does not affect data sceintist salary, "
   ]
  },
  {
   "cell_type": "markdown",
   "id": "3be7de2e",
   "metadata": {},
   "source": [
    " "
   ]
  },
  {
   "cell_type": "markdown",
   "id": "3fc43f28",
   "metadata": {},
   "source": [
    " "
   ]
  },
  {
   "cell_type": "markdown",
   "id": "c299680f",
   "metadata": {},
   "source": [
    " ### The data set has information about companies location by state. It is important to analyze if there are states where data related postion has the highest compensation. For this analysis a bar graph was generated."
   ]
  },
  {
   "cell_type": "code",
   "execution_count": 15,
   "id": "bcdd3cde",
   "metadata": {},
   "outputs": [
    {
     "data": {
      "image/png": "[encoded data removed]",
      "text/plain": [
       "<Figure size 1500x1000 with 1 Axes>"
      ]
     },
     "metadata": {},
     "output_type": "display_data"
    }
   ],
   "source": [
    "# Generate a bar graph for upper salaries based on the job location\n",
    "# Assign figure parameters\n",
    "plt.figure(figsize=(15, 10))\n",
    "\n",
    "# Generate a box plot, as X use individual skills as Y use the summed amount of each skills for each job row\n",
    "sns.barplot(x=df['Upper Salary'].sort_values(ascending=False), \n",
    "            y=df['Job Location'], color = 'blue')\n",
    "\n",
    "# Assign labels and title \n",
    "plt.ylabel('Company Location')\n",
    "plt.xlabel('Higher Salary')\n",
    "plt.title('Salary vs job location')\n",
    "\n",
    "# Show the graph\n",
    "plt.show()"
   ]
  },
  {
   "cell_type": "markdown",
   "id": "9b519588",
   "metadata": {},
   "source": [
    "### Three states with the highest data related jobs salaries are - CA, IL, MA and the lowest are - NE, DE, ID"
   ]
  },
  {
   "cell_type": "markdown",
   "id": "a6b9c05a",
   "metadata": {},
   "source": [
    "  "
   ]
  },
  {
   "cell_type": "markdown",
   "id": "7e9bc9d3",
   "metadata": {},
   "source": [
    " "
   ]
  },
  {
   "cell_type": "markdown",
   "id": "b863a14e",
   "metadata": {},
   "source": [
    "### It is important to know what kind of industries pay the highest salaries when making decision where to look fow a job. To analyze what type of industry has the most attractive compensations, a slary vs sector bar graph was generated"
   ]
  },
  {
   "cell_type": "code",
   "execution_count": 16,
   "id": "7bb854d9",
   "metadata": {},
   "outputs": [
    {
     "data": {
      "image/png": "[encoded data removed]",
      "text/plain": [
       "<Figure size 2000x1500 with 2 Axes>"
      ]
     },
     "metadata": {},
     "output_type": "display_data"
    }
   ],
   "source": [
    "# Generate two bar plots to analyze the upper and lower salry ranges by the industry sector\n",
    "\n",
    "# Set the style for seaborn\n",
    "sns.set(style=\"whitegrid\")\n",
    "\n",
    "# Determine the common X axis range that will help to bring both salariy ranges on the same scale\n",
    "common_x_range = max(df['Upper Salary'].max(), df['Lower Salary'].max())\n",
    "\n",
    "# Create subplots\n",
    "fig, axes = plt.subplots(nrows=1, ncols=2, figsize=(20, 15))\n",
    "\n",
    "# Plot the graph for Upper Salary\n",
    "sns.barplot(x=df['Upper Salary'], y=df['Sector'], ax=axes[0], color='blue')\n",
    "axes[0].set_title('Upper Salary by Sector')\n",
    "axes[0].set_xlabel('Salary')\n",
    "axes[0].set_ylabel('Sector')\n",
    "axes[0].set_xlim(0, common_x_range) \n",
    "\n",
    "# Plot the graph for Upper Salary\n",
    "sns.barplot(x=df['Lower Salary'], y=df['Sector'], ax=axes[1], color='green')\n",
    "axes[1].set_title('Lower Salary by Sector')\n",
    "axes[1].set_xlabel('Salary')\n",
    "axes[1].set_ylabel('Sector')\n",
    "axes[1].set_xlim(0, common_x_range) \n",
    "\n",
    "# Adjust layout for better visualization\n",
    "plt.tight_layout()\n",
    "\n",
    "# Show the plot\n",
    "plt.show()"
   ]
  },
  {
   "cell_type": "markdown",
   "id": "8097f456",
   "metadata": {},
   "source": [
    "### From these two graphs we can outline several industries that have both upper and lower range on the high side of the overall salaries range across all industries. They are - Information technology, Media, Accounting and Legal, Biotech and pharmaceuticals. There is also a '-1' sector that need to be removed prior to further analysis and model building."
   ]
  },
  {
   "cell_type": "markdown",
   "id": "ebd562b5",
   "metadata": {},
   "source": [
    " "
   ]
  },
  {
   "cell_type": "markdown",
   "id": "47626c8d",
   "metadata": {},
   "source": [
    "  "
   ]
  },
  {
   "cell_type": "markdown",
   "id": "e5663f39",
   "metadata": {},
   "source": [
    "  "
   ]
  },
  {
   "cell_type": "markdown",
   "id": "a92fbaf0",
   "metadata": {},
   "source": [
    "# <span style=\"color:red\"> Data Transformation </span>\n"
   ]
  },
  {
   "cell_type": "markdown",
   "id": "f2a6153d",
   "metadata": {},
   "source": [
    "### To perform machine learing model generation for salary prediction it is important to select and clean features that are necessary for accurate model building. In this step I will analyze my data set in terms of cleaneness and readeness for model building. First, I need to check for missing and NaN values. Second select specififc features that are necessary for modeling. If necessary new features will be created."
   ]
  },
  {
   "cell_type": "code",
   "execution_count": 17,
   "id": "15716118",
   "metadata": {},
   "outputs": [
    {
     "name": "stdout",
     "output_type": "stream",
     "text": [
      "<class 'pandas.core.frame.DataFrame'>\n",
      "Int64Index: 690 entries, 0 to 741\n",
      "Data columns (total 33 columns):\n",
      " #   Column              Non-Null Count  Dtype  \n",
      "---  ------              --------------  -----  \n",
      " 0   index               690 non-null    int64  \n",
      " 1   Job Title           690 non-null    object \n",
      " 2   Rating              690 non-null    object \n",
      " 3   Company Name        690 non-null    object \n",
      " 4   Location            690 non-null    object \n",
      " 5   Size                690 non-null    object \n",
      " 6   Type of ownership   690 non-null    object \n",
      " 7   Sector              690 non-null    object \n",
      " 8   Revenue             690 non-null    object \n",
      " 9   Lower Salary        690 non-null    int64  \n",
      " 10  Upper Salary        690 non-null    int64  \n",
      " 11  Avg Salary(K)       690 non-null    float64\n",
      " 12  company_txt         690 non-null    object \n",
      " 13  Job Location        690 non-null    object \n",
      " 14  Python              690 non-null    int64  \n",
      " 15  spark               690 non-null    int64  \n",
      " 16  aws                 690 non-null    int64  \n",
      " 17  excel               690 non-null    int64  \n",
      " 18  sql                 690 non-null    int64  \n",
      " 19  sas                 690 non-null    int64  \n",
      " 20  keras               690 non-null    int64  \n",
      " 21  pytorch             690 non-null    int64  \n",
      " 22  scikit              690 non-null    int64  \n",
      " 23  tensor              690 non-null    int64  \n",
      " 24  hadoop              690 non-null    int64  \n",
      " 25  tableau             690 non-null    int64  \n",
      " 26  bi                  690 non-null    int64  \n",
      " 27  flink               690 non-null    int64  \n",
      " 28  mongo               690 non-null    int64  \n",
      " 29  google_an           690 non-null    int64  \n",
      " 30  job_title_sim       690 non-null    object \n",
      " 31  seniority_by_title  690 non-null    object \n",
      " 32  Degree              690 non-null    object \n",
      "dtypes: float64(1), int64(19), object(13)\n",
      "memory usage: 199.4+ KB\n"
     ]
    }
   ],
   "source": [
    "# check the columns and their formats\n",
    "df.info()"
   ]
  },
  {
   "cell_type": "markdown",
   "id": "0023dc33",
   "metadata": {},
   "source": [
    "#### For the modeling I decided to focus on avarage salary prediction based on skills and industry. Initially I was planning to include job location as well. For the modeling I can drop most of the feratures from this table since they are irrelevant to the salary. "
   ]
  },
  {
   "cell_type": "markdown",
   "id": "80f7ba05",
   "metadata": {},
   "source": [
    "##### First, I want to clean up the data set if any missing values are present"
   ]
  },
  {
   "cell_type": "code",
   "execution_count": 18,
   "id": "0856de1d",
   "metadata": {},
   "outputs": [
    {
     "data": {
      "text/plain": [
       "index                 0\n",
       "Job Title             0\n",
       "Rating                0\n",
       "Company Name          0\n",
       "Location              0\n",
       "Size                  0\n",
       "Type of ownership     0\n",
       "Sector                0\n",
       "Revenue               0\n",
       "Lower Salary          0\n",
       "Upper Salary          0\n",
       "Avg Salary(K)         0\n",
       "company_txt           0\n",
       "Job Location          0\n",
       "Python                0\n",
       "spark                 0\n",
       "aws                   0\n",
       "excel                 0\n",
       "sql                   0\n",
       "sas                   0\n",
       "keras                 0\n",
       "pytorch               0\n",
       "scikit                0\n",
       "tensor                0\n",
       "hadoop                0\n",
       "tableau               0\n",
       "bi                    0\n",
       "flink                 0\n",
       "mongo                 0\n",
       "google_an             0\n",
       "job_title_sim         0\n",
       "seniority_by_title    0\n",
       "Degree                0\n",
       "dtype: int64"
      ]
     },
     "execution_count": 18,
     "metadata": {},
     "output_type": "execute_result"
    }
   ],
   "source": [
    "# find if any values are missing\n",
    "df.isna().sum()"
   ]
  },
  {
   "cell_type": "markdown",
   "id": "a40aa378",
   "metadata": {},
   "source": [
    "##### The data set has no missing values in it"
   ]
  },
  {
   "cell_type": "code",
   "execution_count": 19,
   "id": "546f527b",
   "metadata": {},
   "outputs": [],
   "source": [
    "# Create a list of column names to be dropped\n",
    "columns_to_drop = ['index','Job Title','Location','Size','Type of ownership','Revenue','Lower Salary','Upper Salary','company_txt','Job Location','job_title_sim']"
   ]
  },
  {
   "cell_type": "markdown",
   "id": "625501de",
   "metadata": {},
   "source": [
    "##### Also, I want to explore if seniortiy and degree can affect the salary and I should include it into modeling"
   ]
  },
  {
   "cell_type": "code",
   "execution_count": 20,
   "id": "e3580150",
   "metadata": {},
   "outputs": [],
   "source": [
    "# Drop selected columns\n",
    "df.drop(columns_to_drop, axis = 1, inplace = True)"
   ]
  },
  {
   "cell_type": "code",
   "execution_count": 21,
   "id": "ac44e7ef",
   "metadata": {},
   "outputs": [
    {
     "name": "stdout",
     "output_type": "stream",
     "text": [
      "<class 'pandas.core.frame.DataFrame'>\n",
      "Int64Index: 690 entries, 0 to 741\n",
      "Data columns (total 22 columns):\n",
      " #   Column              Non-Null Count  Dtype  \n",
      "---  ------              --------------  -----  \n",
      " 0   Rating              690 non-null    object \n",
      " 1   Company Name        690 non-null    object \n",
      " 2   Sector              690 non-null    object \n",
      " 3   Avg Salary(K)       690 non-null    float64\n",
      " 4   Python              690 non-null    int64  \n",
      " 5   spark               690 non-null    int64  \n",
      " 6   aws                 690 non-null    int64  \n",
      " 7   excel               690 non-null    int64  \n",
      " 8   sql                 690 non-null    int64  \n",
      " 9   sas                 690 non-null    int64  \n",
      " 10  keras               690 non-null    int64  \n",
      " 11  pytorch             690 non-null    int64  \n",
      " 12  scikit              690 non-null    int64  \n",
      " 13  tensor              690 non-null    int64  \n",
      " 14  hadoop              690 non-null    int64  \n",
      " 15  tableau             690 non-null    int64  \n",
      " 16  bi                  690 non-null    int64  \n",
      " 17  flink               690 non-null    int64  \n",
      " 18  mongo               690 non-null    int64  \n",
      " 19  google_an           690 non-null    int64  \n",
      " 20  seniority_by_title  690 non-null    object \n",
      " 21  Degree              690 non-null    object \n",
      "dtypes: float64(1), int64(16), object(5)\n",
      "memory usage: 140.1+ KB\n"
     ]
    }
   ],
   "source": [
    "# Check the current state of the data\n",
    "df.info()"
   ]
  },
  {
   "cell_type": "markdown",
   "id": "02eac99a",
   "metadata": {},
   "source": [
    "##### Next I want to analyze all non-numerical columns"
   ]
  },
  {
   "cell_type": "code",
   "execution_count": 22,
   "id": "2dbe9160",
   "metadata": {},
   "outputs": [
    {
     "data": {
      "text/plain": [
       "Reynolds American\\n3.1                         14\n",
       "MassMutual\\n3.6                                14\n",
       "Takeda Pharmaceuticals\\n3.7                    14\n",
       "Software Engineering Institute\\n2.6            11\n",
       "PNNL\\n3.8                                      10\n",
       "                                               ..\n",
       "Credera\\n4.3                                    1\n",
       "Spectrum Communications and Consulting\\n3.4     1\n",
       "Dayton Freight Lines, Inc.\\n4.3                 1\n",
       "TrueAccord\\n3.4                                 1\n",
       "Fivestars\\n3.9                                  1\n",
       "Name: Company Name, Length: 318, dtype: int64"
      ]
     },
     "execution_count": 22,
     "metadata": {},
     "output_type": "execute_result"
    }
   ],
   "source": [
    "# Analyze how many companies are in the table\n",
    "df['Company Name'].value_counts()"
   ]
  },
  {
   "cell_type": "code",
   "execution_count": 23,
   "id": "dcb5aeb3",
   "metadata": {},
   "outputs": [
    {
     "data": {
      "text/plain": [
       "count                        690\n",
       "unique                       318\n",
       "top       Reynolds American\\n3.1\n",
       "freq                          14\n",
       "Name: Company Name, dtype: object"
      ]
     },
     "execution_count": 23,
     "metadata": {},
     "output_type": "execute_result"
    }
   ],
   "source": [
    "# Check how many total unique company names\n",
    "df['Company Name'].describe()"
   ]
  },
  {
   "cell_type": "markdown",
   "id": "679f6133",
   "metadata": {},
   "source": [
    "##### Company name has 318 unique value.  It was decided to not include in the model building because it is not critical and also, can create overfitting."
   ]
  },
  {
   "cell_type": "code",
   "execution_count": 24,
   "id": "a81fc4a7",
   "metadata": {},
   "outputs": [
    {
     "data": {
      "text/plain": [
       "na    354\n",
       "M     243\n",
       "P      93\n",
       "Name: Degree, dtype: int64"
      ]
     },
     "execution_count": 24,
     "metadata": {},
     "output_type": "execute_result"
    }
   ],
   "source": [
    "# Check how many value counts for degree column\n",
    "df['Degree'].value_counts()"
   ]
  },
  {
   "cell_type": "code",
   "execution_count": 25,
   "id": "031ebb96",
   "metadata": {},
   "outputs": [
    {
     "data": {
      "text/plain": [
       "na    51.304348\n",
       "M     35.217391\n",
       "P     13.478261\n",
       "Name: Degree, dtype: float64"
      ]
     },
     "execution_count": 25,
     "metadata": {},
     "output_type": "execute_result"
    }
   ],
   "source": [
    "# Calculate the percentage of missing values in the degree column\n",
    "df['Degree'].value_counts('na')*100"
   ]
  },
  {
   "cell_type": "markdown",
   "id": "45761c56",
   "metadata": {},
   "source": [
    "##### Unfortunately degree column has 51% of NA values, To avoid impact on the model performance and possible generation of bias it is necessary to remove this column."
   ]
  },
  {
   "cell_type": "code",
   "execution_count": 26,
   "id": "62bcec28",
   "metadata": {},
   "outputs": [],
   "source": [
    "# Drop both Degree and Company name column\n",
    "df.drop(['Degree','Company Name'],axis = 1, inplace = True)"
   ]
  },
  {
   "cell_type": "code",
   "execution_count": 27,
   "id": "3e443cb8",
   "metadata": {},
   "outputs": [
    {
     "data": {
      "text/html": [
       "<div>\n",
       "<style scoped>\n",
       "    .dataframe tbody tr th:only-of-type {\n",
       "        vertical-align: middle;\n",
       "    }\n",
       "\n",
       "    .dataframe tbody tr th {\n",
       "        vertical-align: top;\n",
       "    }\n",
       "\n",
       "    .dataframe thead th {\n",
       "        text-align: right;\n",
       "    }\n",
       "</style>\n",
       "<table border=\"1\" class=\"dataframe\">\n",
       "  <thead>\n",
       "    <tr style=\"text-align: right;\">\n",
       "      <th></th>\n",
       "      <th>Rating</th>\n",
       "      <th>Sector</th>\n",
       "      <th>Avg Salary(K)</th>\n",
       "      <th>Python</th>\n",
       "      <th>spark</th>\n",
       "      <th>aws</th>\n",
       "      <th>excel</th>\n",
       "      <th>sql</th>\n",
       "      <th>sas</th>\n",
       "      <th>keras</th>\n",
       "      <th>pytorch</th>\n",
       "      <th>scikit</th>\n",
       "      <th>tensor</th>\n",
       "      <th>hadoop</th>\n",
       "      <th>tableau</th>\n",
       "      <th>bi</th>\n",
       "      <th>flink</th>\n",
       "      <th>mongo</th>\n",
       "      <th>google_an</th>\n",
       "      <th>seniority_by_title</th>\n",
       "    </tr>\n",
       "  </thead>\n",
       "  <tbody>\n",
       "    <tr>\n",
       "      <th>0</th>\n",
       "      <td>3.8</td>\n",
       "      <td>Aerospace &amp; Defense</td>\n",
       "      <td>72.0</td>\n",
       "      <td>1</td>\n",
       "      <td>0</td>\n",
       "      <td>0</td>\n",
       "      <td>1</td>\n",
       "      <td>0</td>\n",
       "      <td>1</td>\n",
       "      <td>0</td>\n",
       "      <td>0</td>\n",
       "      <td>0</td>\n",
       "      <td>0</td>\n",
       "      <td>0</td>\n",
       "      <td>1</td>\n",
       "      <td>1</td>\n",
       "      <td>0</td>\n",
       "      <td>0</td>\n",
       "      <td>0</td>\n",
       "      <td>na</td>\n",
       "    </tr>\n",
       "    <tr>\n",
       "      <th>1</th>\n",
       "      <td>3.4</td>\n",
       "      <td>Health Care</td>\n",
       "      <td>87.5</td>\n",
       "      <td>1</td>\n",
       "      <td>0</td>\n",
       "      <td>0</td>\n",
       "      <td>0</td>\n",
       "      <td>0</td>\n",
       "      <td>0</td>\n",
       "      <td>0</td>\n",
       "      <td>0</td>\n",
       "      <td>0</td>\n",
       "      <td>0</td>\n",
       "      <td>0</td>\n",
       "      <td>0</td>\n",
       "      <td>0</td>\n",
       "      <td>0</td>\n",
       "      <td>0</td>\n",
       "      <td>0</td>\n",
       "      <td>na</td>\n",
       "    </tr>\n",
       "    <tr>\n",
       "      <th>2</th>\n",
       "      <td>4.8</td>\n",
       "      <td>Business Services</td>\n",
       "      <td>85.0</td>\n",
       "      <td>1</td>\n",
       "      <td>1</td>\n",
       "      <td>0</td>\n",
       "      <td>1</td>\n",
       "      <td>1</td>\n",
       "      <td>1</td>\n",
       "      <td>0</td>\n",
       "      <td>0</td>\n",
       "      <td>0</td>\n",
       "      <td>0</td>\n",
       "      <td>0</td>\n",
       "      <td>0</td>\n",
       "      <td>0</td>\n",
       "      <td>0</td>\n",
       "      <td>0</td>\n",
       "      <td>0</td>\n",
       "      <td>na</td>\n",
       "    </tr>\n",
       "    <tr>\n",
       "      <th>3</th>\n",
       "      <td>3.8</td>\n",
       "      <td>Oil, Gas, Energy &amp; Utilities</td>\n",
       "      <td>76.5</td>\n",
       "      <td>1</td>\n",
       "      <td>0</td>\n",
       "      <td>0</td>\n",
       "      <td>0</td>\n",
       "      <td>0</td>\n",
       "      <td>0</td>\n",
       "      <td>0</td>\n",
       "      <td>0</td>\n",
       "      <td>0</td>\n",
       "      <td>0</td>\n",
       "      <td>0</td>\n",
       "      <td>0</td>\n",
       "      <td>0</td>\n",
       "      <td>0</td>\n",
       "      <td>0</td>\n",
       "      <td>0</td>\n",
       "      <td>na</td>\n",
       "    </tr>\n",
       "    <tr>\n",
       "      <th>4</th>\n",
       "      <td>2.9</td>\n",
       "      <td>Business Services</td>\n",
       "      <td>114.5</td>\n",
       "      <td>1</td>\n",
       "      <td>0</td>\n",
       "      <td>0</td>\n",
       "      <td>1</td>\n",
       "      <td>1</td>\n",
       "      <td>1</td>\n",
       "      <td>0</td>\n",
       "      <td>0</td>\n",
       "      <td>0</td>\n",
       "      <td>0</td>\n",
       "      <td>0</td>\n",
       "      <td>0</td>\n",
       "      <td>0</td>\n",
       "      <td>0</td>\n",
       "      <td>0</td>\n",
       "      <td>0</td>\n",
       "      <td>na</td>\n",
       "    </tr>\n",
       "  </tbody>\n",
       "</table>\n",
       "</div>"
      ],
      "text/plain": [
       "  Rating                        Sector  Avg Salary(K)  Python  spark  aws  \\\n",
       "0    3.8           Aerospace & Defense           72.0       1      0    0   \n",
       "1    3.4                   Health Care           87.5       1      0    0   \n",
       "2    4.8             Business Services           85.0       1      1    0   \n",
       "3    3.8  Oil, Gas, Energy & Utilities           76.5       1      0    0   \n",
       "4    2.9             Business Services          114.5       1      0    0   \n",
       "\n",
       "   excel  sql  sas  keras  pytorch  scikit  tensor  hadoop  tableau  bi  \\\n",
       "0      1    0    1      0        0       0       0       0        1   1   \n",
       "1      0    0    0      0        0       0       0       0        0   0   \n",
       "2      1    1    1      0        0       0       0       0        0   0   \n",
       "3      0    0    0      0        0       0       0       0        0   0   \n",
       "4      1    1    1      0        0       0       0       0        0   0   \n",
       "\n",
       "   flink  mongo  google_an seniority_by_title  \n",
       "0      0      0          0                 na  \n",
       "1      0      0          0                 na  \n",
       "2      0      0          0                 na  \n",
       "3      0      0          0                 na  \n",
       "4      0      0          0                 na  "
      ]
     },
     "execution_count": 27,
     "metadata": {},
     "output_type": "execute_result"
    }
   ],
   "source": [
    "# Check the table\n",
    "df.head()"
   ]
  },
  {
   "cell_type": "markdown",
   "id": "98fbfe99",
   "metadata": {},
   "source": [
    "##### For some reason rating is non-numerical, for moreling it has to be converted to float format"
   ]
  },
  {
   "cell_type": "code",
   "execution_count": 28,
   "id": "73c3e0f5",
   "metadata": {},
   "outputs": [],
   "source": [
    "# Check the data type of Rating column from object to float\n",
    "df['Rating'] = df['Rating'].astype('float64')"
   ]
  },
  {
   "cell_type": "code",
   "execution_count": 29,
   "id": "04ff75e2",
   "metadata": {},
   "outputs": [
    {
     "name": "stdout",
     "output_type": "stream",
     "text": [
      "<class 'pandas.core.frame.DataFrame'>\n",
      "Int64Index: 690 entries, 0 to 741\n",
      "Data columns (total 20 columns):\n",
      " #   Column              Non-Null Count  Dtype  \n",
      "---  ------              --------------  -----  \n",
      " 0   Rating              690 non-null    float64\n",
      " 1   Sector              690 non-null    object \n",
      " 2   Avg Salary(K)       690 non-null    float64\n",
      " 3   Python              690 non-null    int64  \n",
      " 4   spark               690 non-null    int64  \n",
      " 5   aws                 690 non-null    int64  \n",
      " 6   excel               690 non-null    int64  \n",
      " 7   sql                 690 non-null    int64  \n",
      " 8   sas                 690 non-null    int64  \n",
      " 9   keras               690 non-null    int64  \n",
      " 10  pytorch             690 non-null    int64  \n",
      " 11  scikit              690 non-null    int64  \n",
      " 12  tensor              690 non-null    int64  \n",
      " 13  hadoop              690 non-null    int64  \n",
      " 14  tableau             690 non-null    int64  \n",
      " 15  bi                  690 non-null    int64  \n",
      " 16  flink               690 non-null    int64  \n",
      " 17  mongo               690 non-null    int64  \n",
      " 18  google_an           690 non-null    int64  \n",
      " 19  seniority_by_title  690 non-null    object \n",
      "dtypes: float64(2), int64(16), object(2)\n",
      "memory usage: 129.4+ KB\n"
     ]
    }
   ],
   "source": [
    "# check the results\n",
    "df.info()"
   ]
  },
  {
   "cell_type": "markdown",
   "id": "f5cbeab4",
   "metadata": {},
   "source": [
    "##### The sector column contains information about the job sector and for modeling purposes it can be converted into dummy variables,"
   ]
  },
  {
   "cell_type": "code",
   "execution_count": 30,
   "id": "4f224448",
   "metadata": {},
   "outputs": [
    {
     "data": {
      "text/plain": [
       "count                        690\n",
       "unique                        23\n",
       "top       Information Technology\n",
       "freq                         171\n",
       "Name: Sector, dtype: object"
      ]
     },
     "execution_count": 30,
     "metadata": {},
     "output_type": "execute_result"
    }
   ],
   "source": [
    "# Find how many unique values in the sector column\n",
    "df['Sector'].describe()"
   ]
  },
  {
   "cell_type": "code",
   "execution_count": 31,
   "id": "1be9effa",
   "metadata": {},
   "outputs": [],
   "source": [
    "# Transform Sector column to dummy variable for modeling and assign to a new variable\n",
    "df_transformed = pd.get_dummies(data=df[['Sector', 'seniority_by_title']])"
   ]
  },
  {
   "cell_type": "code",
   "execution_count": 32,
   "id": "94aab81b",
   "metadata": {},
   "outputs": [
    {
     "data": {
      "text/html": [
       "<div>\n",
       "<style scoped>\n",
       "    .dataframe tbody tr th:only-of-type {\n",
       "        vertical-align: middle;\n",
       "    }\n",
       "\n",
       "    .dataframe tbody tr th {\n",
       "        vertical-align: top;\n",
       "    }\n",
       "\n",
       "    .dataframe thead th {\n",
       "        text-align: right;\n",
       "    }\n",
       "</style>\n",
       "<table border=\"1\" class=\"dataframe\">\n",
       "  <thead>\n",
       "    <tr style=\"text-align: right;\">\n",
       "      <th></th>\n",
       "      <th>Sector_Aerospace &amp; Defense</th>\n",
       "      <th>Sector_Agriculture &amp; Forestry</th>\n",
       "      <th>Sector_Arts, Entertainment &amp; Recreation</th>\n",
       "      <th>Sector_Biotech &amp; Pharmaceuticals</th>\n",
       "      <th>Sector_Business Services</th>\n",
       "      <th>Sector_Construction, Repair &amp; Maintenance</th>\n",
       "      <th>Sector_Consumer Services</th>\n",
       "      <th>Sector_Education</th>\n",
       "      <th>Sector_Finance</th>\n",
       "      <th>Sector_Government</th>\n",
       "      <th>...</th>\n",
       "      <th>Sector_Non-Profit</th>\n",
       "      <th>Sector_Oil, Gas, Energy &amp; Utilities</th>\n",
       "      <th>Sector_Real Estate</th>\n",
       "      <th>Sector_Retail</th>\n",
       "      <th>Sector_Telecommunications</th>\n",
       "      <th>Sector_Transportation &amp; Logistics</th>\n",
       "      <th>Sector_Travel &amp; Tourism</th>\n",
       "      <th>seniority_by_title_jr</th>\n",
       "      <th>seniority_by_title_na</th>\n",
       "      <th>seniority_by_title_sr</th>\n",
       "    </tr>\n",
       "  </thead>\n",
       "  <tbody>\n",
       "    <tr>\n",
       "      <th>0</th>\n",
       "      <td>1</td>\n",
       "      <td>0</td>\n",
       "      <td>0</td>\n",
       "      <td>0</td>\n",
       "      <td>0</td>\n",
       "      <td>0</td>\n",
       "      <td>0</td>\n",
       "      <td>0</td>\n",
       "      <td>0</td>\n",
       "      <td>0</td>\n",
       "      <td>...</td>\n",
       "      <td>0</td>\n",
       "      <td>0</td>\n",
       "      <td>0</td>\n",
       "      <td>0</td>\n",
       "      <td>0</td>\n",
       "      <td>0</td>\n",
       "      <td>0</td>\n",
       "      <td>0</td>\n",
       "      <td>1</td>\n",
       "      <td>0</td>\n",
       "    </tr>\n",
       "    <tr>\n",
       "      <th>1</th>\n",
       "      <td>0</td>\n",
       "      <td>0</td>\n",
       "      <td>0</td>\n",
       "      <td>0</td>\n",
       "      <td>0</td>\n",
       "      <td>0</td>\n",
       "      <td>0</td>\n",
       "      <td>0</td>\n",
       "      <td>0</td>\n",
       "      <td>0</td>\n",
       "      <td>...</td>\n",
       "      <td>0</td>\n",
       "      <td>0</td>\n",
       "      <td>0</td>\n",
       "      <td>0</td>\n",
       "      <td>0</td>\n",
       "      <td>0</td>\n",
       "      <td>0</td>\n",
       "      <td>0</td>\n",
       "      <td>1</td>\n",
       "      <td>0</td>\n",
       "    </tr>\n",
       "    <tr>\n",
       "      <th>2</th>\n",
       "      <td>0</td>\n",
       "      <td>0</td>\n",
       "      <td>0</td>\n",
       "      <td>0</td>\n",
       "      <td>1</td>\n",
       "      <td>0</td>\n",
       "      <td>0</td>\n",
       "      <td>0</td>\n",
       "      <td>0</td>\n",
       "      <td>0</td>\n",
       "      <td>...</td>\n",
       "      <td>0</td>\n",
       "      <td>0</td>\n",
       "      <td>0</td>\n",
       "      <td>0</td>\n",
       "      <td>0</td>\n",
       "      <td>0</td>\n",
       "      <td>0</td>\n",
       "      <td>0</td>\n",
       "      <td>1</td>\n",
       "      <td>0</td>\n",
       "    </tr>\n",
       "    <tr>\n",
       "      <th>3</th>\n",
       "      <td>0</td>\n",
       "      <td>0</td>\n",
       "      <td>0</td>\n",
       "      <td>0</td>\n",
       "      <td>0</td>\n",
       "      <td>0</td>\n",
       "      <td>0</td>\n",
       "      <td>0</td>\n",
       "      <td>0</td>\n",
       "      <td>0</td>\n",
       "      <td>...</td>\n",
       "      <td>0</td>\n",
       "      <td>1</td>\n",
       "      <td>0</td>\n",
       "      <td>0</td>\n",
       "      <td>0</td>\n",
       "      <td>0</td>\n",
       "      <td>0</td>\n",
       "      <td>0</td>\n",
       "      <td>1</td>\n",
       "      <td>0</td>\n",
       "    </tr>\n",
       "    <tr>\n",
       "      <th>4</th>\n",
       "      <td>0</td>\n",
       "      <td>0</td>\n",
       "      <td>0</td>\n",
       "      <td>0</td>\n",
       "      <td>1</td>\n",
       "      <td>0</td>\n",
       "      <td>0</td>\n",
       "      <td>0</td>\n",
       "      <td>0</td>\n",
       "      <td>0</td>\n",
       "      <td>...</td>\n",
       "      <td>0</td>\n",
       "      <td>0</td>\n",
       "      <td>0</td>\n",
       "      <td>0</td>\n",
       "      <td>0</td>\n",
       "      <td>0</td>\n",
       "      <td>0</td>\n",
       "      <td>0</td>\n",
       "      <td>1</td>\n",
       "      <td>0</td>\n",
       "    </tr>\n",
       "    <tr>\n",
       "      <th>5</th>\n",
       "      <td>0</td>\n",
       "      <td>0</td>\n",
       "      <td>0</td>\n",
       "      <td>0</td>\n",
       "      <td>0</td>\n",
       "      <td>0</td>\n",
       "      <td>0</td>\n",
       "      <td>0</td>\n",
       "      <td>0</td>\n",
       "      <td>0</td>\n",
       "      <td>...</td>\n",
       "      <td>0</td>\n",
       "      <td>0</td>\n",
       "      <td>1</td>\n",
       "      <td>0</td>\n",
       "      <td>0</td>\n",
       "      <td>0</td>\n",
       "      <td>0</td>\n",
       "      <td>0</td>\n",
       "      <td>1</td>\n",
       "      <td>0</td>\n",
       "    </tr>\n",
       "    <tr>\n",
       "      <th>6</th>\n",
       "      <td>0</td>\n",
       "      <td>0</td>\n",
       "      <td>0</td>\n",
       "      <td>0</td>\n",
       "      <td>0</td>\n",
       "      <td>0</td>\n",
       "      <td>0</td>\n",
       "      <td>0</td>\n",
       "      <td>1</td>\n",
       "      <td>0</td>\n",
       "      <td>...</td>\n",
       "      <td>0</td>\n",
       "      <td>0</td>\n",
       "      <td>0</td>\n",
       "      <td>0</td>\n",
       "      <td>0</td>\n",
       "      <td>0</td>\n",
       "      <td>0</td>\n",
       "      <td>0</td>\n",
       "      <td>1</td>\n",
       "      <td>0</td>\n",
       "    </tr>\n",
       "    <tr>\n",
       "      <th>7</th>\n",
       "      <td>0</td>\n",
       "      <td>0</td>\n",
       "      <td>0</td>\n",
       "      <td>0</td>\n",
       "      <td>1</td>\n",
       "      <td>0</td>\n",
       "      <td>0</td>\n",
       "      <td>0</td>\n",
       "      <td>0</td>\n",
       "      <td>0</td>\n",
       "      <td>...</td>\n",
       "      <td>0</td>\n",
       "      <td>0</td>\n",
       "      <td>0</td>\n",
       "      <td>0</td>\n",
       "      <td>0</td>\n",
       "      <td>0</td>\n",
       "      <td>0</td>\n",
       "      <td>0</td>\n",
       "      <td>1</td>\n",
       "      <td>0</td>\n",
       "    </tr>\n",
       "    <tr>\n",
       "      <th>8</th>\n",
       "      <td>0</td>\n",
       "      <td>0</td>\n",
       "      <td>0</td>\n",
       "      <td>0</td>\n",
       "      <td>0</td>\n",
       "      <td>0</td>\n",
       "      <td>0</td>\n",
       "      <td>0</td>\n",
       "      <td>0</td>\n",
       "      <td>0</td>\n",
       "      <td>...</td>\n",
       "      <td>0</td>\n",
       "      <td>0</td>\n",
       "      <td>0</td>\n",
       "      <td>0</td>\n",
       "      <td>0</td>\n",
       "      <td>0</td>\n",
       "      <td>0</td>\n",
       "      <td>0</td>\n",
       "      <td>1</td>\n",
       "      <td>0</td>\n",
       "    </tr>\n",
       "    <tr>\n",
       "      <th>9</th>\n",
       "      <td>0</td>\n",
       "      <td>0</td>\n",
       "      <td>0</td>\n",
       "      <td>0</td>\n",
       "      <td>0</td>\n",
       "      <td>0</td>\n",
       "      <td>0</td>\n",
       "      <td>0</td>\n",
       "      <td>0</td>\n",
       "      <td>0</td>\n",
       "      <td>...</td>\n",
       "      <td>0</td>\n",
       "      <td>0</td>\n",
       "      <td>0</td>\n",
       "      <td>0</td>\n",
       "      <td>0</td>\n",
       "      <td>0</td>\n",
       "      <td>0</td>\n",
       "      <td>0</td>\n",
       "      <td>1</td>\n",
       "      <td>0</td>\n",
       "    </tr>\n",
       "  </tbody>\n",
       "</table>\n",
       "<p>10 rows × 26 columns</p>\n",
       "</div>"
      ],
      "text/plain": [
       "   Sector_Aerospace & Defense  Sector_Agriculture & Forestry  \\\n",
       "0                           1                              0   \n",
       "1                           0                              0   \n",
       "2                           0                              0   \n",
       "3                           0                              0   \n",
       "4                           0                              0   \n",
       "5                           0                              0   \n",
       "6                           0                              0   \n",
       "7                           0                              0   \n",
       "8                           0                              0   \n",
       "9                           0                              0   \n",
       "\n",
       "   Sector_Arts, Entertainment & Recreation  Sector_Biotech & Pharmaceuticals  \\\n",
       "0                                        0                                 0   \n",
       "1                                        0                                 0   \n",
       "2                                        0                                 0   \n",
       "3                                        0                                 0   \n",
       "4                                        0                                 0   \n",
       "5                                        0                                 0   \n",
       "6                                        0                                 0   \n",
       "7                                        0                                 0   \n",
       "8                                        0                                 0   \n",
       "9                                        0                                 0   \n",
       "\n",
       "   Sector_Business Services  Sector_Construction, Repair & Maintenance  \\\n",
       "0                         0                                          0   \n",
       "1                         0                                          0   \n",
       "2                         1                                          0   \n",
       "3                         0                                          0   \n",
       "4                         1                                          0   \n",
       "5                         0                                          0   \n",
       "6                         0                                          0   \n",
       "7                         1                                          0   \n",
       "8                         0                                          0   \n",
       "9                         0                                          0   \n",
       "\n",
       "   Sector_Consumer Services  Sector_Education  Sector_Finance  \\\n",
       "0                         0                 0               0   \n",
       "1                         0                 0               0   \n",
       "2                         0                 0               0   \n",
       "3                         0                 0               0   \n",
       "4                         0                 0               0   \n",
       "5                         0                 0               0   \n",
       "6                         0                 0               1   \n",
       "7                         0                 0               0   \n",
       "8                         0                 0               0   \n",
       "9                         0                 0               0   \n",
       "\n",
       "   Sector_Government  ...  Sector_Non-Profit  \\\n",
       "0                  0  ...                  0   \n",
       "1                  0  ...                  0   \n",
       "2                  0  ...                  0   \n",
       "3                  0  ...                  0   \n",
       "4                  0  ...                  0   \n",
       "5                  0  ...                  0   \n",
       "6                  0  ...                  0   \n",
       "7                  0  ...                  0   \n",
       "8                  0  ...                  0   \n",
       "9                  0  ...                  0   \n",
       "\n",
       "   Sector_Oil, Gas, Energy & Utilities  Sector_Real Estate  Sector_Retail  \\\n",
       "0                                    0                   0              0   \n",
       "1                                    0                   0              0   \n",
       "2                                    0                   0              0   \n",
       "3                                    1                   0              0   \n",
       "4                                    0                   0              0   \n",
       "5                                    0                   1              0   \n",
       "6                                    0                   0              0   \n",
       "7                                    0                   0              0   \n",
       "8                                    0                   0              0   \n",
       "9                                    0                   0              0   \n",
       "\n",
       "   Sector_Telecommunications  Sector_Transportation & Logistics  \\\n",
       "0                          0                                  0   \n",
       "1                          0                                  0   \n",
       "2                          0                                  0   \n",
       "3                          0                                  0   \n",
       "4                          0                                  0   \n",
       "5                          0                                  0   \n",
       "6                          0                                  0   \n",
       "7                          0                                  0   \n",
       "8                          0                                  0   \n",
       "9                          0                                  0   \n",
       "\n",
       "   Sector_Travel & Tourism  seniority_by_title_jr  seniority_by_title_na  \\\n",
       "0                        0                      0                      1   \n",
       "1                        0                      0                      1   \n",
       "2                        0                      0                      1   \n",
       "3                        0                      0                      1   \n",
       "4                        0                      0                      1   \n",
       "5                        0                      0                      1   \n",
       "6                        0                      0                      1   \n",
       "7                        0                      0                      1   \n",
       "8                        0                      0                      1   \n",
       "9                        0                      0                      1   \n",
       "\n",
       "   seniority_by_title_sr  \n",
       "0                      0  \n",
       "1                      0  \n",
       "2                      0  \n",
       "3                      0  \n",
       "4                      0  \n",
       "5                      0  \n",
       "6                      0  \n",
       "7                      0  \n",
       "8                      0  \n",
       "9                      0  \n",
       "\n",
       "[10 rows x 26 columns]"
      ]
     },
     "execution_count": 32,
     "metadata": {},
     "output_type": "execute_result"
    }
   ],
   "source": [
    "# Check the results\n",
    "df_transformed.head(10)"
   ]
  },
  {
   "cell_type": "code",
   "execution_count": 33,
   "id": "b720273a",
   "metadata": {},
   "outputs": [],
   "source": [
    "# Combine both table together and drop original Sector column\n",
    "df = pd.concat([df, df_transformed], axis = 1)\n",
    "df.drop(['Sector','seniority_by_title' ], axis = 1, inplace = True)"
   ]
  },
  {
   "cell_type": "code",
   "execution_count": 34,
   "id": "f7292f3d",
   "metadata": {},
   "outputs": [
    {
     "data": {
      "text/html": [
       "<div>\n",
       "<style scoped>\n",
       "    .dataframe tbody tr th:only-of-type {\n",
       "        vertical-align: middle;\n",
       "    }\n",
       "\n",
       "    .dataframe tbody tr th {\n",
       "        vertical-align: top;\n",
       "    }\n",
       "\n",
       "    .dataframe thead th {\n",
       "        text-align: right;\n",
       "    }\n",
       "</style>\n",
       "<table border=\"1\" class=\"dataframe\">\n",
       "  <thead>\n",
       "    <tr style=\"text-align: right;\">\n",
       "      <th></th>\n",
       "      <th>Rating</th>\n",
       "      <th>Avg Salary(K)</th>\n",
       "      <th>Python</th>\n",
       "      <th>spark</th>\n",
       "      <th>aws</th>\n",
       "      <th>excel</th>\n",
       "      <th>sql</th>\n",
       "      <th>sas</th>\n",
       "      <th>keras</th>\n",
       "      <th>pytorch</th>\n",
       "      <th>...</th>\n",
       "      <th>Sector_Non-Profit</th>\n",
       "      <th>Sector_Oil, Gas, Energy &amp; Utilities</th>\n",
       "      <th>Sector_Real Estate</th>\n",
       "      <th>Sector_Retail</th>\n",
       "      <th>Sector_Telecommunications</th>\n",
       "      <th>Sector_Transportation &amp; Logistics</th>\n",
       "      <th>Sector_Travel &amp; Tourism</th>\n",
       "      <th>seniority_by_title_jr</th>\n",
       "      <th>seniority_by_title_na</th>\n",
       "      <th>seniority_by_title_sr</th>\n",
       "    </tr>\n",
       "  </thead>\n",
       "  <tbody>\n",
       "    <tr>\n",
       "      <th>0</th>\n",
       "      <td>3.8</td>\n",
       "      <td>72.0</td>\n",
       "      <td>1</td>\n",
       "      <td>0</td>\n",
       "      <td>0</td>\n",
       "      <td>1</td>\n",
       "      <td>0</td>\n",
       "      <td>1</td>\n",
       "      <td>0</td>\n",
       "      <td>0</td>\n",
       "      <td>...</td>\n",
       "      <td>0</td>\n",
       "      <td>0</td>\n",
       "      <td>0</td>\n",
       "      <td>0</td>\n",
       "      <td>0</td>\n",
       "      <td>0</td>\n",
       "      <td>0</td>\n",
       "      <td>0</td>\n",
       "      <td>1</td>\n",
       "      <td>0</td>\n",
       "    </tr>\n",
       "    <tr>\n",
       "      <th>1</th>\n",
       "      <td>3.4</td>\n",
       "      <td>87.5</td>\n",
       "      <td>1</td>\n",
       "      <td>0</td>\n",
       "      <td>0</td>\n",
       "      <td>0</td>\n",
       "      <td>0</td>\n",
       "      <td>0</td>\n",
       "      <td>0</td>\n",
       "      <td>0</td>\n",
       "      <td>...</td>\n",
       "      <td>0</td>\n",
       "      <td>0</td>\n",
       "      <td>0</td>\n",
       "      <td>0</td>\n",
       "      <td>0</td>\n",
       "      <td>0</td>\n",
       "      <td>0</td>\n",
       "      <td>0</td>\n",
       "      <td>1</td>\n",
       "      <td>0</td>\n",
       "    </tr>\n",
       "    <tr>\n",
       "      <th>2</th>\n",
       "      <td>4.8</td>\n",
       "      <td>85.0</td>\n",
       "      <td>1</td>\n",
       "      <td>1</td>\n",
       "      <td>0</td>\n",
       "      <td>1</td>\n",
       "      <td>1</td>\n",
       "      <td>1</td>\n",
       "      <td>0</td>\n",
       "      <td>0</td>\n",
       "      <td>...</td>\n",
       "      <td>0</td>\n",
       "      <td>0</td>\n",
       "      <td>0</td>\n",
       "      <td>0</td>\n",
       "      <td>0</td>\n",
       "      <td>0</td>\n",
       "      <td>0</td>\n",
       "      <td>0</td>\n",
       "      <td>1</td>\n",
       "      <td>0</td>\n",
       "    </tr>\n",
       "    <tr>\n",
       "      <th>3</th>\n",
       "      <td>3.8</td>\n",
       "      <td>76.5</td>\n",
       "      <td>1</td>\n",
       "      <td>0</td>\n",
       "      <td>0</td>\n",
       "      <td>0</td>\n",
       "      <td>0</td>\n",
       "      <td>0</td>\n",
       "      <td>0</td>\n",
       "      <td>0</td>\n",
       "      <td>...</td>\n",
       "      <td>0</td>\n",
       "      <td>1</td>\n",
       "      <td>0</td>\n",
       "      <td>0</td>\n",
       "      <td>0</td>\n",
       "      <td>0</td>\n",
       "      <td>0</td>\n",
       "      <td>0</td>\n",
       "      <td>1</td>\n",
       "      <td>0</td>\n",
       "    </tr>\n",
       "    <tr>\n",
       "      <th>4</th>\n",
       "      <td>2.9</td>\n",
       "      <td>114.5</td>\n",
       "      <td>1</td>\n",
       "      <td>0</td>\n",
       "      <td>0</td>\n",
       "      <td>1</td>\n",
       "      <td>1</td>\n",
       "      <td>1</td>\n",
       "      <td>0</td>\n",
       "      <td>0</td>\n",
       "      <td>...</td>\n",
       "      <td>0</td>\n",
       "      <td>0</td>\n",
       "      <td>0</td>\n",
       "      <td>0</td>\n",
       "      <td>0</td>\n",
       "      <td>0</td>\n",
       "      <td>0</td>\n",
       "      <td>0</td>\n",
       "      <td>1</td>\n",
       "      <td>0</td>\n",
       "    </tr>\n",
       "    <tr>\n",
       "      <th>5</th>\n",
       "      <td>3.4</td>\n",
       "      <td>95.0</td>\n",
       "      <td>1</td>\n",
       "      <td>0</td>\n",
       "      <td>1</td>\n",
       "      <td>1</td>\n",
       "      <td>1</td>\n",
       "      <td>0</td>\n",
       "      <td>0</td>\n",
       "      <td>0</td>\n",
       "      <td>...</td>\n",
       "      <td>0</td>\n",
       "      <td>0</td>\n",
       "      <td>1</td>\n",
       "      <td>0</td>\n",
       "      <td>0</td>\n",
       "      <td>0</td>\n",
       "      <td>0</td>\n",
       "      <td>0</td>\n",
       "      <td>1</td>\n",
       "      <td>0</td>\n",
       "    </tr>\n",
       "    <tr>\n",
       "      <th>6</th>\n",
       "      <td>4.1</td>\n",
       "      <td>73.5</td>\n",
       "      <td>0</td>\n",
       "      <td>0</td>\n",
       "      <td>0</td>\n",
       "      <td>1</td>\n",
       "      <td>0</td>\n",
       "      <td>0</td>\n",
       "      <td>0</td>\n",
       "      <td>0</td>\n",
       "      <td>...</td>\n",
       "      <td>0</td>\n",
       "      <td>0</td>\n",
       "      <td>0</td>\n",
       "      <td>0</td>\n",
       "      <td>0</td>\n",
       "      <td>0</td>\n",
       "      <td>0</td>\n",
       "      <td>0</td>\n",
       "      <td>1</td>\n",
       "      <td>0</td>\n",
       "    </tr>\n",
       "    <tr>\n",
       "      <th>7</th>\n",
       "      <td>3.8</td>\n",
       "      <td>114.0</td>\n",
       "      <td>1</td>\n",
       "      <td>1</td>\n",
       "      <td>1</td>\n",
       "      <td>1</td>\n",
       "      <td>1</td>\n",
       "      <td>0</td>\n",
       "      <td>0</td>\n",
       "      <td>1</td>\n",
       "      <td>...</td>\n",
       "      <td>0</td>\n",
       "      <td>0</td>\n",
       "      <td>0</td>\n",
       "      <td>0</td>\n",
       "      <td>0</td>\n",
       "      <td>0</td>\n",
       "      <td>0</td>\n",
       "      <td>0</td>\n",
       "      <td>1</td>\n",
       "      <td>0</td>\n",
       "    </tr>\n",
       "    <tr>\n",
       "      <th>8</th>\n",
       "      <td>3.3</td>\n",
       "      <td>61.0</td>\n",
       "      <td>0</td>\n",
       "      <td>0</td>\n",
       "      <td>0</td>\n",
       "      <td>0</td>\n",
       "      <td>0</td>\n",
       "      <td>0</td>\n",
       "      <td>0</td>\n",
       "      <td>0</td>\n",
       "      <td>...</td>\n",
       "      <td>0</td>\n",
       "      <td>0</td>\n",
       "      <td>0</td>\n",
       "      <td>0</td>\n",
       "      <td>0</td>\n",
       "      <td>0</td>\n",
       "      <td>0</td>\n",
       "      <td>0</td>\n",
       "      <td>1</td>\n",
       "      <td>0</td>\n",
       "    </tr>\n",
       "    <tr>\n",
       "      <th>9</th>\n",
       "      <td>4.6</td>\n",
       "      <td>140.0</td>\n",
       "      <td>1</td>\n",
       "      <td>1</td>\n",
       "      <td>0</td>\n",
       "      <td>0</td>\n",
       "      <td>0</td>\n",
       "      <td>0</td>\n",
       "      <td>0</td>\n",
       "      <td>0</td>\n",
       "      <td>...</td>\n",
       "      <td>0</td>\n",
       "      <td>0</td>\n",
       "      <td>0</td>\n",
       "      <td>0</td>\n",
       "      <td>0</td>\n",
       "      <td>0</td>\n",
       "      <td>0</td>\n",
       "      <td>0</td>\n",
       "      <td>1</td>\n",
       "      <td>0</td>\n",
       "    </tr>\n",
       "  </tbody>\n",
       "</table>\n",
       "<p>10 rows × 44 columns</p>\n",
       "</div>"
      ],
      "text/plain": [
       "   Rating  Avg Salary(K)  Python  spark  aws  excel  sql  sas  keras  pytorch  \\\n",
       "0     3.8           72.0       1      0    0      1    0    1      0        0   \n",
       "1     3.4           87.5       1      0    0      0    0    0      0        0   \n",
       "2     4.8           85.0       1      1    0      1    1    1      0        0   \n",
       "3     3.8           76.5       1      0    0      0    0    0      0        0   \n",
       "4     2.9          114.5       1      0    0      1    1    1      0        0   \n",
       "5     3.4           95.0       1      0    1      1    1    0      0        0   \n",
       "6     4.1           73.5       0      0    0      1    0    0      0        0   \n",
       "7     3.8          114.0       1      1    1      1    1    0      0        1   \n",
       "8     3.3           61.0       0      0    0      0    0    0      0        0   \n",
       "9     4.6          140.0       1      1    0      0    0    0      0        0   \n",
       "\n",
       "   ...  Sector_Non-Profit  Sector_Oil, Gas, Energy & Utilities  \\\n",
       "0  ...                  0                                    0   \n",
       "1  ...                  0                                    0   \n",
       "2  ...                  0                                    0   \n",
       "3  ...                  0                                    1   \n",
       "4  ...                  0                                    0   \n",
       "5  ...                  0                                    0   \n",
       "6  ...                  0                                    0   \n",
       "7  ...                  0                                    0   \n",
       "8  ...                  0                                    0   \n",
       "9  ...                  0                                    0   \n",
       "\n",
       "   Sector_Real Estate  Sector_Retail  Sector_Telecommunications  \\\n",
       "0                   0              0                          0   \n",
       "1                   0              0                          0   \n",
       "2                   0              0                          0   \n",
       "3                   0              0                          0   \n",
       "4                   0              0                          0   \n",
       "5                   1              0                          0   \n",
       "6                   0              0                          0   \n",
       "7                   0              0                          0   \n",
       "8                   0              0                          0   \n",
       "9                   0              0                          0   \n",
       "\n",
       "   Sector_Transportation & Logistics  Sector_Travel & Tourism  \\\n",
       "0                                  0                        0   \n",
       "1                                  0                        0   \n",
       "2                                  0                        0   \n",
       "3                                  0                        0   \n",
       "4                                  0                        0   \n",
       "5                                  0                        0   \n",
       "6                                  0                        0   \n",
       "7                                  0                        0   \n",
       "8                                  0                        0   \n",
       "9                                  0                        0   \n",
       "\n",
       "   seniority_by_title_jr  seniority_by_title_na  seniority_by_title_sr  \n",
       "0                      0                      1                      0  \n",
       "1                      0                      1                      0  \n",
       "2                      0                      1                      0  \n",
       "3                      0                      1                      0  \n",
       "4                      0                      1                      0  \n",
       "5                      0                      1                      0  \n",
       "6                      0                      1                      0  \n",
       "7                      0                      1                      0  \n",
       "8                      0                      1                      0  \n",
       "9                      0                      1                      0  \n",
       "\n",
       "[10 rows x 44 columns]"
      ]
     },
     "execution_count": 34,
     "metadata": {},
     "output_type": "execute_result"
    }
   ],
   "source": [
    "# Check the results\n",
    "df.head(10)"
   ]
  },
  {
   "cell_type": "code",
   "execution_count": 35,
   "id": "fcde2bbf",
   "metadata": {},
   "outputs": [
    {
     "data": {
      "image/png": "[encoded data removed]",
      "text/plain": [
       "<Figure size 640x480 with 1 Axes>"
      ]
     },
     "metadata": {},
     "output_type": "display_data"
    }
   ],
   "source": [
    "# Analyze the correlation between company rating and avarage salary\n",
    "\n",
    "sns.scatterplot(data=df, x=\"Avg Salary(K)\", y=\"Rating\")\n",
    "\n",
    "# Fit a linear regression model\n",
    "X = df[['Avg Salary(K)']]\n",
    "y = df['Rating']\n",
    "model = LinearRegression()\n",
    "model.fit(X, y)\n",
    "\n",
    "# Predict ratings using the model\n",
    "predictions = model.predict(X)\n",
    "\n",
    "# Plot the regression line\n",
    "plt.plot(X, predictions, color='red')\n",
    "\n",
    "# Calculate and display R-squared value\n",
    "r2 = r2_score(y, predictions)\n",
    "plt.text(0.8, 0.95, f'R-squared: {r2:.2f}', transform=plt.gca().transAxes, fontsize=10, verticalalignment='top')\n",
    "\n",
    "# Show the plot\n",
    "plt.show()"
   ]
  },
  {
   "cell_type": "markdown",
   "id": "423eeab1",
   "metadata": {},
   "source": [
    "##### Since rating does not have any impactful correlation with R2 = 0.02 it can be excluded from model building as well"
   ]
  },
  {
   "cell_type": "code",
   "execution_count": 36,
   "id": "fc6e1233",
   "metadata": {
    "scrolled": true
   },
   "outputs": [
    {
     "data": {
      "text/html": [
       "<div>\n",
       "<style scoped>\n",
       "    .dataframe tbody tr th:only-of-type {\n",
       "        vertical-align: middle;\n",
       "    }\n",
       "\n",
       "    .dataframe tbody tr th {\n",
       "        vertical-align: top;\n",
       "    }\n",
       "\n",
       "    .dataframe thead th {\n",
       "        text-align: right;\n",
       "    }\n",
       "</style>\n",
       "<table border=\"1\" class=\"dataframe\">\n",
       "  <thead>\n",
       "    <tr style=\"text-align: right;\">\n",
       "      <th></th>\n",
       "      <th>Avg Salary(K)</th>\n",
       "      <th>Python</th>\n",
       "      <th>spark</th>\n",
       "      <th>aws</th>\n",
       "      <th>excel</th>\n",
       "      <th>sql</th>\n",
       "      <th>sas</th>\n",
       "      <th>keras</th>\n",
       "      <th>pytorch</th>\n",
       "      <th>scikit</th>\n",
       "      <th>...</th>\n",
       "      <th>Sector_Non-Profit</th>\n",
       "      <th>Sector_Oil, Gas, Energy &amp; Utilities</th>\n",
       "      <th>Sector_Real Estate</th>\n",
       "      <th>Sector_Retail</th>\n",
       "      <th>Sector_Telecommunications</th>\n",
       "      <th>Sector_Transportation &amp; Logistics</th>\n",
       "      <th>Sector_Travel &amp; Tourism</th>\n",
       "      <th>seniority_by_title_jr</th>\n",
       "      <th>seniority_by_title_na</th>\n",
       "      <th>seniority_by_title_sr</th>\n",
       "    </tr>\n",
       "  </thead>\n",
       "  <tbody>\n",
       "    <tr>\n",
       "      <th>0</th>\n",
       "      <td>72.0</td>\n",
       "      <td>1</td>\n",
       "      <td>0</td>\n",
       "      <td>0</td>\n",
       "      <td>1</td>\n",
       "      <td>0</td>\n",
       "      <td>1</td>\n",
       "      <td>0</td>\n",
       "      <td>0</td>\n",
       "      <td>0</td>\n",
       "      <td>...</td>\n",
       "      <td>0</td>\n",
       "      <td>0</td>\n",
       "      <td>0</td>\n",
       "      <td>0</td>\n",
       "      <td>0</td>\n",
       "      <td>0</td>\n",
       "      <td>0</td>\n",
       "      <td>0</td>\n",
       "      <td>1</td>\n",
       "      <td>0</td>\n",
       "    </tr>\n",
       "    <tr>\n",
       "      <th>1</th>\n",
       "      <td>87.5</td>\n",
       "      <td>1</td>\n",
       "      <td>0</td>\n",
       "      <td>0</td>\n",
       "      <td>0</td>\n",
       "      <td>0</td>\n",
       "      <td>0</td>\n",
       "      <td>0</td>\n",
       "      <td>0</td>\n",
       "      <td>0</td>\n",
       "      <td>...</td>\n",
       "      <td>0</td>\n",
       "      <td>0</td>\n",
       "      <td>0</td>\n",
       "      <td>0</td>\n",
       "      <td>0</td>\n",
       "      <td>0</td>\n",
       "      <td>0</td>\n",
       "      <td>0</td>\n",
       "      <td>1</td>\n",
       "      <td>0</td>\n",
       "    </tr>\n",
       "    <tr>\n",
       "      <th>2</th>\n",
       "      <td>85.0</td>\n",
       "      <td>1</td>\n",
       "      <td>1</td>\n",
       "      <td>0</td>\n",
       "      <td>1</td>\n",
       "      <td>1</td>\n",
       "      <td>1</td>\n",
       "      <td>0</td>\n",
       "      <td>0</td>\n",
       "      <td>0</td>\n",
       "      <td>...</td>\n",
       "      <td>0</td>\n",
       "      <td>0</td>\n",
       "      <td>0</td>\n",
       "      <td>0</td>\n",
       "      <td>0</td>\n",
       "      <td>0</td>\n",
       "      <td>0</td>\n",
       "      <td>0</td>\n",
       "      <td>1</td>\n",
       "      <td>0</td>\n",
       "    </tr>\n",
       "    <tr>\n",
       "      <th>3</th>\n",
       "      <td>76.5</td>\n",
       "      <td>1</td>\n",
       "      <td>0</td>\n",
       "      <td>0</td>\n",
       "      <td>0</td>\n",
       "      <td>0</td>\n",
       "      <td>0</td>\n",
       "      <td>0</td>\n",
       "      <td>0</td>\n",
       "      <td>0</td>\n",
       "      <td>...</td>\n",
       "      <td>0</td>\n",
       "      <td>1</td>\n",
       "      <td>0</td>\n",
       "      <td>0</td>\n",
       "      <td>0</td>\n",
       "      <td>0</td>\n",
       "      <td>0</td>\n",
       "      <td>0</td>\n",
       "      <td>1</td>\n",
       "      <td>0</td>\n",
       "    </tr>\n",
       "    <tr>\n",
       "      <th>4</th>\n",
       "      <td>114.5</td>\n",
       "      <td>1</td>\n",
       "      <td>0</td>\n",
       "      <td>0</td>\n",
       "      <td>1</td>\n",
       "      <td>1</td>\n",
       "      <td>1</td>\n",
       "      <td>0</td>\n",
       "      <td>0</td>\n",
       "      <td>0</td>\n",
       "      <td>...</td>\n",
       "      <td>0</td>\n",
       "      <td>0</td>\n",
       "      <td>0</td>\n",
       "      <td>0</td>\n",
       "      <td>0</td>\n",
       "      <td>0</td>\n",
       "      <td>0</td>\n",
       "      <td>0</td>\n",
       "      <td>1</td>\n",
       "      <td>0</td>\n",
       "    </tr>\n",
       "  </tbody>\n",
       "</table>\n",
       "<p>5 rows × 43 columns</p>\n",
       "</div>"
      ],
      "text/plain": [
       "   Avg Salary(K)  Python  spark  aws  excel  sql  sas  keras  pytorch  scikit  \\\n",
       "0           72.0       1      0    0      1    0    1      0        0       0   \n",
       "1           87.5       1      0    0      0    0    0      0        0       0   \n",
       "2           85.0       1      1    0      1    1    1      0        0       0   \n",
       "3           76.5       1      0    0      0    0    0      0        0       0   \n",
       "4          114.5       1      0    0      1    1    1      0        0       0   \n",
       "\n",
       "   ...  Sector_Non-Profit  Sector_Oil, Gas, Energy & Utilities  \\\n",
       "0  ...                  0                                    0   \n",
       "1  ...                  0                                    0   \n",
       "2  ...                  0                                    0   \n",
       "3  ...                  0                                    1   \n",
       "4  ...                  0                                    0   \n",
       "\n",
       "   Sector_Real Estate  Sector_Retail  Sector_Telecommunications  \\\n",
       "0                   0              0                          0   \n",
       "1                   0              0                          0   \n",
       "2                   0              0                          0   \n",
       "3                   0              0                          0   \n",
       "4                   0              0                          0   \n",
       "\n",
       "   Sector_Transportation & Logistics  Sector_Travel & Tourism  \\\n",
       "0                                  0                        0   \n",
       "1                                  0                        0   \n",
       "2                                  0                        0   \n",
       "3                                  0                        0   \n",
       "4                                  0                        0   \n",
       "\n",
       "   seniority_by_title_jr  seniority_by_title_na  seniority_by_title_sr  \n",
       "0                      0                      1                      0  \n",
       "1                      0                      1                      0  \n",
       "2                      0                      1                      0  \n",
       "3                      0                      1                      0  \n",
       "4                      0                      1                      0  \n",
       "\n",
       "[5 rows x 43 columns]"
      ]
     },
     "execution_count": 36,
     "metadata": {},
     "output_type": "execute_result"
    }
   ],
   "source": [
    "# Drop Rating column\n",
    "df.drop('Rating', axis = 1, inplace = True)\n",
    "df.head()"
   ]
  },
  {
   "cell_type": "markdown",
   "id": "05e72302",
   "metadata": {},
   "source": [
    "##### In the last step I want to analyze any possible multicolinearity with all skills that will be used for modeling"
   ]
  },
  {
   "cell_type": "code",
   "execution_count": 37,
   "id": "170b0ae4",
   "metadata": {},
   "outputs": [
    {
     "data": {
      "image/png": "[encoded data removed]",
      "text/plain": [
       "<Figure size 800x600 with 2 Axes>"
      ]
     },
     "metadata": {},
     "output_type": "display_data"
    }
   ],
   "source": [
    "# Plot the heat map for all skills to find any possible multicolinearity \n",
    "plt.figure(figsize=(8, 6))\n",
    "df_skills_cor = df_skills.corr()\n",
    "sns.heatmap(df_skills_cor, cmap='RdBu')\n",
    "plt.title('Skills correlation')\n",
    "plt.show()"
   ]
  },
  {
   "cell_type": "markdown",
   "id": "94ffd6cd",
   "metadata": {},
   "source": [
    "##### Only Pytorch, Sklearn and Tensor flow have some degree of correlation. It is possibly due to all of them being part of the machine learning tool box"
   ]
  },
  {
   "cell_type": "code",
   "execution_count": 38,
   "id": "2590fb06",
   "metadata": {},
   "outputs": [],
   "source": [
    "df.to_csv('cleaned_df_salaries_2021.csv')"
   ]
  },
  {
   "cell_type": "markdown",
   "id": "440a66fd",
   "metadata": {},
   "source": [
    "# <span style=\"color:red\"> Modeling and evaluation </span>\n"
   ]
  },
  {
   "cell_type": "markdown",
   "id": "676a9ee1",
   "metadata": {},
   "source": [
    "#### For the prediction of continuous values, particularly the salary variable in this project, I have opted to employ the Linear Regression model as the prediction algorithm. Both Random Forest and XGBoost models, augmented with Grid Search CV, will also be evaluated for this study. The models will undergo training and evaluation processes, including feature selection and model selection to ensure optimal performance."
   ]
  },
  {
   "cell_type": "code",
   "execution_count": 46,
   "id": "c80c58d5",
   "metadata": {},
   "outputs": [],
   "source": [
    "# Import all necessary libraries\n",
    "import pandas as pd\n",
    "import numpy as np\n",
    "from sklearn.dummy import DummyRegressor\n",
    "from sklearn.model_selection import train_test_split\n",
    "from sklearn.linear_model import LinearRegression\n",
    "from sklearn.model_selection import cross_val_score\n",
    "from sklearn.preprocessing import StandardScaler\n",
    "from sklearn.decomposition import PCA\n",
    "from sklearn.metrics import r2_score\n",
    "from sklearn.metrics import mean_squared_error\n",
    "from sklearn import preprocessing\n",
    "from sklearn.feature_selection import VarianceThreshold\n",
    "from sklearn.ensemble import RandomForestClassifier\n",
    "from sklearn.linear_model import Lasso, Ridge\n",
    "from sklearn.ensemble import RandomForestRegressor\n",
    "from sklearn.model_selection import GridSearchCV\n"
   ]
  },
  {
   "cell_type": "code",
   "execution_count": 47,
   "id": "1b7bf8f5",
   "metadata": {
    "scrolled": false
   },
   "outputs": [
    {
     "data": {
      "text/html": [
       "<div>\n",
       "<style scoped>\n",
       "    .dataframe tbody tr th:only-of-type {\n",
       "        vertical-align: middle;\n",
       "    }\n",
       "\n",
       "    .dataframe tbody tr th {\n",
       "        vertical-align: top;\n",
       "    }\n",
       "\n",
       "    .dataframe thead th {\n",
       "        text-align: right;\n",
       "    }\n",
       "</style>\n",
       "<table border=\"1\" class=\"dataframe\">\n",
       "  <thead>\n",
       "    <tr style=\"text-align: right;\">\n",
       "      <th></th>\n",
       "      <th>Avg Salary(K)</th>\n",
       "      <th>Python</th>\n",
       "      <th>spark</th>\n",
       "      <th>aws</th>\n",
       "      <th>excel</th>\n",
       "      <th>sql</th>\n",
       "      <th>sas</th>\n",
       "      <th>keras</th>\n",
       "      <th>pytorch</th>\n",
       "      <th>scikit</th>\n",
       "      <th>...</th>\n",
       "      <th>Sector_Non-Profit</th>\n",
       "      <th>Sector_Oil, Gas, Energy &amp; Utilities</th>\n",
       "      <th>Sector_Real Estate</th>\n",
       "      <th>Sector_Retail</th>\n",
       "      <th>Sector_Telecommunications</th>\n",
       "      <th>Sector_Transportation &amp; Logistics</th>\n",
       "      <th>Sector_Travel &amp; Tourism</th>\n",
       "      <th>seniority_by_title_jr</th>\n",
       "      <th>seniority_by_title_na</th>\n",
       "      <th>seniority_by_title_sr</th>\n",
       "    </tr>\n",
       "  </thead>\n",
       "  <tbody>\n",
       "    <tr>\n",
       "      <th>0</th>\n",
       "      <td>72.0</td>\n",
       "      <td>1</td>\n",
       "      <td>0</td>\n",
       "      <td>0</td>\n",
       "      <td>1</td>\n",
       "      <td>0</td>\n",
       "      <td>1</td>\n",
       "      <td>0</td>\n",
       "      <td>0</td>\n",
       "      <td>0</td>\n",
       "      <td>...</td>\n",
       "      <td>0</td>\n",
       "      <td>0</td>\n",
       "      <td>0</td>\n",
       "      <td>0</td>\n",
       "      <td>0</td>\n",
       "      <td>0</td>\n",
       "      <td>0</td>\n",
       "      <td>0</td>\n",
       "      <td>1</td>\n",
       "      <td>0</td>\n",
       "    </tr>\n",
       "    <tr>\n",
       "      <th>1</th>\n",
       "      <td>87.5</td>\n",
       "      <td>1</td>\n",
       "      <td>0</td>\n",
       "      <td>0</td>\n",
       "      <td>0</td>\n",
       "      <td>0</td>\n",
       "      <td>0</td>\n",
       "      <td>0</td>\n",
       "      <td>0</td>\n",
       "      <td>0</td>\n",
       "      <td>...</td>\n",
       "      <td>0</td>\n",
       "      <td>0</td>\n",
       "      <td>0</td>\n",
       "      <td>0</td>\n",
       "      <td>0</td>\n",
       "      <td>0</td>\n",
       "      <td>0</td>\n",
       "      <td>0</td>\n",
       "      <td>1</td>\n",
       "      <td>0</td>\n",
       "    </tr>\n",
       "    <tr>\n",
       "      <th>2</th>\n",
       "      <td>85.0</td>\n",
       "      <td>1</td>\n",
       "      <td>1</td>\n",
       "      <td>0</td>\n",
       "      <td>1</td>\n",
       "      <td>1</td>\n",
       "      <td>1</td>\n",
       "      <td>0</td>\n",
       "      <td>0</td>\n",
       "      <td>0</td>\n",
       "      <td>...</td>\n",
       "      <td>0</td>\n",
       "      <td>0</td>\n",
       "      <td>0</td>\n",
       "      <td>0</td>\n",
       "      <td>0</td>\n",
       "      <td>0</td>\n",
       "      <td>0</td>\n",
       "      <td>0</td>\n",
       "      <td>1</td>\n",
       "      <td>0</td>\n",
       "    </tr>\n",
       "    <tr>\n",
       "      <th>3</th>\n",
       "      <td>76.5</td>\n",
       "      <td>1</td>\n",
       "      <td>0</td>\n",
       "      <td>0</td>\n",
       "      <td>0</td>\n",
       "      <td>0</td>\n",
       "      <td>0</td>\n",
       "      <td>0</td>\n",
       "      <td>0</td>\n",
       "      <td>0</td>\n",
       "      <td>...</td>\n",
       "      <td>0</td>\n",
       "      <td>1</td>\n",
       "      <td>0</td>\n",
       "      <td>0</td>\n",
       "      <td>0</td>\n",
       "      <td>0</td>\n",
       "      <td>0</td>\n",
       "      <td>0</td>\n",
       "      <td>1</td>\n",
       "      <td>0</td>\n",
       "    </tr>\n",
       "    <tr>\n",
       "      <th>4</th>\n",
       "      <td>114.5</td>\n",
       "      <td>1</td>\n",
       "      <td>0</td>\n",
       "      <td>0</td>\n",
       "      <td>1</td>\n",
       "      <td>1</td>\n",
       "      <td>1</td>\n",
       "      <td>0</td>\n",
       "      <td>0</td>\n",
       "      <td>0</td>\n",
       "      <td>...</td>\n",
       "      <td>0</td>\n",
       "      <td>0</td>\n",
       "      <td>0</td>\n",
       "      <td>0</td>\n",
       "      <td>0</td>\n",
       "      <td>0</td>\n",
       "      <td>0</td>\n",
       "      <td>0</td>\n",
       "      <td>1</td>\n",
       "      <td>0</td>\n",
       "    </tr>\n",
       "  </tbody>\n",
       "</table>\n",
       "<p>5 rows × 43 columns</p>\n",
       "</div>"
      ],
      "text/plain": [
       "   Avg Salary(K)  Python  spark  aws  excel  sql  sas  keras  pytorch  scikit  \\\n",
       "0           72.0       1      0    0      1    0    1      0        0       0   \n",
       "1           87.5       1      0    0      0    0    0      0        0       0   \n",
       "2           85.0       1      1    0      1    1    1      0        0       0   \n",
       "3           76.5       1      0    0      0    0    0      0        0       0   \n",
       "4          114.5       1      0    0      1    1    1      0        0       0   \n",
       "\n",
       "   ...  Sector_Non-Profit  Sector_Oil, Gas, Energy & Utilities  \\\n",
       "0  ...                  0                                    0   \n",
       "1  ...                  0                                    0   \n",
       "2  ...                  0                                    0   \n",
       "3  ...                  0                                    1   \n",
       "4  ...                  0                                    0   \n",
       "\n",
       "   Sector_Real Estate  Sector_Retail  Sector_Telecommunications  \\\n",
       "0                   0              0                          0   \n",
       "1                   0              0                          0   \n",
       "2                   0              0                          0   \n",
       "3                   0              0                          0   \n",
       "4                   0              0                          0   \n",
       "\n",
       "   Sector_Transportation & Logistics  Sector_Travel & Tourism  \\\n",
       "0                                  0                        0   \n",
       "1                                  0                        0   \n",
       "2                                  0                        0   \n",
       "3                                  0                        0   \n",
       "4                                  0                        0   \n",
       "\n",
       "   seniority_by_title_jr  seniority_by_title_na  seniority_by_title_sr  \n",
       "0                      0                      1                      0  \n",
       "1                      0                      1                      0  \n",
       "2                      0                      1                      0  \n",
       "3                      0                      1                      0  \n",
       "4                      0                      1                      0  \n",
       "\n",
       "[5 rows x 43 columns]"
      ]
     },
     "execution_count": 47,
     "metadata": {},
     "output_type": "execute_result"
    }
   ],
   "source": [
    "# Check the final view of the table\n",
    "df.head()"
   ]
  },
  {
   "cell_type": "markdown",
   "id": "c24a8331",
   "metadata": {},
   "source": [
    "#### The target value of the salary is on different scale comparing to all the feaures I am trying to train the model on. In this case it is rational to apply log fucntion to the target to bring the values closer to the scale of the features."
   ]
  },
  {
   "cell_type": "code",
   "execution_count": 103,
   "id": "2549cd4a",
   "metadata": {},
   "outputs": [
    {
     "name": "stdout",
     "output_type": "stream",
     "text": [
      "<class 'pandas.core.frame.DataFrame'>\n",
      "Int64Index: 690 entries, 0 to 741\n",
      "Data columns (total 44 columns):\n",
      " #   Column                                     Non-Null Count  Dtype  \n",
      "---  ------                                     --------------  -----  \n",
      " 0   Avg Salary(K)                              690 non-null    float64\n",
      " 1   Python                                     690 non-null    int64  \n",
      " 2   spark                                      690 non-null    int64  \n",
      " 3   aws                                        690 non-null    int64  \n",
      " 4   excel                                      690 non-null    int64  \n",
      " 5   sql                                        690 non-null    int64  \n",
      " 6   sas                                        690 non-null    int64  \n",
      " 7   keras                                      690 non-null    int64  \n",
      " 8   pytorch                                    690 non-null    int64  \n",
      " 9   scikit                                     690 non-null    int64  \n",
      " 10  tensor                                     690 non-null    int64  \n",
      " 11  hadoop                                     690 non-null    int64  \n",
      " 12  tableau                                    690 non-null    int64  \n",
      " 13  bi                                         690 non-null    int64  \n",
      " 14  flink                                      690 non-null    int64  \n",
      " 15  mongo                                      690 non-null    int64  \n",
      " 16  google_an                                  690 non-null    int64  \n",
      " 17  Sector_Aerospace & Defense                 690 non-null    uint8  \n",
      " 18  Sector_Agriculture & Forestry              690 non-null    uint8  \n",
      " 19  Sector_Arts, Entertainment & Recreation    690 non-null    uint8  \n",
      " 20  Sector_Biotech & Pharmaceuticals           690 non-null    uint8  \n",
      " 21  Sector_Business Services                   690 non-null    uint8  \n",
      " 22  Sector_Construction, Repair & Maintenance  690 non-null    uint8  \n",
      " 23  Sector_Consumer Services                   690 non-null    uint8  \n",
      " 24  Sector_Education                           690 non-null    uint8  \n",
      " 25  Sector_Finance                             690 non-null    uint8  \n",
      " 26  Sector_Government                          690 non-null    uint8  \n",
      " 27  Sector_Health Care                         690 non-null    uint8  \n",
      " 28  Sector_Information Technology              690 non-null    uint8  \n",
      " 29  Sector_Insurance                           690 non-null    uint8  \n",
      " 30  Sector_Manufacturing                       690 non-null    uint8  \n",
      " 31  Sector_Media                               690 non-null    uint8  \n",
      " 32  Sector_Mining & Metals                     690 non-null    uint8  \n",
      " 33  Sector_Non-Profit                          690 non-null    uint8  \n",
      " 34  Sector_Oil, Gas, Energy & Utilities        690 non-null    uint8  \n",
      " 35  Sector_Real Estate                         690 non-null    uint8  \n",
      " 36  Sector_Retail                              690 non-null    uint8  \n",
      " 37  Sector_Telecommunications                  690 non-null    uint8  \n",
      " 38  Sector_Transportation & Logistics          690 non-null    uint8  \n",
      " 39  Sector_Travel & Tourism                    690 non-null    uint8  \n",
      " 40  seniority_by_title_jr                      690 non-null    uint8  \n",
      " 41  seniority_by_title_na                      690 non-null    uint8  \n",
      " 42  seniority_by_title_sr                      690 non-null    uint8  \n",
      " 43  Log_Avg_Salary                             690 non-null    float64\n",
      "dtypes: float64(2), int64(16), uint8(26)\n",
      "memory usage: 136.1 KB\n"
     ]
    }
   ],
   "source": [
    "df.info()"
   ]
  },
  {
   "cell_type": "code",
   "execution_count": 102,
   "id": "a7c0619f",
   "metadata": {},
   "outputs": [],
   "source": [
    "# Bring the target values to log scale\n",
    "df['Log_Avg_Salary'] = np.log(df['Avg Salary(K)'])"
   ]
  },
  {
   "cell_type": "code",
   "execution_count": 51,
   "id": "fd80f1d1",
   "metadata": {},
   "outputs": [],
   "source": [
    "# Assign all training features to features variable by dropping log avg salary and avg salary columns\n",
    "features = df.drop(columns= ['Log_Avg_Salary','Avg Salary(K)'])"
   ]
  },
  {
   "cell_type": "code",
   "execution_count": 52,
   "id": "d85065ce",
   "metadata": {},
   "outputs": [],
   "source": [
    "# Assign log avg salary as target\n",
    "target = df['Log_Avg_Salary']"
   ]
  },
  {
   "cell_type": "code",
   "execution_count": 119,
   "id": "093b466d",
   "metadata": {},
   "outputs": [],
   "source": [
    "# Split the data into train and test (20% for testing)\n",
    "features_train, features_test,target_train,target_test = train_test_split(features,target, test_size = 0.2, random_state = 42)"
   ]
  },
  {
   "cell_type": "markdown",
   "id": "b9dbb131",
   "metadata": {},
   "source": [
    "### Generate a baseline linear model for model evaluation"
   ]
  },
  {
   "cell_type": "code",
   "execution_count": 120,
   "id": "8ff4a973",
   "metadata": {},
   "outputs": [],
   "source": [
    "# Generate an instance of dummy regressor\n",
    "dummy_r = DummyRegressor(strategy = 'mean')"
   ]
  },
  {
   "cell_type": "code",
   "execution_count": 121,
   "id": "5381f527",
   "metadata": {},
   "outputs": [
    {
     "data": {
      "text/plain": [
       "DummyRegressor()"
      ]
     },
     "execution_count": 121,
     "metadata": {},
     "output_type": "execute_result"
    }
   ],
   "source": [
    "# Train a baseline model on the training set\n",
    "dummy_r.fit(features_train, target_train)"
   ]
  },
  {
   "cell_type": "code",
   "execution_count": 122,
   "id": "42624445",
   "metadata": {
    "scrolled": true
   },
   "outputs": [
    {
     "data": {
      "text/plain": [
       "-0.007581327545219674"
      ]
     },
     "execution_count": 122,
     "metadata": {},
     "output_type": "execute_result"
    }
   ],
   "source": [
    "# Calculate the score of the baseline model\n",
    "dummy_r.score(features_test, target_test)"
   ]
  },
  {
   "cell_type": "markdown",
   "id": "7eb10dfe",
   "metadata": {},
   "source": [
    "#### The baseline dummy regression model has a score of -0.007.  This value will be used to compare to performance of the trained and tuned models"
   ]
  },
  {
   "cell_type": "code",
   "execution_count": 123,
   "id": "0a69e41e",
   "metadata": {},
   "outputs": [],
   "source": [
    "# Create a linear regression model instance\n",
    "ols = LinearRegression()"
   ]
  },
  {
   "cell_type": "code",
   "execution_count": 124,
   "id": "3fac673e",
   "metadata": {},
   "outputs": [],
   "source": [
    "# Train the model on the training set\n",
    "model = ols.fit(features_train,target_train)"
   ]
  },
  {
   "cell_type": "code",
   "execution_count": 125,
   "id": "247ff3df",
   "metadata": {},
   "outputs": [],
   "source": [
    "# Predict the log salaries of the test set\n",
    "target_predict = model.predict(features_test)"
   ]
  },
  {
   "cell_type": "code",
   "execution_count": 126,
   "id": "58e88d31",
   "metadata": {},
   "outputs": [
    {
     "name": "stdout",
     "output_type": "stream",
     "text": [
      "R-squared value of the Linear Regression model without tuning is -  0.3872601100783084\n"
     ]
    }
   ],
   "source": [
    "# Find R2 value\n",
    "r2 = r2_score(target_test, target_predict)\n",
    "print(\"R-squared value of the Linear Regression model without tuning is - \", r2)"
   ]
  },
  {
   "cell_type": "code",
   "execution_count": 127,
   "id": "7409bf21",
   "metadata": {},
   "outputs": [],
   "source": [
    "# Calculate mean squared error\n",
    "mse = mean_squared_error(target_test, target_predict)"
   ]
  },
  {
   "cell_type": "code",
   "execution_count": 128,
   "id": "784bd298",
   "metadata": {},
   "outputs": [
    {
     "name": "stdout",
     "output_type": "stream",
     "text": [
      "RMSE value of the Linear Regression model without tuning is -  0.3104222041086653\n"
     ]
    }
   ],
   "source": [
    "# Find the square root of MSE\n",
    "rmse = np.sqrt(mse)\n",
    "print(\"RMSE value of the Linear Regression model without tuning is - \", rmse)"
   ]
  },
  {
   "cell_type": "markdown",
   "id": "3b2ce4bb",
   "metadata": {},
   "source": [
    "### Perform PCA to asses the dimentionality reduction affect on model performance"
   ]
  },
  {
   "cell_type": "code",
   "execution_count": 129,
   "id": "a71d6683",
   "metadata": {},
   "outputs": [],
   "source": [
    "# Use standard scaler to standrdize the training set\n",
    "scaler = StandardScaler()\n",
    "features_train_scaled = scaler.fit_transform(features_train)\n",
    "\n",
    "# Use the same scaler to transform the testing data\n",
    "features_test_scaled = scaler.transform(features_test)"
   ]
  },
  {
   "cell_type": "code",
   "execution_count": 130,
   "id": "f996eb4d",
   "metadata": {},
   "outputs": [],
   "source": [
    "# Generate Pricncipal Component Analysis function\n",
    "pca = PCA(n_components = 0.90, whiten = True)"
   ]
  },
  {
   "cell_type": "code",
   "execution_count": 131,
   "id": "eb0141d9",
   "metadata": {},
   "outputs": [],
   "source": [
    "# Fit transorm standardized training data with PCA function\n",
    "features_train_scaled_pca = pca.fit_transform(features_train_scaled)"
   ]
  },
  {
   "cell_type": "code",
   "execution_count": 132,
   "id": "06d1d7c7",
   "metadata": {},
   "outputs": [
    {
     "data": {
      "text/plain": [
       "(138, 31)"
      ]
     },
     "execution_count": 132,
     "metadata": {},
     "output_type": "execute_result"
    }
   ],
   "source": [
    "features_test_scaled_pca = pca.transform(features_test_scaled)\n",
    "features_test_scaled_pca.shape"
   ]
  },
  {
   "cell_type": "code",
   "execution_count": 133,
   "id": "5142db46",
   "metadata": {},
   "outputs": [
    {
     "name": "stdout",
     "output_type": "stream",
     "text": [
      "Number of features after PCA: 31\n",
      "Number of features before PCA: 42\n"
     ]
    }
   ],
   "source": [
    "# Print the number of features before and after PCA\n",
    "print('Number of features after PCA:',   features_train_scaled_pca.shape[1])\n",
    "print('Number of features before PCA:',features_train_scaled.shape[1])"
   ]
  },
  {
   "cell_type": "code",
   "execution_count": 134,
   "id": "24cdc886",
   "metadata": {},
   "outputs": [
    {
     "data": {
      "text/plain": [
       "(138, 31)"
      ]
     },
     "execution_count": 134,
     "metadata": {},
     "output_type": "execute_result"
    }
   ],
   "source": [
    "# Transform test set of features with PCA\n",
    "features_test_scaled_pca = pca.transform(features_test_scaled)\n",
    "features_test_scaled_pca.shape"
   ]
  },
  {
   "cell_type": "code",
   "execution_count": 135,
   "id": "ecd952de",
   "metadata": {},
   "outputs": [],
   "source": [
    "# Train a model with standardized features after PCA\n",
    "model_pca = ols.fit(features_train_scaled_pca, target_train)"
   ]
  },
  {
   "cell_type": "code",
   "execution_count": 136,
   "id": "c8f0fe7f",
   "metadata": {},
   "outputs": [],
   "source": [
    "# Generate prediction with linear regression model trained on features after PCA\n",
    "target_pred_pca = model_pca.predict(features_test_scaled_pca)"
   ]
  },
  {
   "cell_type": "code",
   "execution_count": 137,
   "id": "f1b7698b",
   "metadata": {},
   "outputs": [
    {
     "name": "stdout",
     "output_type": "stream",
     "text": [
      "R-squared value of the Linear Regression model with PCA applied is -  0.3695732578652464\n"
     ]
    }
   ],
   "source": [
    "# Calcaulate R2 of the newly trained model\n",
    "r2_pca = r2_score(target_test, target_pred_pca)\n",
    "print(\"R-squared value of the Linear Regression model with PCA applied is - \", r2_pca)"
   ]
  },
  {
   "cell_type": "code",
   "execution_count": 138,
   "id": "2dfd5eef",
   "metadata": {},
   "outputs": [
    {
     "name": "stdout",
     "output_type": "stream",
     "text": [
      "RMSE value of the Linear Regression model with PCA applied is -  0.3148705296967064\n"
     ]
    }
   ],
   "source": [
    "# Calculate mean squared error\n",
    "mse = mean_squared_error(target_test, target_pred_pca)\n",
    "rmse = np.sqrt(mse)\n",
    "print(\"RMSE value of the Linear Regression model with PCA applied is - \", rmse)"
   ]
  },
  {
   "cell_type": "markdown",
   "id": "0db09a32",
   "metadata": {},
   "source": [
    "### Feature selection with Min Max scaler"
   ]
  },
  {
   "cell_type": "code",
   "execution_count": 139,
   "id": "81509e0e",
   "metadata": {},
   "outputs": [],
   "source": [
    "# Create an instance of minmax scaler with 0 to 1 feaure values range\n",
    "scaler_minmax = preprocessing.MinMaxScaler(feature_range=(0,1))"
   ]
  },
  {
   "cell_type": "code",
   "execution_count": 140,
   "id": "86d169d0",
   "metadata": {},
   "outputs": [],
   "source": [
    "# Fit and transform training features set with minmax scaler\n",
    "features_minmax_train = scaler_minmax.fit_transform(features_train)"
   ]
  },
  {
   "cell_type": "code",
   "execution_count": 141,
   "id": "d2374ba9",
   "metadata": {},
   "outputs": [],
   "source": [
    "# Create a variance threshold with value 0.1. (Variance above 0.1)\n",
    "threshold  = VarianceThreshold(threshold = .1)"
   ]
  },
  {
   "cell_type": "code",
   "execution_count": 142,
   "id": "b82a12e5",
   "metadata": {},
   "outputs": [],
   "source": [
    "# Fit and transform variance threshold filter\n",
    "features_higher_variance_train = threshold.fit_transform(features_minmax_train)"
   ]
  },
  {
   "cell_type": "code",
   "execution_count": 143,
   "id": "61b07f7d",
   "metadata": {},
   "outputs": [],
   "source": [
    "# Transform the testing features with minmax scaler\n",
    "features_minmax_test = scaler_minmax.transform(features_test)"
   ]
  },
  {
   "cell_type": "code",
   "execution_count": 144,
   "id": "647d5fa4",
   "metadata": {},
   "outputs": [],
   "source": [
    "# Transform the testing features with the same threshold\n",
    "features_higher_variance_test = threshold.transform(features_minmax_test)"
   ]
  },
  {
   "cell_type": "code",
   "execution_count": 145,
   "id": "2caf8829",
   "metadata": {},
   "outputs": [],
   "source": [
    "# Train a linear regression model on higher variance filtered features\n",
    "model_minmax = ols.fit(features_higher_variance_train, target_train)"
   ]
  },
  {
   "cell_type": "code",
   "execution_count": 146,
   "id": "2725a64a",
   "metadata": {},
   "outputs": [],
   "source": [
    "# Predict price with higher variance test features\n",
    "target_pred_minmax_test = model_minmax.predict(features_higher_variance_test)"
   ]
  },
  {
   "cell_type": "code",
   "execution_count": 147,
   "id": "a4b31407",
   "metadata": {},
   "outputs": [
    {
     "name": "stdout",
     "output_type": "stream",
     "text": [
      "R-squared value of the Linear Regression model with MinMax applied is -  0.3454862178778024\n"
     ]
    }
   ],
   "source": [
    "# Calculate R2\n",
    "r2_minmax = r2_score(target_test, target_pred_minmax_test)\n",
    "print(\"R-squared value of the Linear Regression model with MinMax applied is - \", r2_minmax)"
   ]
  },
  {
   "cell_type": "code",
   "execution_count": 148,
   "id": "d0946509",
   "metadata": {
    "scrolled": true
   },
   "outputs": [
    {
     "name": "stdout",
     "output_type": "stream",
     "text": [
      "RMSE value of the Linear Regression model with MinMax scaler applied is -  0.32082935567889914\n"
     ]
    }
   ],
   "source": [
    "# Calculate mean squared error\n",
    "mse = mean_squared_error(target_test, target_pred_minmax_test)\n",
    "rmse = np.sqrt(mse)\n",
    "print(\"RMSE value of the Linear Regression model with MinMax scaler applied is - \", rmse)"
   ]
  },
  {
   "cell_type": "markdown",
   "id": "30e482d7",
   "metadata": {},
   "source": [
    "### A Lasso regression model training is also selected to test on the data because it has a built-in feauture selection mechanism and L1 regularization."
   ]
  },
  {
   "cell_type": "code",
   "execution_count": 149,
   "id": "458f5119",
   "metadata": {},
   "outputs": [
    {
     "data": {
      "text/plain": [
       "Lasso(alpha=0.01)"
      ]
     },
     "execution_count": 149,
     "metadata": {},
     "output_type": "execute_result"
    }
   ],
   "source": [
    "# Generate an instance of a Lasso Regression model and train themodel\n",
    "lasso_model = Lasso(alpha=0.01)  \n",
    "lasso_model.fit(features_train, target_train)"
   ]
  },
  {
   "cell_type": "code",
   "execution_count": 150,
   "id": "10b1a604",
   "metadata": {},
   "outputs": [],
   "source": [
    "# Predict the target using test set of features\n",
    "target_pred_lasso = lasso_model.predict(features_test)\n",
    "mse_lasso = mean_squared_error(target_test, target_pred_lasso)\n"
   ]
  },
  {
   "cell_type": "code",
   "execution_count": 151,
   "id": "8ea45c40",
   "metadata": {
    "scrolled": true
   },
   "outputs": [
    {
     "name": "stdout",
     "output_type": "stream",
     "text": [
      "R-squared value of the Lasso Regression model is -  0.29389696757598016\n"
     ]
    }
   ],
   "source": [
    "r2_lasso = r2_score(target_test, target_pred_lasso)\n",
    "print(\"R-squared value of the Lasso Regression model is - \", r2_lasso)"
   ]
  },
  {
   "cell_type": "code",
   "execution_count": 152,
   "id": "b4196a6d",
   "metadata": {},
   "outputs": [
    {
     "name": "stdout",
     "output_type": "stream",
     "text": [
      "RMSE value of the Lasso Regression model is -  0.33323356509192154\n"
     ]
    }
   ],
   "source": [
    "# Calculate mean squared error\n",
    "mse_lasso = mean_squared_error(target_test, target_pred_lasso)\n",
    "rmse = np.sqrt(mse_lasso)\n",
    "print(\"RMSE value of the Lasso Regression model is - \", rmse)"
   ]
  },
  {
   "cell_type": "markdown",
   "id": "8b6e170b",
   "metadata": {},
   "source": [
    "### Perhaps the data does not have a large sample size and Ridge regression wih L2 penalty can demosntrate better performance on this data set"
   ]
  },
  {
   "cell_type": "code",
   "execution_count": 153,
   "id": "37fc68db",
   "metadata": {},
   "outputs": [
    {
     "data": {
      "text/plain": [
       "Ridge(alpha=0.01)"
      ]
     },
     "execution_count": 153,
     "metadata": {},
     "output_type": "execute_result"
    }
   ],
   "source": [
    "# Generate a Ridge Regression instance and train a model on the train data set\n",
    "ridge_model = Ridge(alpha=0.01)  # You can adjust the regularization parameter alpha\n",
    "ridge_model.fit(features_train, target_train)"
   ]
  },
  {
   "cell_type": "code",
   "execution_count": 154,
   "id": "bd7ca246",
   "metadata": {},
   "outputs": [],
   "source": [
    "# Predict the salaries using test features set\n",
    "target_pred_ridge = ridge_model.predict(features_test)\n"
   ]
  },
  {
   "cell_type": "code",
   "execution_count": 155,
   "id": "6fa919a1",
   "metadata": {},
   "outputs": [
    {
     "name": "stdout",
     "output_type": "stream",
     "text": [
      "R-squared value of the Ridge Regression model is -  0.3879433037721648\n"
     ]
    }
   ],
   "source": [
    "r2_ridge = r2_score(target_test, target_pred_ridge)\n",
    "print(\"R-squared value of the Ridge Regression model is - \", r2_ridge)"
   ]
  },
  {
   "cell_type": "code",
   "execution_count": 156,
   "id": "bf9e5bea",
   "metadata": {},
   "outputs": [
    {
     "name": "stdout",
     "output_type": "stream",
     "text": [
      "RMSE value of the Ridge Regression model is -  0.3102490983221381\n"
     ]
    }
   ],
   "source": [
    "mse_ridge = mean_squared_error(target_test, target_pred_ridge)\n",
    "rmse = np.sqrt(mse_ridge)\n",
    "print(\"RMSE value of the Ridge Regression model is - \", rmse)"
   ]
  },
  {
   "cell_type": "markdown",
   "id": "6b8ebc6c",
   "metadata": {},
   "source": [
    "### For the second type of learning algorithm Random Forest model was selected. It may have better prediction power that general linear regression model due to the nature of the features of the data set"
   ]
  },
  {
   "cell_type": "code",
   "execution_count": 157,
   "id": "24b3a6e5",
   "metadata": {},
   "outputs": [],
   "source": [
    "# Create an instance of the Random Forest regressor\n",
    "rfm = RandomForestRegressor()"
   ]
  },
  {
   "cell_type": "code",
   "execution_count": 158,
   "id": "7bee354a",
   "metadata": {},
   "outputs": [],
   "source": [
    "# Apply the regressor to the training set\n",
    "model_rf = rfm.fit(features_train, target_train)"
   ]
  },
  {
   "cell_type": "code",
   "execution_count": 159,
   "id": "941f718c",
   "metadata": {},
   "outputs": [],
   "source": [
    "# Predict the results using test set\n",
    "target_predict_rf = model_rf.predict(features_test)"
   ]
  },
  {
   "cell_type": "code",
   "execution_count": 160,
   "id": "00eee903",
   "metadata": {},
   "outputs": [
    {
     "name": "stdout",
     "output_type": "stream",
     "text": [
      "R-squared value of the RandomForest model is -  0.5017844283176311\n"
     ]
    }
   ],
   "source": [
    "r2_rf =r2_score(target_test,target_predict_rf )\n",
    "print(\"R-squared value of the RandomForest model is - \", r2_rf)"
   ]
  },
  {
   "cell_type": "code",
   "execution_count": 161,
   "id": "63182868",
   "metadata": {},
   "outputs": [
    {
     "name": "stdout",
     "output_type": "stream",
     "text": [
      "RMSE value of the Random Forest model is -  0.27991318103061463\n"
     ]
    }
   ],
   "source": [
    "mse_rf = mean_squared_error(target_test, target_predict_rf)\n",
    "rmse = np.sqrt(mse_rf)\n",
    "print(\"RMSE value of the Random Forest model is - \", rmse)"
   ]
  },
  {
   "cell_type": "markdown",
   "id": "a06708ee",
   "metadata": {},
   "source": [
    "### Grid Search CV will be employed to fine-tune the Random Forest algorithm, which has demonstrated better performance in predicting salaries. Various parameters including the number of estimators, maximum depth, and minimum sample split will be tested to determine the optimal performance.\n",
    "\n"
   ]
  },
  {
   "cell_type": "code",
   "execution_count": 162,
   "id": "5c10dd0b",
   "metadata": {},
   "outputs": [],
   "source": [
    "# Create a dictionary of parameters and values to serach the best model on\n",
    "search_grid = {'n_estimators' : [100, 200,300],\n",
    "               'max_depth' : [None, 10,20,30,40],\n",
    "               'min_samples_split' :[2,5,10]\n",
    "    \n",
    "}"
   ]
  },
  {
   "cell_type": "code",
   "execution_count": 163,
   "id": "74e30d96",
   "metadata": {},
   "outputs": [],
   "source": [
    "# Create an instance of Random Forest regressor\n",
    "rfm = RandomForestRegressor(random_state = 42)"
   ]
  },
  {
   "cell_type": "code",
   "execution_count": 164,
   "id": "8ac7f701",
   "metadata": {},
   "outputs": [],
   "source": [
    "# Apply a grid search cross validation with the set of parameters and cross validation of 5 \n",
    "grid_search = GridSearchCV(estimator = rfm, param_grid = search_grid, cv =5, n_jobs = -1, scoring = 'r2')"
   ]
  },
  {
   "cell_type": "code",
   "execution_count": 165,
   "id": "51dbcfe8",
   "metadata": {},
   "outputs": [
    {
     "data": {
      "text/plain": [
       "GridSearchCV(cv=5, estimator=RandomForestRegressor(random_state=42), n_jobs=-1,\n",
       "             param_grid={'max_depth': [None, 10, 20, 30, 40],\n",
       "                         'min_samples_split': [2, 5, 10],\n",
       "                         'n_estimators': [100, 200, 300]},\n",
       "             scoring='r2')"
      ]
     },
     "execution_count": 165,
     "metadata": {},
     "output_type": "execute_result"
    }
   ],
   "source": [
    "# Train the model using Grid Search cross validation\n",
    "grid_search.fit(features_train, target_train)"
   ]
  },
  {
   "cell_type": "code",
   "execution_count": 166,
   "id": "f8ad3a0f",
   "metadata": {},
   "outputs": [
    {
     "data": {
      "text/plain": [
       "RandomForestRegressor(max_depth=10, n_estimators=200, random_state=42)"
      ]
     },
     "execution_count": 166,
     "metadata": {},
     "output_type": "execute_result"
    }
   ],
   "source": [
    "# Find the best model parameters\n",
    "grid_search.best_estimator_"
   ]
  },
  {
   "cell_type": "code",
   "execution_count": 167,
   "id": "878df520",
   "metadata": {},
   "outputs": [],
   "source": [
    "# Assign the best model parameters to a variable \n",
    "best_grid_model_rf = grid_search.best_estimator_"
   ]
  },
  {
   "cell_type": "code",
   "execution_count": 168,
   "id": "c831bbcf",
   "metadata": {},
   "outputs": [],
   "source": [
    "# Using the best model parameters predict the log salaries using test set of the features\n",
    "target_predict_rfm = best_grid_model_rf.predict(features_test)"
   ]
  },
  {
   "cell_type": "code",
   "execution_count": 169,
   "id": "f7a40d3f",
   "metadata": {},
   "outputs": [
    {
     "name": "stdout",
     "output_type": "stream",
     "text": [
      "R-squared value of the RandomForest model with a grid search cross validation is -  0.5104217969220213\n"
     ]
    }
   ],
   "source": [
    "# Calculate R2 of the model\n",
    "r2_best_rfm = r2_score(target_test, target_predict_rfm)\n",
    "print(\"R-squared value of the RandomForest model with a grid search cross validation is - \", r2_best_rfm)"
   ]
  },
  {
   "cell_type": "code",
   "execution_count": 170,
   "id": "6fd5839f",
   "metadata": {},
   "outputs": [
    {
     "name": "stdout",
     "output_type": "stream",
     "text": [
      "RMSE value of the Random Forest model is -  0.2774761999056858\n"
     ]
    }
   ],
   "source": [
    "# Calculate the RMSE of the model\n",
    "mse_rf_gs = mean_squared_error(target_test, target_predict_rfm)\n",
    "rmse = np.sqrt(mse_rf_gs)\n",
    "print(\"RMSE value of the Random Forest with the grid search applied model is - \", rmse)"
   ]
  },
  {
   "cell_type": "markdown",
   "id": "aee3f4d3",
   "metadata": {},
   "source": [
    "### Given that the Grid Search cross-validation produced superior results, the range of parameters to explore in GridSearch CV will be expanded to potentially enhance performance further.\n"
   ]
  },
  {
   "cell_type": "code",
   "execution_count": 193,
   "id": "0c863be2",
   "metadata": {},
   "outputs": [],
   "source": [
    "# Create an extended dictionary of parameters to serach the best performing model on\n",
    "search_grid_2 = {'n_estimators' : [100,200,250,300],\n",
    "               'max_depth' : [10,20,25,30],\n",
    "               'min_samples_split' :[2,5,10,20],\n",
    "               'min_samples_leaf' : [1,2,4,8],\n",
    "                 'max_features' : ['auto', 'sqrt', 'log2'],\n",
    "                 'bootstrap' : [True, False]\n",
    "    \n",
    "}"
   ]
  },
  {
   "cell_type": "code",
   "execution_count": 194,
   "id": "54b3e80a",
   "metadata": {},
   "outputs": [],
   "source": [
    "# Create an instance of Random Forest Regressor\n",
    "rfm_2 = RandomForestRegressor(random_state = 42)"
   ]
  },
  {
   "cell_type": "code",
   "execution_count": 195,
   "id": "1a50e32f",
   "metadata": {},
   "outputs": [],
   "source": [
    "# Generate a grid search \n",
    "grid_search = GridSearchCV(estimator = rfm_2, param_grid = search_grid_2, cv =5, n_jobs = -1, scoring = 'r2', verbose = 2)"
   ]
  },
  {
   "cell_type": "code",
   "execution_count": 196,
   "id": "5aae1070",
   "metadata": {},
   "outputs": [
    {
     "name": "stdout",
     "output_type": "stream",
     "text": [
      "Fitting 5 folds for each of 1536 candidates, totalling 7680 fits\n"
     ]
    }
   ],
   "source": [
    "# Train a random forest model using the grid search\n",
    "grid_search_v2_model = grid_search.fit(features_train, target_train)"
   ]
  },
  {
   "cell_type": "code",
   "execution_count": 197,
   "id": "8c4a943e",
   "metadata": {},
   "outputs": [
    {
     "data": {
      "text/plain": [
       "{'bootstrap': True,\n",
       " 'max_depth': 20,\n",
       " 'max_features': 'log2',\n",
       " 'min_samples_leaf': 1,\n",
       " 'min_samples_split': 2,\n",
       " 'n_estimators': 200}"
      ]
     },
     "execution_count": 197,
     "metadata": {},
     "output_type": "execute_result"
    }
   ],
   "source": [
    "# Display the best selected hyperparameters\n",
    "grid_search_v2_model.best_params_"
   ]
  },
  {
   "cell_type": "code",
   "execution_count": 198,
   "id": "c9520367",
   "metadata": {},
   "outputs": [],
   "source": [
    "# Create a variable with the best parameters identified by grid serach cross validation\n",
    "best_rfm_model_2 = grid_search_v2_model.best_estimator_"
   ]
  },
  {
   "cell_type": "code",
   "execution_count": 199,
   "id": "b4b7e6d5",
   "metadata": {},
   "outputs": [],
   "source": [
    "# Predict the target values using the trained model \n",
    "target_predict_rfm_2 = best_rfm_model_2.predict(features_test)"
   ]
  },
  {
   "cell_type": "code",
   "execution_count": 200,
   "id": "cb6480e8",
   "metadata": {},
   "outputs": [
    {
     "name": "stdout",
     "output_type": "stream",
     "text": [
      "R-squared value of the RandomForest model with extended grid search cross validation is -  0.6017994833202269\n"
     ]
    }
   ],
   "source": [
    "r2_best_rfm = r2_score(target_test, target_predict_rfm_2)\n",
    "print(\"R-squared value of the RandomForest model with extended grid search cross validation is - \", r2_best_rfm)\n"
   ]
  },
  {
   "cell_type": "code",
   "execution_count": 201,
   "id": "213549aa",
   "metadata": {},
   "outputs": [
    {
     "name": "stdout",
     "output_type": "stream",
     "text": [
      "RMSE value of the Random Forest RandomForest model with extended grid search cross validation model is -  0.2502451163228576\n"
     ]
    }
   ],
   "source": [
    "# Calculate the RMSE of the model\n",
    "mse_rf_gs_best = mean_squared_error(target_test, target_predict_rfm_2)\n",
    "rmse = np.sqrt(mse_rf_gs_best)\n",
    "print(\"RMSE value of the RandomForest model with extended grid search cross validation model is - \", rmse)"
   ]
  },
  {
   "cell_type": "markdown",
   "id": "e58db953",
   "metadata": {},
   "source": [
    "### XGBoost with Grid Search. Train a XGBoost model to analyze its prediction performance on the data set. "
   ]
  },
  {
   "cell_type": "code",
   "execution_count": 202,
   "id": "b5b87f15",
   "metadata": {},
   "outputs": [],
   "source": [
    "# Import necessary packages for XGBoost model training\n",
    "import xgboost as xgb\n",
    "from xgboost import XGBRegressor"
   ]
  },
  {
   "cell_type": "code",
   "execution_count": 203,
   "id": "c63b0319",
   "metadata": {},
   "outputs": [],
   "source": [
    "# Create a fearures matrixes for XGBoost model\n",
    "dtrain = xgb.DMatrix(features_train, label=target_train)\n",
    "dtest = xgb.DMatrix(features_test, label=target_test)"
   ]
  },
  {
   "cell_type": "code",
   "execution_count": 204,
   "id": "5bdffb85",
   "metadata": {},
   "outputs": [],
   "source": [
    "# Create a dictionary of hyperparameters for model tuning\n",
    "parms_xgb_grid = {\n",
    "    \"n_estimators\" : [100,200,500,800],\n",
    "    \"learning_rate\" : [0.01, 0.1, 0.3],\n",
    "    \"max_depth\" : [3,5,7],\n",
    "    \"colsample_bytree\" : [0.7,1],\n",
    "    \"subsample\" : [0.7, 1]\n",
    "}"
   ]
  },
  {
   "cell_type": "code",
   "execution_count": 205,
   "id": "55e7ffb5",
   "metadata": {},
   "outputs": [],
   "source": [
    "# Create an instance of XGBoost model\n",
    "xgb_model = XGBRegressor(random_state =42)"
   ]
  },
  {
   "cell_type": "code",
   "execution_count": 206,
   "id": "c878f18b",
   "metadata": {},
   "outputs": [],
   "source": [
    "# Generate a grid search \n",
    "grid_search_xgb = GridSearchCV(estimator = xgb_model, param_grid = parms_xgb_grid, cv =5, n_jobs = -1, scoring = 'r2')"
   ]
  },
  {
   "cell_type": "code",
   "execution_count": 207,
   "id": "ce98bd77",
   "metadata": {},
   "outputs": [
    {
     "data": {
      "text/plain": [
       "GridSearchCV(cv=5,\n",
       "             estimator=XGBRegressor(base_score=None, booster=None,\n",
       "                                    callbacks=None, colsample_bylevel=None,\n",
       "                                    colsample_bynode=None,\n",
       "                                    colsample_bytree=None, device=None,\n",
       "                                    early_stopping_rounds=None,\n",
       "                                    enable_categorical=False, eval_metric=None,\n",
       "                                    feature_types=None, gamma=None,\n",
       "                                    grow_policy=None, importance_type=None,\n",
       "                                    interaction_constraints=None,\n",
       "                                    learning_rate=None, m...\n",
       "                                    max_depth=None, max_leaves=None,\n",
       "                                    min_child_weight=None, missing=nan,\n",
       "                                    monotone_constraints=None,\n",
       "                                    multi_strategy=None, n_estimators=None,\n",
       "                                    n_jobs=None, num_parallel_tree=None,\n",
       "                                    random_state=42, ...),\n",
       "             n_jobs=-1,\n",
       "             param_grid={'colsample_bytree': [0.7, 1],\n",
       "                         'learning_rate': [0.01, 0.1, 0.3],\n",
       "                         'max_depth': [3, 5, 7],\n",
       "                         'n_estimators': [100, 200, 500, 800],\n",
       "                         'subsample': [0.7, 1]},\n",
       "             scoring='r2')"
      ]
     },
     "execution_count": 207,
     "metadata": {},
     "output_type": "execute_result"
    }
   ],
   "source": [
    "# Train a model using grid serach cross validation\n",
    "grid_search_xgb.fit(features_train, target_train)"
   ]
  },
  {
   "cell_type": "code",
   "execution_count": 208,
   "id": "396e0a11",
   "metadata": {},
   "outputs": [],
   "source": [
    "# Create a model with the best performing hyperparameters\n",
    "best_model_xgb = grid_search_xgb.best_estimator_"
   ]
  },
  {
   "cell_type": "code",
   "execution_count": 209,
   "id": "5345a637",
   "metadata": {},
   "outputs": [],
   "source": [
    "# Predict the target values with the trained model\n",
    "target_predict_xgb = best_model_xgb.predict(features_test)"
   ]
  },
  {
   "cell_type": "code",
   "execution_count": 210,
   "id": "e7e33481",
   "metadata": {},
   "outputs": [
    {
     "name": "stdout",
     "output_type": "stream",
     "text": [
      "R-squared value of the XGBoost model with  grid search cross validation is -  0.6053230847884038\n"
     ]
    }
   ],
   "source": [
    "# Calculate R2 score for the model\n",
    "r2_xgb = r2_score(target_test, target_predict_xgb)\n",
    "print(\"R-squared value of the XGBoost model with  grid search cross validation is - \", r2_xgb)"
   ]
  },
  {
   "cell_type": "code",
   "execution_count": 212,
   "id": "a062acfc",
   "metadata": {},
   "outputs": [
    {
     "name": "stdout",
     "output_type": "stream",
     "text": [
      "RMSE value of the Random Forest RandomForest model with extended grid search cross validation model is -  0.24913547012478393\n"
     ]
    }
   ],
   "source": [
    "# Calculate RMSE for the model\n",
    "mse_xgb = mean_squared_error(target_test, target_predict_xgb)\n",
    "rmse = np.sqrt(mse_xgb)\n",
    "print(\"RMSE value of the XGBoost model with grid search cross validation model is - \", rmse)"
   ]
  },
  {
   "cell_type": "markdown",
   "id": "37c0edde",
   "metadata": {},
   "source": [
    "### Extended parameters search for XGBoost model tuning"
   ]
  },
  {
   "cell_type": "code",
   "execution_count": 128,
   "id": "04779ab3",
   "metadata": {},
   "outputs": [],
   "source": [
    "# Create a dictionary wiith extended hyperparameters search\n",
    "parms_xgb_grid_2 = {\n",
    "    \"n_estimators\" : [500,800, 1000],\n",
    "    \"learning_rate\" : [0.01, 0.05, 0.1, 0.2],\n",
    "    \"max_depth\" : [3, 5, 7, 10],\n",
    "    \"min_child_depth\" :[3, 5, 7, 10],\n",
    "    \"colsample_bytree\" : [0.5, 0.7,1],\n",
    "    \"subsample\" : [0.5, 0.7, 1],\n",
    "    \"gamma\" : [0, 0.1, 0.2, 0.5],\n",
    "    \"reg_alpha\" : [0, 0.1, 0.5, 1],\n",
    "    \"reg_lambda\" : [1, 0.5, 0.1, 0]\n",
    "}"
   ]
  },
  {
   "cell_type": "code",
   "execution_count": 129,
   "id": "9924e242",
   "metadata": {},
   "outputs": [],
   "source": [
    "# Create an instance of the XGBoost model\n",
    "xgb_model_2 = XGBRegressor(random_state =42)"
   ]
  },
  {
   "cell_type": "code",
   "execution_count": 130,
   "id": "9460f176",
   "metadata": {},
   "outputs": [],
   "source": [
    "# Create a grid search with extended list of hyperparameters\n",
    "grid_search_xgb_2 = GridSearchCV(estimator = xgb_model_2, param_grid = parms_xgb_grid_2, cv =5, n_jobs = -1, scoring = 'r2')"
   ]
  },
  {
   "cell_type": "code",
   "execution_count": 131,
   "id": "a739f927",
   "metadata": {},
   "outputs": [
    {
     "name": "stderr",
     "output_type": "stream",
     "text": [
      "D:\\Users\\Pasha\\anaconda3\\lib\\site-packages\\xgboost\\core.py:160: UserWarning: [12:12:43] WARNING: C:\\buildkite-agent\\builds\\buildkite-windows-cpu-autoscaling-group-i-0b3782d1791676daf-1\\xgboost\\xgboost-ci-windows\\src\\learner.cc:742: \n",
      "Parameters: { \"min_child_depth\" } are not used.\n",
      "\n",
      "  warnings.warn(smsg, UserWarning)\n"
     ]
    },
    {
     "data": {
      "text/plain": [
       "GridSearchCV(cv=5,\n",
       "             estimator=XGBRegressor(base_score=None, booster=None,\n",
       "                                    callbacks=None, colsample_bylevel=None,\n",
       "                                    colsample_bynode=None,\n",
       "                                    colsample_bytree=None, device=None,\n",
       "                                    early_stopping_rounds=None,\n",
       "                                    enable_categorical=False, eval_metric=None,\n",
       "                                    feature_types=None, gamma=None,\n",
       "                                    grow_policy=None, importance_type=None,\n",
       "                                    interaction_constraints=None,\n",
       "                                    learning_rate=None, m...\n",
       "                                    multi_strategy=None, n_estimators=None,\n",
       "                                    n_jobs=None, num_parallel_tree=None,\n",
       "                                    random_state=42, ...),\n",
       "             n_jobs=-1,\n",
       "             param_grid={'colsample_bytree': [0.5, 0.7, 1],\n",
       "                         'gamma': [0, 0.1, 0.2, 0.5],\n",
       "                         'learning_rate': [0.01, 0.05, 0.1, 0.2],\n",
       "                         'max_depth': [3, 5, 7, 10],\n",
       "                         'min_child_depth': [3, 5, 7, 10],\n",
       "                         'n_estimators': [500, 800, 1000],\n",
       "                         'reg_alpha': [0, 0.1, 0.5, 1],\n",
       "                         'reg_lambda': [1, 0.5, 0.1, 0],\n",
       "                         'subsample': [0.5, 0.7, 1]},\n",
       "             scoring='r2')"
      ]
     },
     "execution_count": 131,
     "metadata": {},
     "output_type": "execute_result"
    }
   ],
   "source": [
    "# Train a model using extended grid search cross validation\n",
    "grid_search_xgb_2.fit(features_train, target_train)"
   ]
  },
  {
   "cell_type": "code",
   "execution_count": 132,
   "id": "0f8df8d5",
   "metadata": {},
   "outputs": [],
   "source": [
    "# Create an instance of the model with the best performing parameters\n",
    "best_model_xgb_2 = grid_search_xgb_2.best_estimator_"
   ]
  },
  {
   "cell_type": "code",
   "execution_count": 133,
   "id": "19245491",
   "metadata": {},
   "outputs": [],
   "source": [
    "# Predict target values using the trained model\n",
    "target_predict_xgb_2 = best_model_xgb_2.predict(features_test)"
   ]
  },
  {
   "cell_type": "code",
   "execution_count": 134,
   "id": "ba901866",
   "metadata": {},
   "outputs": [],
   "source": [
    "# Find R2 score\n",
    "r2_xgb_2 = r2_score(target_test, target_predict_xgb_2)"
   ]
  },
  {
   "cell_type": "code",
   "execution_count": 135,
   "id": "110e12d7",
   "metadata": {},
   "outputs": [
    {
     "data": {
      "text/plain": [
       "0.6122396262485499"
      ]
     },
     "execution_count": 135,
     "metadata": {},
     "output_type": "execute_result"
    }
   ],
   "source": [
    "# Priint R2\n",
    "r2_xgb_2"
   ]
  },
  {
   "cell_type": "markdown",
   "id": "4640022b",
   "metadata": {},
   "source": [
    "#### Several models were trained to predict data scientist salaries based on skills, seniority levels, and industries. R2 and RMSE values were chosen as evaluation parameters due to the nature of the models and target values. The baseline dummy model yielded significantly low R2 values, indicating low feature variation and potentially limited predictive power for the target value. The transformation of the target value to the log scale improved the model performance to R2 = 0.38.  Additional steps were implemented to optimize the model. Lasso and Ridge regression were tested as alternative regression algorithms due to potential better performance with the given data set. The data set features contain only binary values, however the target value is on a continius scale. Lasso regression algorithm did not show the improvement - R2 = 0.29 (RMSE = 0.33) , however, Ridge regression showed better evaluation results than simple linear regression modelfor R2=0.39 (RMSE = 0.31). Also, the feature selection and dimentionality reduction techniques were applied to asses their effect on the Linear Regression model performance. The Principal Component Analysis (PCA) reduced the number of features from 42 to 31 and yields R2 = 0.36 (RMSE = 0.31). MinMax scaler tool also did not demonstrate any signs of model performance improvment - R2= 0.34 (RMSE = 0.32) with applied MinMax scaler. \n",
    "\n",
    "#### Considering alternative models, Random Forest and XGBoost algorithms were evaluated. In both cases the grid search cross validation techniques with the wide range of hyperparameters was implemented to find the best performing settings. The Random forest model showed immediate improvement of the predictive power -  R2 = 0.60 and RMSE = 0.25, with the grid search cv applied. XGboost algorithm performance without extended hyperparameters serach has equal to Random Forest perforamnce R2 = 0.60 and RMSE - 0.25. After the hyperparameters fine-tuning the performance improved by 0.01, R2 = 0.61.\n",
    "\n",
    "#### Overall, it's challenging to build an accurate model when using binary features to predict a continuous target value, as indicated by the iterative attempts and the necessity of employing more complex algorithms to achieve satisfactory performance. This issue could be due to low variability in the feature values that provides limited inforamtion."
   ]
  }
 ],
 "metadata": {
  "kernelspec": {
   "display_name": "Python 3 (ipykernel)",
   "language": "python",
   "name": "python3"
  },
  "language_info": {
   "codemirror_mode": {
    "name": "ipython",
    "version": 3
   },
   "file_extension": ".py",
   "mimetype": "text/x-python",
   "name": "python",
   "nbconvert_exporter": "python",
   "pygments_lexer": "ipython3",
   "version": "3.9.13"
  }
 },
 "nbformat": 4,
 "nbformat_minor": 5
}
