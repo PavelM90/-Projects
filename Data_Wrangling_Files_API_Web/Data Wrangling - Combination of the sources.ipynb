{
 "cells": [
  {
   "cell_type": "markdown",
   "id": "faa327ca",
   "metadata": {},
   "source": [
    "\n",
    "## Pavel Makarov\n",
    "\n",
    "## Combined SQL database generation "
   ]
  },
  {
   "cell_type": "code",
   "execution_count": 87,
   "id": "590d5f77",
   "metadata": {},
   "outputs": [],
   "source": [
    "# Import all necessary libraries\n",
    "import pandas as pd\n",
    "import matplotlib.pyplot as plt\n",
    "import sqlite3"
   ]
  },
  {
   "cell_type": "code",
   "execution_count": 121,
   "id": "8723ab7e",
   "metadata": {},
   "outputs": [],
   "source": [
    "# Create a connection to a database\n",
    "conn = sqlite3.connect('MA_property_data.db')"
   ]
  },
  {
   "cell_type": "code",
   "execution_count": 122,
   "id": "f4bc4cd7",
   "metadata": {},
   "outputs": [],
   "source": [
    "# Create a cursor\n",
    "cursor = conn.cursor()"
   ]
  },
  {
   "cell_type": "markdown",
   "id": "79457cbf",
   "metadata": {},
   "source": [
    "### Check all data sets from previous milestones if they are ready to be uploaded to the data base and what common keys can be used for merging"
   ]
  },
  {
   "cell_type": "code",
   "execution_count": 123,
   "id": "b8e19369",
   "metadata": {},
   "outputs": [],
   "source": [
    "# Open housing prices table\n",
    "df_prices = pd.read_csv('Massachusetts_sfh_aver_prices_2010-1019.csv')"
   ]
  },
  {
   "cell_type": "code",
   "execution_count": 124,
   "id": "94531afe",
   "metadata": {
    "scrolled": true
   },
   "outputs": [
    {
     "data": {
      "text/html": [
       "<div>\n",
       "<style scoped>\n",
       "    .dataframe tbody tr th:only-of-type {\n",
       "        vertical-align: middle;\n",
       "    }\n",
       "\n",
       "    .dataframe tbody tr th {\n",
       "        vertical-align: top;\n",
       "    }\n",
       "\n",
       "    .dataframe thead th {\n",
       "        text-align: right;\n",
       "    }\n",
       "</style>\n",
       "<table border=\"1\" class=\"dataframe\">\n",
       "  <thead>\n",
       "    <tr style=\"text-align: right;\">\n",
       "      <th></th>\n",
       "      <th>Year</th>\n",
       "      <th>Yearly_Average_Price</th>\n",
       "    </tr>\n",
       "  </thead>\n",
       "  <tbody>\n",
       "    <tr>\n",
       "      <th>0</th>\n",
       "      <td>2010</td>\n",
       "      <td>302030.4085</td>\n",
       "    </tr>\n",
       "    <tr>\n",
       "      <th>1</th>\n",
       "      <td>2011</td>\n",
       "      <td>291279.6268</td>\n",
       "    </tr>\n",
       "    <tr>\n",
       "      <th>2</th>\n",
       "      <td>2012</td>\n",
       "      <td>284850.8186</td>\n",
       "    </tr>\n",
       "    <tr>\n",
       "      <th>3</th>\n",
       "      <td>2013</td>\n",
       "      <td>300503.3836</td>\n",
       "    </tr>\n",
       "    <tr>\n",
       "      <th>4</th>\n",
       "      <td>2014</td>\n",
       "      <td>318720.0174</td>\n",
       "    </tr>\n",
       "    <tr>\n",
       "      <th>5</th>\n",
       "      <td>2015</td>\n",
       "      <td>334202.9773</td>\n",
       "    </tr>\n",
       "    <tr>\n",
       "      <th>6</th>\n",
       "      <td>2016</td>\n",
       "      <td>355527.4546</td>\n",
       "    </tr>\n",
       "    <tr>\n",
       "      <th>7</th>\n",
       "      <td>2017</td>\n",
       "      <td>379216.0459</td>\n",
       "    </tr>\n",
       "    <tr>\n",
       "      <th>8</th>\n",
       "      <td>2018</td>\n",
       "      <td>402953.4278</td>\n",
       "    </tr>\n",
       "    <tr>\n",
       "      <th>9</th>\n",
       "      <td>2019</td>\n",
       "      <td>414290.2468</td>\n",
       "    </tr>\n",
       "  </tbody>\n",
       "</table>\n",
       "</div>"
      ],
      "text/plain": [
       "   Year  Yearly_Average_Price\n",
       "0  2010           302030.4085\n",
       "1  2011           291279.6268\n",
       "2  2012           284850.8186\n",
       "3  2013           300503.3836\n",
       "4  2014           318720.0174\n",
       "5  2015           334202.9773\n",
       "6  2016           355527.4546\n",
       "7  2017           379216.0459\n",
       "8  2018           402953.4278\n",
       "9  2019           414290.2468"
      ]
     },
     "execution_count": 124,
     "metadata": {},
     "output_type": "execute_result"
    }
   ],
   "source": [
    "# Print out the table\n",
    "df_prices"
   ]
  },
  {
   "cell_type": "code",
   "execution_count": 125,
   "id": "03132336",
   "metadata": {},
   "outputs": [
    {
     "name": "stdout",
     "output_type": "stream",
     "text": [
      "<class 'pandas.core.frame.DataFrame'>\n",
      "RangeIndex: 10 entries, 0 to 9\n",
      "Data columns (total 2 columns):\n",
      " #   Column                Non-Null Count  Dtype  \n",
      "---  ------                --------------  -----  \n",
      " 0   Year                  10 non-null     int64  \n",
      " 1   Yearly_Average_Price  10 non-null     float64\n",
      "dtypes: float64(1), int64(1)\n",
      "memory usage: 292.0 bytes\n"
     ]
    }
   ],
   "source": [
    "# Print out information about the table\n",
    "df_prices.info()"
   ]
  },
  {
   "cell_type": "code",
   "execution_count": 126,
   "id": "1770664c",
   "metadata": {},
   "outputs": [],
   "source": [
    "# Open file with demographic data by race\n",
    "df_race = pd.read_csv('Race_MA_2010_2019.csv')"
   ]
  },
  {
   "cell_type": "code",
   "execution_count": 127,
   "id": "9175e56b",
   "metadata": {},
   "outputs": [
    {
     "data": {
      "text/html": [
       "<div>\n",
       "<style scoped>\n",
       "    .dataframe tbody tr th:only-of-type {\n",
       "        vertical-align: middle;\n",
       "    }\n",
       "\n",
       "    .dataframe tbody tr th {\n",
       "        vertical-align: top;\n",
       "    }\n",
       "\n",
       "    .dataframe thead th {\n",
       "        text-align: right;\n",
       "    }\n",
       "</style>\n",
       "<table border=\"1\" class=\"dataframe\">\n",
       "  <thead>\n",
       "    <tr style=\"text-align: right;\">\n",
       "      <th></th>\n",
       "      <th>Year</th>\n",
       "      <th>Race</th>\n",
       "      <th>Percent</th>\n",
       "      <th>Count</th>\n",
       "    </tr>\n",
       "  </thead>\n",
       "  <tbody>\n",
       "    <tr>\n",
       "      <th>0</th>\n",
       "      <td>2010</td>\n",
       "      <td>American Indian/Alaskan Native</td>\n",
       "      <td>0.18%</td>\n",
       "      <td>11,719</td>\n",
       "    </tr>\n",
       "    <tr>\n",
       "      <th>1</th>\n",
       "      <td>2010</td>\n",
       "      <td>Asian</td>\n",
       "      <td>5.46%</td>\n",
       "      <td>358,233</td>\n",
       "    </tr>\n",
       "    <tr>\n",
       "      <th>2</th>\n",
       "      <td>2010</td>\n",
       "      <td>Black</td>\n",
       "      <td>6.39%</td>\n",
       "      <td>419,841</td>\n",
       "    </tr>\n",
       "    <tr>\n",
       "      <th>3</th>\n",
       "      <td>2010</td>\n",
       "      <td>Hispanic</td>\n",
       "      <td>9.66%</td>\n",
       "      <td>634,029</td>\n",
       "    </tr>\n",
       "    <tr>\n",
       "      <th>4</th>\n",
       "      <td>2010</td>\n",
       "      <td>Native Hawaiian/Other Pacific Islander</td>\n",
       "      <td>0.04%</td>\n",
       "      <td>2,489</td>\n",
       "    </tr>\n",
       "  </tbody>\n",
       "</table>\n",
       "</div>"
      ],
      "text/plain": [
       "   Year                                    Race Percent    Count\n",
       "0  2010          American Indian/Alaskan Native   0.18%   11,719\n",
       "1  2010                                   Asian   5.46%  358,233\n",
       "2  2010                                   Black   6.39%  419,841\n",
       "3  2010                                Hispanic   9.66%  634,029\n",
       "4  2010  Native Hawaiian/Other Pacific Islander   0.04%    2,489"
      ]
     },
     "execution_count": 127,
     "metadata": {},
     "output_type": "execute_result"
    }
   ],
   "source": [
    "# Check first five rows\n",
    "df_race.head()"
   ]
  },
  {
   "cell_type": "code",
   "execution_count": 128,
   "id": "f2136437",
   "metadata": {},
   "outputs": [
    {
     "name": "stdout",
     "output_type": "stream",
     "text": [
      "<class 'pandas.core.frame.DataFrame'>\n",
      "RangeIndex: 70 entries, 0 to 69\n",
      "Data columns (total 4 columns):\n",
      " #   Column   Non-Null Count  Dtype \n",
      "---  ------   --------------  ----- \n",
      " 0   Year     70 non-null     int64 \n",
      " 1   Race     70 non-null     object\n",
      " 2   Percent  70 non-null     object\n",
      " 3   Count    70 non-null     object\n",
      "dtypes: int64(1), object(3)\n",
      "memory usage: 2.3+ KB\n"
     ]
    }
   ],
   "source": [
    "# Print out information about the table\n",
    "df_race.info()"
   ]
  },
  {
   "cell_type": "code",
   "execution_count": 129,
   "id": "8ee4e2b9",
   "metadata": {},
   "outputs": [],
   "source": [
    "# Open population related file\n",
    "df_pop = pd.read_csv('Massachusetts_population_2010-1019.csv')"
   ]
  },
  {
   "cell_type": "code",
   "execution_count": 130,
   "id": "b3a4118d",
   "metadata": {},
   "outputs": [
    {
     "data": {
      "text/html": [
       "<div>\n",
       "<style scoped>\n",
       "    .dataframe tbody tr th:only-of-type {\n",
       "        vertical-align: middle;\n",
       "    }\n",
       "\n",
       "    .dataframe tbody tr th {\n",
       "        vertical-align: top;\n",
       "    }\n",
       "\n",
       "    .dataframe thead th {\n",
       "        text-align: right;\n",
       "    }\n",
       "</style>\n",
       "<table border=\"1\" class=\"dataframe\">\n",
       "  <thead>\n",
       "    <tr style=\"text-align: right;\">\n",
       "      <th></th>\n",
       "      <th>Year</th>\n",
       "      <th>Population</th>\n",
       "    </tr>\n",
       "  </thead>\n",
       "  <tbody>\n",
       "    <tr>\n",
       "      <th>0</th>\n",
       "      <td>2010</td>\n",
       "      <td>6566440</td>\n",
       "    </tr>\n",
       "    <tr>\n",
       "      <th>1</th>\n",
       "      <td>2011</td>\n",
       "      <td>6614218</td>\n",
       "    </tr>\n",
       "    <tr>\n",
       "      <th>2</th>\n",
       "      <td>2012</td>\n",
       "      <td>6664269</td>\n",
       "    </tr>\n",
       "    <tr>\n",
       "      <th>3</th>\n",
       "      <td>2013</td>\n",
       "      <td>6715158</td>\n",
       "    </tr>\n",
       "    <tr>\n",
       "      <th>4</th>\n",
       "      <td>2014</td>\n",
       "      <td>6764864</td>\n",
       "    </tr>\n",
       "  </tbody>\n",
       "</table>\n",
       "</div>"
      ],
      "text/plain": [
       "   Year  Population\n",
       "0  2010     6566440\n",
       "1  2011     6614218\n",
       "2  2012     6664269\n",
       "3  2013     6715158\n",
       "4  2014     6764864"
      ]
     },
     "execution_count": 130,
     "metadata": {},
     "output_type": "execute_result"
    }
   ],
   "source": [
    "# Check first five rows of the table\n",
    "df_pop.head()"
   ]
  },
  {
   "cell_type": "code",
   "execution_count": 131,
   "id": "e192d1c1",
   "metadata": {},
   "outputs": [
    {
     "name": "stdout",
     "output_type": "stream",
     "text": [
      "<class 'pandas.core.frame.DataFrame'>\n",
      "RangeIndex: 10 entries, 0 to 9\n",
      "Data columns (total 2 columns):\n",
      " #   Column      Non-Null Count  Dtype\n",
      "---  ------      --------------  -----\n",
      " 0   Year        10 non-null     int64\n",
      " 1   Population  10 non-null     int64\n",
      "dtypes: int64(2)\n",
      "memory usage: 292.0 bytes\n"
     ]
    }
   ],
   "source": [
    "# Print out information about the table\n",
    "df_pop.info()"
   ]
  },
  {
   "cell_type": "code",
   "execution_count": 132,
   "id": "6bc195fc",
   "metadata": {},
   "outputs": [],
   "source": [
    "# Open file with demographic change information\n",
    "df_pop_change = pd.read_csv('Population_MA.csv')\n"
   ]
  },
  {
   "cell_type": "code",
   "execution_count": 133,
   "id": "7f7e6072",
   "metadata": {},
   "outputs": [
    {
     "data": {
      "text/html": [
       "<div>\n",
       "<style scoped>\n",
       "    .dataframe tbody tr th:only-of-type {\n",
       "        vertical-align: middle;\n",
       "    }\n",
       "\n",
       "    .dataframe tbody tr th {\n",
       "        vertical-align: top;\n",
       "    }\n",
       "\n",
       "    .dataframe thead th {\n",
       "        text-align: right;\n",
       "    }\n",
       "</style>\n",
       "<table border=\"1\" class=\"dataframe\">\n",
       "  <thead>\n",
       "    <tr style=\"text-align: right;\">\n",
       "      <th></th>\n",
       "      <th>Unnamed: 0</th>\n",
       "      <th>Census_Year</th>\n",
       "      <th>Percent change</th>\n",
       "    </tr>\n",
       "  </thead>\n",
       "  <tbody>\n",
       "    <tr>\n",
       "      <th>0</th>\n",
       "      <td>22</td>\n",
       "      <td>2010</td>\n",
       "      <td>3.1%</td>\n",
       "    </tr>\n",
       "    <tr>\n",
       "      <th>1</th>\n",
       "      <td>23</td>\n",
       "      <td>2020</td>\n",
       "      <td>7.4%</td>\n",
       "    </tr>\n",
       "  </tbody>\n",
       "</table>\n",
       "</div>"
      ],
      "text/plain": [
       "   Unnamed: 0  Census_Year Percent change\n",
       "0          22         2010           3.1%\n",
       "1          23         2020           7.4%"
      ]
     },
     "execution_count": 133,
     "metadata": {},
     "output_type": "execute_result"
    }
   ],
   "source": [
    "# Check first five rows of the table\n",
    "df_pop_change.head()"
   ]
  },
  {
   "cell_type": "code",
   "execution_count": 134,
   "id": "ac7ca3a7",
   "metadata": {},
   "outputs": [
    {
     "name": "stdout",
     "output_type": "stream",
     "text": [
      "<class 'pandas.core.frame.DataFrame'>\n",
      "RangeIndex: 2 entries, 0 to 1\n",
      "Data columns (total 3 columns):\n",
      " #   Column          Non-Null Count  Dtype \n",
      "---  ------          --------------  ----- \n",
      " 0   Unnamed: 0      2 non-null      int64 \n",
      " 1   Census_Year     2 non-null      int64 \n",
      " 2   Percent change  2 non-null      object\n",
      "dtypes: int64(2), object(1)\n",
      "memory usage: 180.0+ bytes\n"
     ]
    }
   ],
   "source": [
    "# Print out information about the table\n",
    "df_pop_change.info()"
   ]
  },
  {
   "cell_type": "code",
   "execution_count": 135,
   "id": "0ccaaaf4",
   "metadata": {},
   "outputs": [],
   "source": [
    "# Open crimes information file\n",
    "df_crime_html = pd.read_csv('MA_Crime_reports_2010-2019.csv')"
   ]
  },
  {
   "cell_type": "code",
   "execution_count": 179,
   "id": "44cf59e8",
   "metadata": {
    "scrolled": true
   },
   "outputs": [
    {
     "data": {
      "text/html": [
       "<div>\n",
       "<style scoped>\n",
       "    .dataframe tbody tr th:only-of-type {\n",
       "        vertical-align: middle;\n",
       "    }\n",
       "\n",
       "    .dataframe tbody tr th {\n",
       "        vertical-align: top;\n",
       "    }\n",
       "\n",
       "    .dataframe thead th {\n",
       "        text-align: right;\n",
       "    }\n",
       "</style>\n",
       "<table border=\"1\" class=\"dataframe\">\n",
       "  <thead>\n",
       "    <tr style=\"text-align: right;\">\n",
       "      <th></th>\n",
       "      <th>year</th>\n",
       "      <th>Violentcrime</th>\n",
       "      <th>Murder andnonnegligentmanslaughter</th>\n",
       "      <th>Forciblerape</th>\n",
       "      <th>Robbery</th>\n",
       "      <th>Aggravatedassault</th>\n",
       "      <th>Propertycrime</th>\n",
       "      <th>Burglary</th>\n",
       "      <th>Larceny-theft</th>\n",
       "      <th>Motorvehicletheft</th>\n",
       "      <th>Arson1</th>\n",
       "    </tr>\n",
       "  </thead>\n",
       "  <tbody>\n",
       "    <tr>\n",
       "      <th>0</th>\n",
       "      <td>2010</td>\n",
       "      <td>28812.0</td>\n",
       "      <td>208</td>\n",
       "      <td>1667.0</td>\n",
       "      <td>6496.0</td>\n",
       "      <td>20532.0</td>\n",
       "      <td>144968.0</td>\n",
       "      <td>36050.0</td>\n",
       "      <td>97804.0</td>\n",
       "      <td>11114.0</td>\n",
       "      <td>635.0</td>\n",
       "    </tr>\n",
       "    <tr>\n",
       "      <th>1</th>\n",
       "      <td>2011</td>\n",
       "      <td>26269.0</td>\n",
       "      <td>180</td>\n",
       "      <td>1492.0</td>\n",
       "      <td>6316.0</td>\n",
       "      <td>18281.0</td>\n",
       "      <td>133898.0</td>\n",
       "      <td>33662.0</td>\n",
       "      <td>89994.0</td>\n",
       "      <td>10242.0</td>\n",
       "      <td>511.0</td>\n",
       "    </tr>\n",
       "    <tr>\n",
       "      <th>2</th>\n",
       "      <td>2012</td>\n",
       "      <td>25806.0</td>\n",
       "      <td>119</td>\n",
       "      <td>1526.0</td>\n",
       "      <td>6363.0</td>\n",
       "      <td>17798.0</td>\n",
       "      <td>131849.0</td>\n",
       "      <td>32257.0</td>\n",
       "      <td>90700.0</td>\n",
       "      <td>8892.0</td>\n",
       "      <td>561.0</td>\n",
       "    </tr>\n",
       "    <tr>\n",
       "      <th>3</th>\n",
       "      <td>2013</td>\n",
       "      <td>24031.0</td>\n",
       "      <td>124</td>\n",
       "      <td>1680.0</td>\n",
       "      <td>299.0</td>\n",
       "      <td>5903.0</td>\n",
       "      <td>16025.0</td>\n",
       "      <td>122430.0</td>\n",
       "      <td>27392.0</td>\n",
       "      <td>86600.0</td>\n",
       "      <td>8438.0</td>\n",
       "    </tr>\n",
       "    <tr>\n",
       "      <th>4</th>\n",
       "      <td>2014</td>\n",
       "      <td>24409.0</td>\n",
       "      <td>129</td>\n",
       "      <td>1489.0</td>\n",
       "      <td>308.0</td>\n",
       "      <td>5744.0</td>\n",
       "      <td>16739.0</td>\n",
       "      <td>112550.0</td>\n",
       "      <td>22758.0</td>\n",
       "      <td>82027.0</td>\n",
       "      <td>7847.0</td>\n",
       "    </tr>\n",
       "  </tbody>\n",
       "</table>\n",
       "</div>"
      ],
      "text/plain": [
       "   year  Violentcrime  Murder andnonnegligentmanslaughter  Forciblerape  \\\n",
       "0  2010       28812.0                                 208        1667.0   \n",
       "1  2011       26269.0                                 180        1492.0   \n",
       "2  2012       25806.0                                 119        1526.0   \n",
       "3  2013       24031.0                                 124        1680.0   \n",
       "4  2014       24409.0                                 129        1489.0   \n",
       "\n",
       "   Robbery  Aggravatedassault  Propertycrime  Burglary  Larceny-theft  \\\n",
       "0   6496.0            20532.0       144968.0   36050.0        97804.0   \n",
       "1   6316.0            18281.0       133898.0   33662.0        89994.0   \n",
       "2   6363.0            17798.0       131849.0   32257.0        90700.0   \n",
       "3    299.0             5903.0        16025.0  122430.0        27392.0   \n",
       "4    308.0             5744.0        16739.0  112550.0        22758.0   \n",
       "\n",
       "   Motorvehicletheft  Arson1  \n",
       "0            11114.0   635.0  \n",
       "1            10242.0   511.0  \n",
       "2             8892.0   561.0  \n",
       "3            86600.0  8438.0  \n",
       "4            82027.0  7847.0  "
      ]
     },
     "execution_count": 179,
     "metadata": {},
     "output_type": "execute_result"
    }
   ],
   "source": [
    "# Check first five rows of the table\n",
    "df_crime_html.head()"
   ]
  },
  {
   "cell_type": "code",
   "execution_count": 137,
   "id": "c35981af",
   "metadata": {},
   "outputs": [
    {
     "name": "stdout",
     "output_type": "stream",
     "text": [
      "<class 'pandas.core.frame.DataFrame'>\n",
      "RangeIndex: 9 entries, 0 to 8\n",
      "Data columns (total 11 columns):\n",
      " #   Column                              Non-Null Count  Dtype  \n",
      "---  ------                              --------------  -----  \n",
      " 0   year                                9 non-null      int64  \n",
      " 1   Violentcrime                        9 non-null      float64\n",
      " 2   Murder andnonnegligentmanslaughter  9 non-null      int64  \n",
      " 3   Forciblerape                        9 non-null      float64\n",
      " 4   Robbery                             9 non-null      float64\n",
      " 5   Aggravatedassault                   9 non-null      float64\n",
      " 6   Propertycrime                       9 non-null      float64\n",
      " 7   Burglary                            9 non-null      float64\n",
      " 8   Larceny-theft                       9 non-null      float64\n",
      " 9   Motorvehicletheft                   9 non-null      float64\n",
      " 10  Arson1                              9 non-null      float64\n",
      "dtypes: float64(9), int64(2)\n",
      "memory usage: 924.0 bytes\n"
     ]
    }
   ],
   "source": [
    "# Print out information about the table\n",
    "df_crime_html.info()"
   ]
  },
  {
   "cell_type": "code",
   "execution_count": 138,
   "id": "954e939c",
   "metadata": {},
   "outputs": [],
   "source": [
    "# Open crimes by town crime rates file\n",
    "df_crime_API = pd.read_csv('cleaned_propert_crimes_2010_2019.csv')"
   ]
  },
  {
   "cell_type": "code",
   "execution_count": 196,
   "id": "8cbc4435",
   "metadata": {},
   "outputs": [
    {
     "data": {
      "text/html": [
       "<div>\n",
       "<style scoped>\n",
       "    .dataframe tbody tr th:only-of-type {\n",
       "        vertical-align: middle;\n",
       "    }\n",
       "\n",
       "    .dataframe tbody tr th {\n",
       "        vertical-align: top;\n",
       "    }\n",
       "\n",
       "    .dataframe thead th {\n",
       "        text-align: right;\n",
       "    }\n",
       "</style>\n",
       "<table border=\"1\" class=\"dataframe\">\n",
       "  <thead>\n",
       "    <tr style=\"text-align: right;\">\n",
       "      <th></th>\n",
       "      <th>year</th>\n",
       "      <th>property-crime Barnstable Police Department</th>\n",
       "      <th>property-crime Bourne Police Department</th>\n",
       "      <th>property-crime Brewster Police Department</th>\n",
       "      <th>property-crime Chatham Police Department</th>\n",
       "      <th>property-crime Dennis Police Department</th>\n",
       "      <th>property-crime Eastham Police Department</th>\n",
       "      <th>property-crime Falmouth Police Department</th>\n",
       "      <th>property-crime Harwich Police Department</th>\n",
       "      <th>property-crime Mashpee Police Department</th>\n",
       "      <th>...</th>\n",
       "      <th>property-crime State Police: Franklin County</th>\n",
       "      <th>property-crime State Police: Hampden County</th>\n",
       "      <th>property-crime State Police: Hampshire County</th>\n",
       "      <th>property-crime State Police: Middlesex County</th>\n",
       "      <th>property-crime State Police: Nantucket County</th>\n",
       "      <th>property-crime State Police: Norfolk County</th>\n",
       "      <th>property-crime State Police: Plymouth County</th>\n",
       "      <th>property-crime State Police: Suffolk County</th>\n",
       "      <th>property-crime State Police: Worcester County</th>\n",
       "      <th>property-crime Wampanoag Tribe of Gay Head</th>\n",
       "    </tr>\n",
       "  </thead>\n",
       "  <tbody>\n",
       "    <tr>\n",
       "      <th>0</th>\n",
       "      <td>2010</td>\n",
       "      <td>1327</td>\n",
       "      <td>661</td>\n",
       "      <td>224</td>\n",
       "      <td>173</td>\n",
       "      <td>637</td>\n",
       "      <td>73</td>\n",
       "      <td>1168</td>\n",
       "      <td>271</td>\n",
       "      <td>368</td>\n",
       "      <td>...</td>\n",
       "      <td>1</td>\n",
       "      <td>51</td>\n",
       "      <td>2</td>\n",
       "      <td>7.0</td>\n",
       "      <td>NaN</td>\n",
       "      <td>5</td>\n",
       "      <td>4.0</td>\n",
       "      <td>NaN</td>\n",
       "      <td>0</td>\n",
       "      <td>NaN</td>\n",
       "    </tr>\n",
       "    <tr>\n",
       "      <th>1</th>\n",
       "      <td>2011</td>\n",
       "      <td>1280</td>\n",
       "      <td>537</td>\n",
       "      <td>223</td>\n",
       "      <td>126</td>\n",
       "      <td>539</td>\n",
       "      <td>156</td>\n",
       "      <td>1069</td>\n",
       "      <td>283</td>\n",
       "      <td>331</td>\n",
       "      <td>...</td>\n",
       "      <td>0</td>\n",
       "      <td>19</td>\n",
       "      <td>2</td>\n",
       "      <td>3.0</td>\n",
       "      <td>NaN</td>\n",
       "      <td>3</td>\n",
       "      <td>2.0</td>\n",
       "      <td>NaN</td>\n",
       "      <td>2</td>\n",
       "      <td>NaN</td>\n",
       "    </tr>\n",
       "    <tr>\n",
       "      <th>2</th>\n",
       "      <td>2012</td>\n",
       "      <td>1269</td>\n",
       "      <td>542</td>\n",
       "      <td>168</td>\n",
       "      <td>170</td>\n",
       "      <td>527</td>\n",
       "      <td>127</td>\n",
       "      <td>1064</td>\n",
       "      <td>249</td>\n",
       "      <td>293</td>\n",
       "      <td>...</td>\n",
       "      <td>0</td>\n",
       "      <td>28</td>\n",
       "      <td>3</td>\n",
       "      <td>0.0</td>\n",
       "      <td>NaN</td>\n",
       "      <td>1</td>\n",
       "      <td>1.0</td>\n",
       "      <td>NaN</td>\n",
       "      <td>1</td>\n",
       "      <td>3.0</td>\n",
       "    </tr>\n",
       "    <tr>\n",
       "      <th>3</th>\n",
       "      <td>2013</td>\n",
       "      <td>1190</td>\n",
       "      <td>465</td>\n",
       "      <td>132</td>\n",
       "      <td>123</td>\n",
       "      <td>505</td>\n",
       "      <td>100</td>\n",
       "      <td>899</td>\n",
       "      <td>251</td>\n",
       "      <td>284</td>\n",
       "      <td>...</td>\n",
       "      <td>1</td>\n",
       "      <td>12</td>\n",
       "      <td>0</td>\n",
       "      <td>1.0</td>\n",
       "      <td>NaN</td>\n",
       "      <td>5</td>\n",
       "      <td>NaN</td>\n",
       "      <td>14.0</td>\n",
       "      <td>1</td>\n",
       "      <td>NaN</td>\n",
       "    </tr>\n",
       "    <tr>\n",
       "      <th>4</th>\n",
       "      <td>2014</td>\n",
       "      <td>1083</td>\n",
       "      <td>309</td>\n",
       "      <td>115</td>\n",
       "      <td>120</td>\n",
       "      <td>361</td>\n",
       "      <td>88</td>\n",
       "      <td>760</td>\n",
       "      <td>205</td>\n",
       "      <td>237</td>\n",
       "      <td>...</td>\n",
       "      <td>0</td>\n",
       "      <td>5</td>\n",
       "      <td>5</td>\n",
       "      <td>NaN</td>\n",
       "      <td>NaN</td>\n",
       "      <td>0</td>\n",
       "      <td>NaN</td>\n",
       "      <td>NaN</td>\n",
       "      <td>2</td>\n",
       "      <td>NaN</td>\n",
       "    </tr>\n",
       "  </tbody>\n",
       "</table>\n",
       "<p>5 rows × 397 columns</p>\n",
       "</div>"
      ],
      "text/plain": [
       "   year  property-crime Barnstable Police Department  \\\n",
       "0  2010                                         1327   \n",
       "1  2011                                         1280   \n",
       "2  2012                                         1269   \n",
       "3  2013                                         1190   \n",
       "4  2014                                         1083   \n",
       "\n",
       "   property-crime Bourne Police Department  \\\n",
       "0                                      661   \n",
       "1                                      537   \n",
       "2                                      542   \n",
       "3                                      465   \n",
       "4                                      309   \n",
       "\n",
       "   property-crime Brewster Police Department  \\\n",
       "0                                        224   \n",
       "1                                        223   \n",
       "2                                        168   \n",
       "3                                        132   \n",
       "4                                        115   \n",
       "\n",
       "   property-crime Chatham Police Department  \\\n",
       "0                                       173   \n",
       "1                                       126   \n",
       "2                                       170   \n",
       "3                                       123   \n",
       "4                                       120   \n",
       "\n",
       "   property-crime Dennis Police Department  \\\n",
       "0                                      637   \n",
       "1                                      539   \n",
       "2                                      527   \n",
       "3                                      505   \n",
       "4                                      361   \n",
       "\n",
       "   property-crime Eastham Police Department  \\\n",
       "0                                        73   \n",
       "1                                       156   \n",
       "2                                       127   \n",
       "3                                       100   \n",
       "4                                        88   \n",
       "\n",
       "   property-crime Falmouth Police Department  \\\n",
       "0                                       1168   \n",
       "1                                       1069   \n",
       "2                                       1064   \n",
       "3                                        899   \n",
       "4                                        760   \n",
       "\n",
       "   property-crime Harwich Police Department  \\\n",
       "0                                       271   \n",
       "1                                       283   \n",
       "2                                       249   \n",
       "3                                       251   \n",
       "4                                       205   \n",
       "\n",
       "   property-crime Mashpee Police Department  ...  \\\n",
       "0                                       368  ...   \n",
       "1                                       331  ...   \n",
       "2                                       293  ...   \n",
       "3                                       284  ...   \n",
       "4                                       237  ...   \n",
       "\n",
       "   property-crime State Police: Franklin County  \\\n",
       "0                                             1   \n",
       "1                                             0   \n",
       "2                                             0   \n",
       "3                                             1   \n",
       "4                                             0   \n",
       "\n",
       "   property-crime State Police: Hampden County  \\\n",
       "0                                           51   \n",
       "1                                           19   \n",
       "2                                           28   \n",
       "3                                           12   \n",
       "4                                            5   \n",
       "\n",
       "   property-crime State Police: Hampshire County  \\\n",
       "0                                              2   \n",
       "1                                              2   \n",
       "2                                              3   \n",
       "3                                              0   \n",
       "4                                              5   \n",
       "\n",
       "   property-crime State Police: Middlesex County  \\\n",
       "0                                            7.0   \n",
       "1                                            3.0   \n",
       "2                                            0.0   \n",
       "3                                            1.0   \n",
       "4                                            NaN   \n",
       "\n",
       "   property-crime State Police: Nantucket County  \\\n",
       "0                                            NaN   \n",
       "1                                            NaN   \n",
       "2                                            NaN   \n",
       "3                                            NaN   \n",
       "4                                            NaN   \n",
       "\n",
       "   property-crime State Police: Norfolk County  \\\n",
       "0                                            5   \n",
       "1                                            3   \n",
       "2                                            1   \n",
       "3                                            5   \n",
       "4                                            0   \n",
       "\n",
       "   property-crime State Police: Plymouth County  \\\n",
       "0                                           4.0   \n",
       "1                                           2.0   \n",
       "2                                           1.0   \n",
       "3                                           NaN   \n",
       "4                                           NaN   \n",
       "\n",
       "   property-crime State Police: Suffolk County  \\\n",
       "0                                          NaN   \n",
       "1                                          NaN   \n",
       "2                                          NaN   \n",
       "3                                         14.0   \n",
       "4                                          NaN   \n",
       "\n",
       "   property-crime State Police: Worcester County  \\\n",
       "0                                              0   \n",
       "1                                              2   \n",
       "2                                              1   \n",
       "3                                              1   \n",
       "4                                              2   \n",
       "\n",
       "   property-crime Wampanoag Tribe of Gay Head  \n",
       "0                                         NaN  \n",
       "1                                         NaN  \n",
       "2                                         3.0  \n",
       "3                                         NaN  \n",
       "4                                         NaN  \n",
       "\n",
       "[5 rows x 397 columns]"
      ]
     },
     "execution_count": 196,
     "metadata": {},
     "output_type": "execute_result"
    }
   ],
   "source": [
    "# Check first five rows of the table\n",
    "df_crime_API.head()"
   ]
  },
  {
   "cell_type": "code",
   "execution_count": 140,
   "id": "b91855c7",
   "metadata": {},
   "outputs": [
    {
     "name": "stdout",
     "output_type": "stream",
     "text": [
      "<class 'pandas.core.frame.DataFrame'>\n",
      "RangeIndex: 10 entries, 0 to 9\n",
      "Columns: 397 entries, year to property-crime Wampanoag Tribe of Gay Head\n",
      "dtypes: float64(92), int64(305)\n",
      "memory usage: 31.1 KB\n"
     ]
    }
   ],
   "source": [
    "# Print out information about the table\n",
    "df_crime_API.info()"
   ]
  },
  {
   "cell_type": "markdown",
   "id": "91965830",
   "metadata": {},
   "source": [
    "## Uploading tables into the database"
   ]
  },
  {
   "cell_type": "code",
   "execution_count": 141,
   "id": "a9f8c483",
   "metadata": {},
   "outputs": [
    {
     "data": {
      "text/plain": [
       "10"
      ]
     },
     "execution_count": 141,
     "metadata": {},
     "output_type": "execute_result"
    }
   ],
   "source": [
    "# Upload prices table to the database using sqlite3 and connected database\n",
    "df_prices.to_sql('prices', conn, if_exists='append')"
   ]
  },
  {
   "cell_type": "code",
   "execution_count": 142,
   "id": "b1a68d3d",
   "metadata": {},
   "outputs": [
    {
     "data": {
      "text/plain": [
       "70"
      ]
     },
     "execution_count": 142,
     "metadata": {},
     "output_type": "execute_result"
    }
   ],
   "source": [
    "# Upload race table to the database using sqlite3 and connected database\n",
    "df_race.to_sql('race', conn, if_exists='append')"
   ]
  },
  {
   "cell_type": "code",
   "execution_count": 143,
   "id": "3918c31f",
   "metadata": {},
   "outputs": [
    {
     "data": {
      "text/plain": [
       "10"
      ]
     },
     "execution_count": 143,
     "metadata": {},
     "output_type": "execute_result"
    }
   ],
   "source": [
    "# Upload population table to the database using sqlite3 and connected database\n",
    "df_pop.to_sql('population', conn, if_exists='append')"
   ]
  },
  {
   "cell_type": "code",
   "execution_count": 144,
   "id": "393bcc9d",
   "metadata": {},
   "outputs": [
    {
     "data": {
      "text/plain": [
       "2"
      ]
     },
     "execution_count": 144,
     "metadata": {},
     "output_type": "execute_result"
    }
   ],
   "source": [
    "# Upload population change table to the database using sqlite3 and connected database\n",
    "df_pop_change.to_sql('population_change', conn, if_exists='append')"
   ]
  },
  {
   "cell_type": "code",
   "execution_count": 145,
   "id": "c2ab651d",
   "metadata": {},
   "outputs": [
    {
     "data": {
      "text/plain": [
       "9"
      ]
     },
     "execution_count": 145,
     "metadata": {},
     "output_type": "execute_result"
    }
   ],
   "source": [
    "# Upload crimes table to the database using sqlite3 and connected database\n",
    "df_crime_html.to_sql('crimes', conn, if_exists='append')"
   ]
  },
  {
   "cell_type": "code",
   "execution_count": 146,
   "id": "b10981e5",
   "metadata": {},
   "outputs": [
    {
     "data": {
      "text/plain": [
       "10"
      ]
     },
     "execution_count": 146,
     "metadata": {},
     "output_type": "execute_result"
    }
   ],
   "source": [
    "# Upload property crimes by town table to the database using sqlite3 and connected database\n",
    "df_crime_API.to_sql('property_crimes', conn, if_exists='append')"
   ]
  },
  {
   "cell_type": "code",
   "execution_count": 147,
   "id": "79de1d36",
   "metadata": {},
   "outputs": [],
   "source": [
    "# Commit the chnages to the data base\n",
    "conn.commit()"
   ]
  },
  {
   "cell_type": "markdown",
   "id": "73286df2",
   "metadata": {},
   "source": [
    "## Combining tables from the database into one using year as a common key"
   ]
  },
  {
   "cell_type": "code",
   "execution_count": 148,
   "id": "05a4963c",
   "metadata": {},
   "outputs": [],
   "source": [
    "# Create a query to join all table in the data base by corresponding year information\n",
    "\n",
    "query = \"\"\"\n",
    "        SELECT *\n",
    "        FROM prices\n",
    "        LEFT JOIN race ON prices.Year = race.Year\n",
    "        LEFT JOIN population ON prices.Year = population.Year\n",
    "        LEFT JOIN population_change ON prices.Year = population_change.Census_Year\n",
    "        LEFT JOIN crimes ON prices.Year = crimes.year\n",
    "        LEFT JOIN property_crimes ON prices.Year = property_crimes.year\n",
    "        \"\"\""
   ]
  },
  {
   "cell_type": "code",
   "execution_count": 149,
   "id": "349dc79f",
   "metadata": {},
   "outputs": [],
   "source": [
    "# Create a variable that stores joined tables and fetch all rows in it\n",
    "combined = cursor.execute(query)\n",
    "rows = combined.fetchall()"
   ]
  },
  {
   "cell_type": "code",
   "execution_count": 150,
   "id": "c060f307",
   "metadata": {},
   "outputs": [],
   "source": [
    "# Cretate a list of columns from the joined table description\n",
    "columns = [col[0] for col in combined.description]"
   ]
  },
  {
   "cell_type": "code",
   "execution_count": 151,
   "id": "4ae5b965",
   "metadata": {},
   "outputs": [],
   "source": [
    "# using pandas create a combined data frame\n",
    "df = pd.DataFrame(rows, columns=columns)"
   ]
  },
  {
   "cell_type": "code",
   "execution_count": 152,
   "id": "5ed808ca",
   "metadata": {},
   "outputs": [
    {
     "data": {
      "text/html": [
       "<div>\n",
       "<style scoped>\n",
       "    .dataframe tbody tr th:only-of-type {\n",
       "        vertical-align: middle;\n",
       "    }\n",
       "\n",
       "    .dataframe tbody tr th {\n",
       "        vertical-align: top;\n",
       "    }\n",
       "\n",
       "    .dataframe thead th {\n",
       "        text-align: right;\n",
       "    }\n",
       "</style>\n",
       "<table border=\"1\" class=\"dataframe\">\n",
       "  <thead>\n",
       "    <tr style=\"text-align: right;\">\n",
       "      <th></th>\n",
       "      <th>index</th>\n",
       "      <th>Year</th>\n",
       "      <th>Yearly_Average_Price</th>\n",
       "      <th>index</th>\n",
       "      <th>Year</th>\n",
       "      <th>Race</th>\n",
       "      <th>Percent</th>\n",
       "      <th>Count</th>\n",
       "      <th>index</th>\n",
       "      <th>Year</th>\n",
       "      <th>...</th>\n",
       "      <th>property-crime State Police: Franklin County</th>\n",
       "      <th>property-crime State Police: Hampden County</th>\n",
       "      <th>property-crime State Police: Hampshire County</th>\n",
       "      <th>property-crime State Police: Middlesex County</th>\n",
       "      <th>property-crime State Police: Nantucket County</th>\n",
       "      <th>property-crime State Police: Norfolk County</th>\n",
       "      <th>property-crime State Police: Plymouth County</th>\n",
       "      <th>property-crime State Police: Suffolk County</th>\n",
       "      <th>property-crime State Police: Worcester County</th>\n",
       "      <th>property-crime Wampanoag Tribe of Gay Head</th>\n",
       "    </tr>\n",
       "  </thead>\n",
       "  <tbody>\n",
       "    <tr>\n",
       "      <th>0</th>\n",
       "      <td>0</td>\n",
       "      <td>2010</td>\n",
       "      <td>302030.4085</td>\n",
       "      <td>0</td>\n",
       "      <td>2010</td>\n",
       "      <td>American Indian/Alaskan Native</td>\n",
       "      <td>0.18%</td>\n",
       "      <td>11,719</td>\n",
       "      <td>0</td>\n",
       "      <td>2010</td>\n",
       "      <td>...</td>\n",
       "      <td>1</td>\n",
       "      <td>51</td>\n",
       "      <td>2</td>\n",
       "      <td>7.0</td>\n",
       "      <td>NaN</td>\n",
       "      <td>5</td>\n",
       "      <td>4.0</td>\n",
       "      <td>NaN</td>\n",
       "      <td>0</td>\n",
       "      <td>NaN</td>\n",
       "    </tr>\n",
       "    <tr>\n",
       "      <th>1</th>\n",
       "      <td>0</td>\n",
       "      <td>2010</td>\n",
       "      <td>302030.4085</td>\n",
       "      <td>1</td>\n",
       "      <td>2010</td>\n",
       "      <td>Asian</td>\n",
       "      <td>5.46%</td>\n",
       "      <td>358,233</td>\n",
       "      <td>0</td>\n",
       "      <td>2010</td>\n",
       "      <td>...</td>\n",
       "      <td>1</td>\n",
       "      <td>51</td>\n",
       "      <td>2</td>\n",
       "      <td>7.0</td>\n",
       "      <td>NaN</td>\n",
       "      <td>5</td>\n",
       "      <td>4.0</td>\n",
       "      <td>NaN</td>\n",
       "      <td>0</td>\n",
       "      <td>NaN</td>\n",
       "    </tr>\n",
       "    <tr>\n",
       "      <th>2</th>\n",
       "      <td>0</td>\n",
       "      <td>2010</td>\n",
       "      <td>302030.4085</td>\n",
       "      <td>2</td>\n",
       "      <td>2010</td>\n",
       "      <td>Black</td>\n",
       "      <td>6.39%</td>\n",
       "      <td>419,841</td>\n",
       "      <td>0</td>\n",
       "      <td>2010</td>\n",
       "      <td>...</td>\n",
       "      <td>1</td>\n",
       "      <td>51</td>\n",
       "      <td>2</td>\n",
       "      <td>7.0</td>\n",
       "      <td>NaN</td>\n",
       "      <td>5</td>\n",
       "      <td>4.0</td>\n",
       "      <td>NaN</td>\n",
       "      <td>0</td>\n",
       "      <td>NaN</td>\n",
       "    </tr>\n",
       "    <tr>\n",
       "      <th>3</th>\n",
       "      <td>0</td>\n",
       "      <td>2010</td>\n",
       "      <td>302030.4085</td>\n",
       "      <td>3</td>\n",
       "      <td>2010</td>\n",
       "      <td>Hispanic</td>\n",
       "      <td>9.66%</td>\n",
       "      <td>634,029</td>\n",
       "      <td>0</td>\n",
       "      <td>2010</td>\n",
       "      <td>...</td>\n",
       "      <td>1</td>\n",
       "      <td>51</td>\n",
       "      <td>2</td>\n",
       "      <td>7.0</td>\n",
       "      <td>NaN</td>\n",
       "      <td>5</td>\n",
       "      <td>4.0</td>\n",
       "      <td>NaN</td>\n",
       "      <td>0</td>\n",
       "      <td>NaN</td>\n",
       "    </tr>\n",
       "    <tr>\n",
       "      <th>4</th>\n",
       "      <td>0</td>\n",
       "      <td>2010</td>\n",
       "      <td>302030.4085</td>\n",
       "      <td>4</td>\n",
       "      <td>2010</td>\n",
       "      <td>Native Hawaiian/Other Pacific Islander</td>\n",
       "      <td>0.04%</td>\n",
       "      <td>2,489</td>\n",
       "      <td>0</td>\n",
       "      <td>2010</td>\n",
       "      <td>...</td>\n",
       "      <td>1</td>\n",
       "      <td>51</td>\n",
       "      <td>2</td>\n",
       "      <td>7.0</td>\n",
       "      <td>NaN</td>\n",
       "      <td>5</td>\n",
       "      <td>4.0</td>\n",
       "      <td>NaN</td>\n",
       "      <td>0</td>\n",
       "      <td>NaN</td>\n",
       "    </tr>\n",
       "  </tbody>\n",
       "</table>\n",
       "<p>5 rows × 425 columns</p>\n",
       "</div>"
      ],
      "text/plain": [
       "   index  Year  Yearly_Average_Price  index  Year  \\\n",
       "0      0  2010           302030.4085      0  2010   \n",
       "1      0  2010           302030.4085      1  2010   \n",
       "2      0  2010           302030.4085      2  2010   \n",
       "3      0  2010           302030.4085      3  2010   \n",
       "4      0  2010           302030.4085      4  2010   \n",
       "\n",
       "                                     Race Percent    Count  index  Year  ...  \\\n",
       "0          American Indian/Alaskan Native   0.18%   11,719      0  2010  ...   \n",
       "1                                   Asian   5.46%  358,233      0  2010  ...   \n",
       "2                                   Black   6.39%  419,841      0  2010  ...   \n",
       "3                                Hispanic   9.66%  634,029      0  2010  ...   \n",
       "4  Native Hawaiian/Other Pacific Islander   0.04%    2,489      0  2010  ...   \n",
       "\n",
       "   property-crime State Police: Franklin County  \\\n",
       "0                                             1   \n",
       "1                                             1   \n",
       "2                                             1   \n",
       "3                                             1   \n",
       "4                                             1   \n",
       "\n",
       "   property-crime State Police: Hampden County  \\\n",
       "0                                           51   \n",
       "1                                           51   \n",
       "2                                           51   \n",
       "3                                           51   \n",
       "4                                           51   \n",
       "\n",
       "   property-crime State Police: Hampshire County  \\\n",
       "0                                              2   \n",
       "1                                              2   \n",
       "2                                              2   \n",
       "3                                              2   \n",
       "4                                              2   \n",
       "\n",
       "   property-crime State Police: Middlesex County  \\\n",
       "0                                            7.0   \n",
       "1                                            7.0   \n",
       "2                                            7.0   \n",
       "3                                            7.0   \n",
       "4                                            7.0   \n",
       "\n",
       "  property-crime State Police: Nantucket County  \\\n",
       "0                                           NaN   \n",
       "1                                           NaN   \n",
       "2                                           NaN   \n",
       "3                                           NaN   \n",
       "4                                           NaN   \n",
       "\n",
       "   property-crime State Police: Norfolk County  \\\n",
       "0                                            5   \n",
       "1                                            5   \n",
       "2                                            5   \n",
       "3                                            5   \n",
       "4                                            5   \n",
       "\n",
       "   property-crime State Police: Plymouth County  \\\n",
       "0                                           4.0   \n",
       "1                                           4.0   \n",
       "2                                           4.0   \n",
       "3                                           4.0   \n",
       "4                                           4.0   \n",
       "\n",
       "   property-crime State Police: Suffolk County  \\\n",
       "0                                          NaN   \n",
       "1                                          NaN   \n",
       "2                                          NaN   \n",
       "3                                          NaN   \n",
       "4                                          NaN   \n",
       "\n",
       "   property-crime State Police: Worcester County  \\\n",
       "0                                              0   \n",
       "1                                              0   \n",
       "2                                              0   \n",
       "3                                              0   \n",
       "4                                              0   \n",
       "\n",
       "   property-crime Wampanoag Tribe of Gay Head  \n",
       "0                                         NaN  \n",
       "1                                         NaN  \n",
       "2                                         NaN  \n",
       "3                                         NaN  \n",
       "4                                         NaN  \n",
       "\n",
       "[5 rows x 425 columns]"
      ]
     },
     "execution_count": 152,
     "metadata": {},
     "output_type": "execute_result"
    }
   ],
   "source": [
    "# check first five rows\n",
    "df.head()"
   ]
  },
  {
   "cell_type": "code",
   "execution_count": 153,
   "id": "6ab27cad",
   "metadata": {},
   "outputs": [
    {
     "name": "stdout",
     "output_type": "stream",
     "text": [
      "<class 'pandas.core.frame.DataFrame'>\n",
      "RangeIndex: 70 entries, 0 to 69\n",
      "Columns: 425 entries, index to property-crime Wampanoag Tribe of Gay Head\n",
      "dtypes: float64(108), int64(313), object(4)\n",
      "memory usage: 232.6+ KB\n"
     ]
    }
   ],
   "source": [
    "# Check the inforamtion \n",
    "df.info()"
   ]
  },
  {
   "cell_type": "markdown",
   "id": "dda4c3fe",
   "metadata": {},
   "source": [
    "## Data Visualization. Plots 2 and 4 were built based on data from separate tables"
   ]
  },
  {
   "cell_type": "markdown",
   "id": "eef55d7f",
   "metadata": {},
   "source": [
    "### Plot 1 - Line chart. Chnge the average real estate price by year"
   ]
  },
  {
   "cell_type": "code",
   "execution_count": 154,
   "id": "95bb2169",
   "metadata": {},
   "outputs": [
    {
     "data": {
      "text/plain": [
       "<function matplotlib.pyplot.show(close=None, block=None)>"
      ]
     },
     "execution_count": 154,
     "metadata": {},
     "output_type": "execute_result"
    },
    {
     "data": {
      "image/png": "[encoded data removed]",
      "text/plain": [
       "<Figure size 640x480 with 1 Axes>"
      ]
     },
     "metadata": {},
     "output_type": "display_data"
    }
   ],
   "source": [
    "# Using matplotlib create a line plot with Year inforamtion vs average property prices\n",
    "plt.plot(df['Year'], df['Yearly_Average_Price'], marker='o', linestyle='-')\n",
    "\n",
    "# Assign title and axis\n",
    "plt.title('Average house price change in MA 2010-2019')\n",
    "plt.xlabel('Year')\n",
    "plt.ylabel('Average Price($)')\n",
    "\n",
    "# Display the plot\n",
    "plt.show"
   ]
  },
  {
   "cell_type": "markdown",
   "id": "7b0c48e0",
   "metadata": {},
   "source": [
    "### Plot 2 - Scatter plot. Property crime vs Average price. "
   ]
  },
  {
   "cell_type": "code",
   "execution_count": 155,
   "id": "0f0af618",
   "metadata": {},
   "outputs": [
    {
     "data": {
      "text/plain": [
       "<function matplotlib.pyplot.show(close=None, block=None)>"
      ]
     },
     "execution_count": 155,
     "metadata": {},
     "output_type": "execute_result"
    },
    {
     "data": {
      "image/png": "[encoded data removed]",
      "text/plain": [
       "<Figure size 640x480 with 1 Axes>"
      ]
     },
     "metadata": {},
     "output_type": "display_data"
    }
   ],
   "source": [
    "# Create a scatter plot \n",
    "plt.scatter(df['Propertycrime'], df['Yearly_Average_Price'], marker='o', linestyle='-', color = 'green')\n",
    "plt.title('Property crime rate vs Property Value')\n",
    "plt.xlabel('Property crimes')\n",
    "plt.ylabel('Average Price($)')\n",
    "plt.show"
   ]
  },
  {
   "cell_type": "markdown",
   "id": "a8db86b9",
   "metadata": {},
   "source": [
    "### Plot 3 - Bar graph. Count by race"
   ]
  },
  {
   "cell_type": "code",
   "execution_count": 156,
   "id": "c629c5e4",
   "metadata": {},
   "outputs": [],
   "source": [
    "# Convert the count column to numeric and Race column to string\n",
    "df['Count'] = df['Count'].replace(',', '', regex=True).apply(pd.to_numeric)\n",
    "df['Race'] = df['Race'].astype(str)"
   ]
  },
  {
   "cell_type": "code",
   "execution_count": 157,
   "id": "cab8991b",
   "metadata": {},
   "outputs": [
    {
     "data": {
      "image/png": "[encoded data removed]",
      "text/plain": [
       "<Figure size 1000x600 with 1 Axes>"
      ]
     },
     "metadata": {},
     "output_type": "display_data"
    }
   ],
   "source": [
    "# Create a bar graph\n",
    "plt.figure(figsize=(10,6))\n",
    "\n",
    "plt.bar(df['Race'], df['Count'], color='green')\n",
    "\n",
    "# Assign labels and title\n",
    "plt.title('Count of Each race (2010-2019)')\n",
    "plt.xlabel('Race')\n",
    "plt.ylabel('Count')\n",
    "plt.xticks(fontsize =(9), rotation = 45, ha = 'right')\n",
    "# Display the plot\n",
    "plt.show()"
   ]
  },
  {
   "cell_type": "markdown",
   "id": "035ef7d8",
   "metadata": {},
   "source": [
    "### Plot 4 -  Bar graph. % population by race. "
   ]
  },
  {
   "cell_type": "code",
   "execution_count": 158,
   "id": "dbf946b2",
   "metadata": {},
   "outputs": [],
   "source": [
    "# Create a subset dataframe\n",
    "df_grouped_race = df[['year', 'Race', 'Count']]\n"
   ]
  },
  {
   "cell_type": "code",
   "execution_count": 160,
   "id": "7878e75b",
   "metadata": {},
   "outputs": [],
   "source": [
    "# Using group by function group the data by race\n",
    "df_grouped_race = df_grouped_race.groupby('Race').sum()"
   ]
  },
  {
   "cell_type": "code",
   "execution_count": 161,
   "id": "4860ff85",
   "metadata": {},
   "outputs": [],
   "source": [
    "# Drop year column\n",
    "df_grouped_race.drop('year',axis = 1, inplace = True)"
   ]
  },
  {
   "cell_type": "code",
   "execution_count": 162,
   "id": "87ba7d0e",
   "metadata": {},
   "outputs": [
    {
     "data": {
      "text/html": [
       "<div>\n",
       "<style scoped>\n",
       "    .dataframe tbody tr th:only-of-type {\n",
       "        vertical-align: middle;\n",
       "    }\n",
       "\n",
       "    .dataframe tbody tr th {\n",
       "        vertical-align: top;\n",
       "    }\n",
       "\n",
       "    .dataframe thead th {\n",
       "        text-align: right;\n",
       "    }\n",
       "</style>\n",
       "<table border=\"1\" class=\"dataframe\">\n",
       "  <thead>\n",
       "    <tr style=\"text-align: right;\">\n",
       "      <th></th>\n",
       "      <th>Count</th>\n",
       "    </tr>\n",
       "    <tr>\n",
       "      <th>Race</th>\n",
       "      <th></th>\n",
       "    </tr>\n",
       "  </thead>\n",
       "  <tbody>\n",
       "    <tr>\n",
       "      <th>American Indian/Alaskan Native</th>\n",
       "      <td>121006</td>\n",
       "    </tr>\n",
       "    <tr>\n",
       "      <th>Asian</th>\n",
       "      <td>4264411</td>\n",
       "    </tr>\n",
       "    <tr>\n",
       "      <th>Black</th>\n",
       "      <td>4650982</td>\n",
       "    </tr>\n",
       "    <tr>\n",
       "      <th>Hispanic</th>\n",
       "      <td>7491782</td>\n",
       "    </tr>\n",
       "    <tr>\n",
       "      <th>Native Hawaiian/Other Pacific Islander</th>\n",
       "      <td>2489</td>\n",
       "    </tr>\n",
       "    <tr>\n",
       "      <th>Native Hawaiin/Other Pacific Islander</th>\n",
       "      <td>24680</td>\n",
       "    </tr>\n",
       "    <tr>\n",
       "      <th>Two or More Races</th>\n",
       "      <td>1142859</td>\n",
       "    </tr>\n",
       "    <tr>\n",
       "      <th>White</th>\n",
       "      <td>49889986</td>\n",
       "    </tr>\n",
       "  </tbody>\n",
       "</table>\n",
       "</div>"
      ],
      "text/plain": [
       "                                           Count\n",
       "Race                                            \n",
       "American Indian/Alaskan Native            121006\n",
       "Asian                                    4264411\n",
       "Black                                    4650982\n",
       "Hispanic                                 7491782\n",
       "Native Hawaiian/Other Pacific Islander      2489\n",
       "Native Hawaiin/Other Pacific Islander      24680\n",
       "Two or More Races                        1142859\n",
       "White                                   49889986"
      ]
     },
     "execution_count": 162,
     "metadata": {},
     "output_type": "execute_result"
    }
   ],
   "source": [
    "# Check the table\n",
    "df_grouped_race\n"
   ]
  },
  {
   "cell_type": "code",
   "execution_count": 163,
   "id": "632455f8",
   "metadata": {},
   "outputs": [],
   "source": [
    "# Create a population variable \n",
    "df_popul = df['Population']"
   ]
  },
  {
   "cell_type": "code",
   "execution_count": 166,
   "id": "9104199b",
   "metadata": {},
   "outputs": [],
   "source": [
    "# Sum all population to get total count from 2010 to 2019\n",
    "df_popul = df_popul.sum()"
   ]
  },
  {
   "cell_type": "code",
   "execution_count": 169,
   "id": "70f5f7a5",
   "metadata": {},
   "outputs": [],
   "source": [
    "# Create a percentage column by devident count by race by total population and multiplying by 100\n",
    "df_grouped_race[\"Percentage\"] = df_grouped_race['Count']/df_popul *100"
   ]
  },
  {
   "cell_type": "code",
   "execution_count": 174,
   "id": "6bb5b311",
   "metadata": {},
   "outputs": [],
   "source": [
    "# Reset the index so race column is not used as index \n",
    "df_grouped_race = df_grouped_race.reset_index()"
   ]
  },
  {
   "cell_type": "code",
   "execution_count": 175,
   "id": "b4a7993e",
   "metadata": {},
   "outputs": [
    {
     "data": {
      "image/png": "[encoded data removed]",
      "text/plain": [
       "<Figure size 1000x600 with 1 Axes>"
      ]
     },
     "metadata": {},
     "output_type": "display_data"
    }
   ],
   "source": [
    "\n",
    "# Plot a bar graph\n",
    "plt.figure(figsize=(10,6))\n",
    "\n",
    "plt.bar(df_grouped_race['Race'], df_grouped_race['Percentage'], color='green')\n",
    "\n",
    "# Adding labels and title\n",
    "plt.title('% Population by Race')\n",
    "plt.xlabel('Race')\n",
    "plt.ylabel('Percentage (%)')\n",
    "plt.xticks(fontsize =(9), rotation = 45, ha = 'right')\n",
    "# Display the plot\n",
    "plt.show()"
   ]
  },
  {
   "cell_type": "markdown",
   "id": "d4dfc7ba",
   "metadata": {},
   "source": [
    "### Plot 5 - Line plot. Robberies, Property crimes and Burglaries in MA by Year. Plot a scatter plot for different types of crime change by year. Please note that the crimes for 2016 were not reported."
   ]
  },
  {
   "cell_type": "code",
   "execution_count": 206,
   "id": "6fc406a8",
   "metadata": {},
   "outputs": [
    {
     "data": {
      "text/plain": [
       "<function matplotlib.pyplot.show(close=None, block=None)>"
      ]
     },
     "execution_count": 206,
     "metadata": {},
     "output_type": "execute_result"
    },
    {
     "data": {
      "image/png": "[encoded data removed]",
      "text/plain": [
       "<Figure size 1000x1000 with 1 Axes>"
      ]
     },
     "metadata": {},
     "output_type": "display_data"
    }
   ],
   "source": [
    "# Using matplot plot a line graph for 3 types of crimes\n",
    "plt.figure(figsize = (10,10))\n",
    "plt.plot(df['year'], df['Propertycrime'], label='Propertycrime', color = 'green')\n",
    "plt.plot(df['year'], df['Burglary'], label='Burglary', color = 'blue')\n",
    "plt.plot(df['year'], df['Robbery'], label='Robbery', color = 'red') \n",
    "    \n",
    "plt.title('Robberies, Property crimes and Burglaries in MA by Yea')\n",
    "plt.xlabel('Year')\n",
    "plt.ylabel('Crimes')\n",
    "plt.legend()\n",
    "plt.show"
   ]
  },
  {
   "cell_type": "code",
   "execution_count": 205,
   "id": "d5c4f0ac",
   "metadata": {},
   "outputs": [],
   "source": [
    "# Close connection\n",
    "conn.close()\n"
   ]
  }
 ],
 "metadata": {
  "kernelspec": {
   "display_name": "Python 3 (ipykernel)",
   "language": "python",
   "name": "python3"
  },
  "language_info": {
   "codemirror_mode": {
    "name": "ipython",
    "version": 3
   },
   "file_extension": ".py",
   "mimetype": "text/x-python",
   "name": "python",
   "nbconvert_exporter": "python",
   "pygments_lexer": "ipython3",
   "version": "3.9.19"
  }
 },
 "nbformat": 4,
 "nbformat_minor": 5
}
